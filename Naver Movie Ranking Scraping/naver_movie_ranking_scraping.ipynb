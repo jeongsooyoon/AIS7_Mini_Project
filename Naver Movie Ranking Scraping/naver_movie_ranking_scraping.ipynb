{
 "cells": [
  {
   "cell_type": "markdown",
   "id": "37tXl3gZF4-0",
   "metadata": {
    "id": "37tXl3gZF4-0"
   },
   "source": [
    "## 라이브러리 불러오기"
   ]
  },
  {
   "cell_type": "code",
   "execution_count": 45,
   "id": "dd72bd15",
   "metadata": {
    "id": "dd72bd15"
   },
   "outputs": [],
   "source": [
    "import pandas as pd\n",
    "import requests\n",
    "from datetime import datetime, timedelta\n",
    "import matplotlib.pyplot as plt"
   ]
  },
  {
   "cell_type": "code",
   "execution_count": 46,
   "id": "0e905f17",
   "metadata": {},
   "outputs": [],
   "source": [
    "# 한글깨짐(주피터)\n",
    "plt.rcParams['font.family'] = 'Malgun Gothic'\n",
    "\n",
    "#한글깨짐(구글코랩)\n",
    "# !sudo apt-get install -y fonts-nanum\n",
    "# !sudo fc-cache -fv\n",
    "# !rm ~/.cache/matplotlib -rf"
   ]
  },
  {
   "cell_type": "markdown",
   "id": "PD94DBz-F705",
   "metadata": {
    "id": "PD94DBz-F705"
   },
   "source": [
    "## 네이버 영화 랭킹 - 평점순(현재 상영영화) 일별 페이지 불러오기"
   ]
  },
  {
   "cell_type": "code",
   "execution_count": 47,
   "id": "a982715e",
   "metadata": {
    "id": "a982715e"
   },
   "outputs": [],
   "source": [
    "def get_week_score(sel, date):\n",
    "    url = f\"https://movie.naver.com/movie/sdb/rank/rmovie.naver?sel={sel}&tg=0&date={date}\"\n",
    "\n",
    "    response = requests.get(url)\n",
    "\n",
    "    table = pd.read_html(response.text)\n",
    "    tmp = table[0]\n",
    "    \n",
    "    df = tmp[[\"영화명\",\"평점.1\"]]\n",
    "    df = df.dropna()\n",
    "    df = df.reset_index(drop=True)\n",
    "    \n",
    "    df.columns = [\"영화\", date]\n",
    "\n",
    "    return df"
   ]
  },
  {
   "cell_type": "code",
   "execution_count": 48,
   "id": "f3vHnoRBEUIJ",
   "metadata": {
    "id": "f3vHnoRBEUIJ"
   },
   "outputs": [
    {
     "data": {
      "text/html": [
       "<div>\n",
       "<style scoped>\n",
       "    .dataframe tbody tr th:only-of-type {\n",
       "        vertical-align: middle;\n",
       "    }\n",
       "\n",
       "    .dataframe tbody tr th {\n",
       "        vertical-align: top;\n",
       "    }\n",
       "\n",
       "    .dataframe thead th {\n",
       "        text-align: right;\n",
       "    }\n",
       "</style>\n",
       "<table border=\"1\" class=\"dataframe\">\n",
       "  <thead>\n",
       "    <tr style=\"text-align: right;\">\n",
       "      <th></th>\n",
       "      <th>영화</th>\n",
       "      <th>20220926</th>\n",
       "    </tr>\n",
       "  </thead>\n",
       "  <tbody>\n",
       "    <tr>\n",
       "      <th>0</th>\n",
       "      <td>탑건: 매버릭</td>\n",
       "      <td>9.77</td>\n",
       "    </tr>\n",
       "    <tr>\n",
       "      <th>1</th>\n",
       "      <td>인생은 뷰티풀: 비타돌체</td>\n",
       "      <td>9.74</td>\n",
       "    </tr>\n",
       "    <tr>\n",
       "      <th>2</th>\n",
       "      <td>명탐정 코난: 할로윈의 신부</td>\n",
       "      <td>9.47</td>\n",
       "    </tr>\n",
       "    <tr>\n",
       "      <th>3</th>\n",
       "      <td>극장판 주술회전 0</td>\n",
       "      <td>9.23</td>\n",
       "    </tr>\n",
       "    <tr>\n",
       "      <th>4</th>\n",
       "      <td>사랑은 비를 타고</td>\n",
       "      <td>9.21</td>\n",
       "    </tr>\n",
       "    <tr>\n",
       "      <th>5</th>\n",
       "      <td>코다</td>\n",
       "      <td>9.14</td>\n",
       "    </tr>\n",
       "    <tr>\n",
       "      <th>6</th>\n",
       "      <td>1917</td>\n",
       "      <td>8.90</td>\n",
       "    </tr>\n",
       "    <tr>\n",
       "      <th>7</th>\n",
       "      <td>중경삼림</td>\n",
       "      <td>8.89</td>\n",
       "    </tr>\n",
       "    <tr>\n",
       "      <th>8</th>\n",
       "      <td>엘비스</td>\n",
       "      <td>8.83</td>\n",
       "    </tr>\n",
       "    <tr>\n",
       "      <th>9</th>\n",
       "      <td>고양이를 부탁해</td>\n",
       "      <td>8.81</td>\n",
       "    </tr>\n",
       "    <tr>\n",
       "      <th>10</th>\n",
       "      <td>너의 이름은.</td>\n",
       "      <td>8.81</td>\n",
       "    </tr>\n",
       "    <tr>\n",
       "      <th>11</th>\n",
       "      <td>한산: 용의 출현</td>\n",
       "      <td>8.76</td>\n",
       "    </tr>\n",
       "    <tr>\n",
       "      <th>12</th>\n",
       "      <td>본 투 비 블루</td>\n",
       "      <td>8.73</td>\n",
       "    </tr>\n",
       "    <tr>\n",
       "      <th>13</th>\n",
       "      <td>헤어질 결심</td>\n",
       "      <td>8.68</td>\n",
       "    </tr>\n",
       "    <tr>\n",
       "      <th>14</th>\n",
       "      <td>공조2: 인터내셔날</td>\n",
       "      <td>8.67</td>\n",
       "    </tr>\n",
       "    <tr>\n",
       "      <th>15</th>\n",
       "      <td>지금, 이대로가 좋아요</td>\n",
       "      <td>8.65</td>\n",
       "    </tr>\n",
       "    <tr>\n",
       "      <th>16</th>\n",
       "      <td>육사오(6/45)</td>\n",
       "      <td>8.63</td>\n",
       "    </tr>\n",
       "    <tr>\n",
       "      <th>17</th>\n",
       "      <td>라라랜드</td>\n",
       "      <td>8.62</td>\n",
       "    </tr>\n",
       "    <tr>\n",
       "      <th>18</th>\n",
       "      <td>실버라이닝 플레이북</td>\n",
       "      <td>8.57</td>\n",
       "    </tr>\n",
       "    <tr>\n",
       "      <th>19</th>\n",
       "      <td>헌트</td>\n",
       "      <td>8.43</td>\n",
       "    </tr>\n",
       "    <tr>\n",
       "      <th>20</th>\n",
       "      <td>초속5센티미터</td>\n",
       "      <td>8.36</td>\n",
       "    </tr>\n",
       "    <tr>\n",
       "      <th>21</th>\n",
       "      <td>큐어</td>\n",
       "      <td>8.33</td>\n",
       "    </tr>\n",
       "    <tr>\n",
       "      <th>22</th>\n",
       "      <td>비비안 마이어를 찾아서</td>\n",
       "      <td>8.32</td>\n",
       "    </tr>\n",
       "    <tr>\n",
       "      <th>23</th>\n",
       "      <td>리스본행 야간열차</td>\n",
       "      <td>8.31</td>\n",
       "    </tr>\n",
       "    <tr>\n",
       "      <th>24</th>\n",
       "      <td>킬 빌 - 1부</td>\n",
       "      <td>8.30</td>\n",
       "    </tr>\n",
       "    <tr>\n",
       "      <th>25</th>\n",
       "      <td>애프터 양</td>\n",
       "      <td>8.18</td>\n",
       "    </tr>\n",
       "    <tr>\n",
       "      <th>26</th>\n",
       "      <td>릴리 슈슈의 모든 것</td>\n",
       "      <td>8.12</td>\n",
       "    </tr>\n",
       "    <tr>\n",
       "      <th>27</th>\n",
       "      <td>날씨의 아이</td>\n",
       "      <td>7.96</td>\n",
       "    </tr>\n",
       "    <tr>\n",
       "      <th>28</th>\n",
       "      <td>DC 리그 오브 슈퍼-펫</td>\n",
       "      <td>7.78</td>\n",
       "    </tr>\n",
       "    <tr>\n",
       "      <th>29</th>\n",
       "      <td>사랑할 땐 누구나 최악이 된다</td>\n",
       "      <td>7.71</td>\n",
       "    </tr>\n",
       "    <tr>\n",
       "      <th>30</th>\n",
       "      <td>블랙폰</td>\n",
       "      <td>7.69</td>\n",
       "    </tr>\n",
       "    <tr>\n",
       "      <th>31</th>\n",
       "      <td>킬 빌 - 2부</td>\n",
       "      <td>7.61</td>\n",
       "    </tr>\n",
       "    <tr>\n",
       "      <th>32</th>\n",
       "      <td>썸머 필름을 타고!</td>\n",
       "      <td>7.54</td>\n",
       "    </tr>\n",
       "    <tr>\n",
       "      <th>33</th>\n",
       "      <td>놉</td>\n",
       "      <td>6.77</td>\n",
       "    </tr>\n",
       "    <tr>\n",
       "      <th>34</th>\n",
       "      <td>비상선언</td>\n",
       "      <td>6.51</td>\n",
       "    </tr>\n",
       "    <tr>\n",
       "      <th>35</th>\n",
       "      <td>브로커</td>\n",
       "      <td>5.54</td>\n",
       "    </tr>\n",
       "    <tr>\n",
       "      <th>36</th>\n",
       "      <td>늑대사냥</td>\n",
       "      <td>4.33</td>\n",
       "    </tr>\n",
       "  </tbody>\n",
       "</table>\n",
       "</div>"
      ],
      "text/plain": [
       "                  영화  20220926\n",
       "0            탑건: 매버릭      9.77\n",
       "1      인생은 뷰티풀: 비타돌체      9.74\n",
       "2    명탐정 코난: 할로윈의 신부      9.47\n",
       "3         극장판 주술회전 0      9.23\n",
       "4          사랑은 비를 타고      9.21\n",
       "5                 코다      9.14\n",
       "6               1917      8.90\n",
       "7               중경삼림      8.89\n",
       "8                엘비스      8.83\n",
       "9           고양이를 부탁해      8.81\n",
       "10           너의 이름은.      8.81\n",
       "11         한산: 용의 출현      8.76\n",
       "12          본 투 비 블루      8.73\n",
       "13            헤어질 결심      8.68\n",
       "14        공조2: 인터내셔날      8.67\n",
       "15      지금, 이대로가 좋아요      8.65\n",
       "16         육사오(6/45)      8.63\n",
       "17              라라랜드      8.62\n",
       "18        실버라이닝 플레이북      8.57\n",
       "19                헌트      8.43\n",
       "20           초속5센티미터      8.36\n",
       "21                큐어      8.33\n",
       "22      비비안 마이어를 찾아서      8.32\n",
       "23         리스본행 야간열차      8.31\n",
       "24          킬 빌 - 1부      8.30\n",
       "25             애프터 양      8.18\n",
       "26       릴리 슈슈의 모든 것      8.12\n",
       "27            날씨의 아이      7.96\n",
       "28     DC 리그 오브 슈퍼-펫      7.78\n",
       "29  사랑할 땐 누구나 최악이 된다      7.71\n",
       "30               블랙폰      7.69\n",
       "31          킬 빌 - 2부      7.61\n",
       "32        썸머 필름을 타고!      7.54\n",
       "33                 놉      6.77\n",
       "34              비상선언      6.51\n",
       "35               브로커      5.54\n",
       "36              늑대사냥      4.33"
      ]
     },
     "execution_count": 48,
     "metadata": {},
     "output_type": "execute_result"
    }
   ],
   "source": [
    "# 확인\n",
    "sel = \"cur\"\n",
    "date = \"20220926\"\n",
    "get_week_score(sel, date)"
   ]
  },
  {
   "cell_type": "markdown",
   "id": "yZd34i9_V67P",
   "metadata": {
    "id": "yZd34i9_V67P"
   },
   "source": [
    "## 네이버 영화 랭킹 - 평점순(현재 상영 영화) 주별 페이지 불러오기\n",
    "- 9월 마지막주 (20220926 ~ 221002)까지 랭킹 불러오기"
   ]
  },
  {
   "cell_type": "code",
   "execution_count": 49,
   "id": "9f605793",
   "metadata": {
    "id": "9f605793"
   },
   "outputs": [],
   "source": [
    "def get_total_rank(sel, date):\n",
    "    movie_score = pd.DataFrame()\n",
    "\n",
    "    date1 = datetime.strptime(date, \"%Y%m%d\")\n",
    "    date2 = date1+timedelta(days = 6)\n",
    "\n",
    "    # 종료일 까지 반복\n",
    "    while date1 <= date2:\n",
    "        dates = date1.strftime(\"%Y%m%d\")\n",
    "        df = get_week_score(sel, dates)\n",
    "\n",
    "        if dates == date:\n",
    "            movie_score = pd.concat([movie_score, df], axis = 1)\n",
    "        else:\n",
    "            movie_score = pd.merge(movie_score, df, how = 'outer', on = \"영화\")\n",
    "\n",
    "        # 하루 더하기\n",
    "        date1 += timedelta(days=1)\n",
    "\n",
    "    rank = []\n",
    "    for i in range(1, len(movie_score)+1):\n",
    "        rank.append(i)\n",
    "        \n",
    "    movie_score[\"순위\"] = rank\n",
    "    \n",
    "    movie_score = movie_score.set_index(\"순위\")\n",
    "    \n",
    "    return movie_score"
   ]
  },
  {
   "cell_type": "code",
   "execution_count": 50,
   "id": "OiOo9dqLEc0j",
   "metadata": {
    "colab": {
     "base_uri": "https://localhost:8080/",
     "height": 1000
    },
    "id": "OiOo9dqLEc0j",
    "outputId": "56aca30f-8204-4152-e08a-3d664c51b516"
   },
   "outputs": [
    {
     "data": {
      "text/html": [
       "<div>\n",
       "<style scoped>\n",
       "    .dataframe tbody tr th:only-of-type {\n",
       "        vertical-align: middle;\n",
       "    }\n",
       "\n",
       "    .dataframe tbody tr th {\n",
       "        vertical-align: top;\n",
       "    }\n",
       "\n",
       "    .dataframe thead th {\n",
       "        text-align: right;\n",
       "    }\n",
       "</style>\n",
       "<table border=\"1\" class=\"dataframe\">\n",
       "  <thead>\n",
       "    <tr style=\"text-align: right;\">\n",
       "      <th></th>\n",
       "      <th>영화</th>\n",
       "      <th>20220926</th>\n",
       "      <th>20220927</th>\n",
       "      <th>20220928</th>\n",
       "      <th>20220929</th>\n",
       "      <th>20220930</th>\n",
       "      <th>20221001</th>\n",
       "      <th>20221002</th>\n",
       "    </tr>\n",
       "    <tr>\n",
       "      <th>순위</th>\n",
       "      <th></th>\n",
       "      <th></th>\n",
       "      <th></th>\n",
       "      <th></th>\n",
       "      <th></th>\n",
       "      <th></th>\n",
       "      <th></th>\n",
       "      <th></th>\n",
       "    </tr>\n",
       "  </thead>\n",
       "  <tbody>\n",
       "    <tr>\n",
       "      <th>1</th>\n",
       "      <td>탑건: 매버릭</td>\n",
       "      <td>9.77</td>\n",
       "      <td>9.77</td>\n",
       "      <td>9.77</td>\n",
       "      <td>9.77</td>\n",
       "      <td>9.77</td>\n",
       "      <td>9.77</td>\n",
       "      <td>9.77</td>\n",
       "    </tr>\n",
       "    <tr>\n",
       "      <th>2</th>\n",
       "      <td>인생은 뷰티풀: 비타돌체</td>\n",
       "      <td>9.74</td>\n",
       "      <td>9.73</td>\n",
       "      <td>9.73</td>\n",
       "      <td>9.73</td>\n",
       "      <td>9.73</td>\n",
       "      <td>9.73</td>\n",
       "      <td>9.73</td>\n",
       "    </tr>\n",
       "    <tr>\n",
       "      <th>3</th>\n",
       "      <td>명탐정 코난: 할로윈의 신부</td>\n",
       "      <td>9.47</td>\n",
       "      <td>9.47</td>\n",
       "      <td>9.47</td>\n",
       "      <td>9.47</td>\n",
       "      <td>9.47</td>\n",
       "      <td>9.47</td>\n",
       "      <td>9.47</td>\n",
       "    </tr>\n",
       "    <tr>\n",
       "      <th>4</th>\n",
       "      <td>극장판 주술회전 0</td>\n",
       "      <td>9.23</td>\n",
       "      <td>9.24</td>\n",
       "      <td>9.24</td>\n",
       "      <td>9.23</td>\n",
       "      <td>9.23</td>\n",
       "      <td>9.23</td>\n",
       "      <td>9.23</td>\n",
       "    </tr>\n",
       "    <tr>\n",
       "      <th>5</th>\n",
       "      <td>사랑은 비를 타고</td>\n",
       "      <td>9.21</td>\n",
       "      <td>9.20</td>\n",
       "      <td>9.21</td>\n",
       "      <td>9.22</td>\n",
       "      <td>9.22</td>\n",
       "      <td>9.21</td>\n",
       "      <td>9.22</td>\n",
       "    </tr>\n",
       "    <tr>\n",
       "      <th>6</th>\n",
       "      <td>코다</td>\n",
       "      <td>9.14</td>\n",
       "      <td>9.14</td>\n",
       "      <td>9.14</td>\n",
       "      <td>9.14</td>\n",
       "      <td>9.14</td>\n",
       "      <td>NaN</td>\n",
       "      <td>NaN</td>\n",
       "    </tr>\n",
       "    <tr>\n",
       "      <th>7</th>\n",
       "      <td>1917</td>\n",
       "      <td>8.90</td>\n",
       "      <td>8.90</td>\n",
       "      <td>NaN</td>\n",
       "      <td>NaN</td>\n",
       "      <td>NaN</td>\n",
       "      <td>NaN</td>\n",
       "      <td>NaN</td>\n",
       "    </tr>\n",
       "    <tr>\n",
       "      <th>8</th>\n",
       "      <td>중경삼림</td>\n",
       "      <td>8.89</td>\n",
       "      <td>8.89</td>\n",
       "      <td>8.89</td>\n",
       "      <td>8.89</td>\n",
       "      <td>8.89</td>\n",
       "      <td>8.89</td>\n",
       "      <td>8.89</td>\n",
       "    </tr>\n",
       "    <tr>\n",
       "      <th>9</th>\n",
       "      <td>엘비스</td>\n",
       "      <td>8.83</td>\n",
       "      <td>8.83</td>\n",
       "      <td>8.83</td>\n",
       "      <td>8.83</td>\n",
       "      <td>NaN</td>\n",
       "      <td>NaN</td>\n",
       "      <td>NaN</td>\n",
       "    </tr>\n",
       "    <tr>\n",
       "      <th>10</th>\n",
       "      <td>고양이를 부탁해</td>\n",
       "      <td>8.81</td>\n",
       "      <td>8.81</td>\n",
       "      <td>NaN</td>\n",
       "      <td>NaN</td>\n",
       "      <td>NaN</td>\n",
       "      <td>NaN</td>\n",
       "      <td>NaN</td>\n",
       "    </tr>\n",
       "    <tr>\n",
       "      <th>11</th>\n",
       "      <td>너의 이름은.</td>\n",
       "      <td>8.81</td>\n",
       "      <td>8.81</td>\n",
       "      <td>8.81</td>\n",
       "      <td>8.81</td>\n",
       "      <td>8.81</td>\n",
       "      <td>8.81</td>\n",
       "      <td>8.81</td>\n",
       "    </tr>\n",
       "    <tr>\n",
       "      <th>12</th>\n",
       "      <td>한산: 용의 출현</td>\n",
       "      <td>8.76</td>\n",
       "      <td>8.76</td>\n",
       "      <td>8.76</td>\n",
       "      <td>8.76</td>\n",
       "      <td>8.76</td>\n",
       "      <td>8.76</td>\n",
       "      <td>8.76</td>\n",
       "    </tr>\n",
       "    <tr>\n",
       "      <th>13</th>\n",
       "      <td>본 투 비 블루</td>\n",
       "      <td>8.73</td>\n",
       "      <td>8.73</td>\n",
       "      <td>8.73</td>\n",
       "      <td>8.73</td>\n",
       "      <td>8.73</td>\n",
       "      <td>8.73</td>\n",
       "      <td>8.73</td>\n",
       "    </tr>\n",
       "    <tr>\n",
       "      <th>14</th>\n",
       "      <td>헤어질 결심</td>\n",
       "      <td>8.68</td>\n",
       "      <td>8.68</td>\n",
       "      <td>8.68</td>\n",
       "      <td>8.68</td>\n",
       "      <td>8.68</td>\n",
       "      <td>8.68</td>\n",
       "      <td>8.68</td>\n",
       "    </tr>\n",
       "    <tr>\n",
       "      <th>15</th>\n",
       "      <td>공조2: 인터내셔날</td>\n",
       "      <td>8.67</td>\n",
       "      <td>8.66</td>\n",
       "      <td>8.65</td>\n",
       "      <td>8.65</td>\n",
       "      <td>8.64</td>\n",
       "      <td>8.63</td>\n",
       "      <td>8.63</td>\n",
       "    </tr>\n",
       "    <tr>\n",
       "      <th>16</th>\n",
       "      <td>지금, 이대로가 좋아요</td>\n",
       "      <td>8.65</td>\n",
       "      <td>8.65</td>\n",
       "      <td>8.65</td>\n",
       "      <td>8.64</td>\n",
       "      <td>8.65</td>\n",
       "      <td>8.64</td>\n",
       "      <td>8.64</td>\n",
       "    </tr>\n",
       "    <tr>\n",
       "      <th>17</th>\n",
       "      <td>육사오(6/45)</td>\n",
       "      <td>8.63</td>\n",
       "      <td>8.63</td>\n",
       "      <td>8.63</td>\n",
       "      <td>8.63</td>\n",
       "      <td>8.63</td>\n",
       "      <td>8.63</td>\n",
       "      <td>8.63</td>\n",
       "    </tr>\n",
       "    <tr>\n",
       "      <th>18</th>\n",
       "      <td>라라랜드</td>\n",
       "      <td>8.62</td>\n",
       "      <td>8.62</td>\n",
       "      <td>8.62</td>\n",
       "      <td>8.62</td>\n",
       "      <td>8.62</td>\n",
       "      <td>8.62</td>\n",
       "      <td>8.62</td>\n",
       "    </tr>\n",
       "    <tr>\n",
       "      <th>19</th>\n",
       "      <td>실버라이닝 플레이북</td>\n",
       "      <td>8.57</td>\n",
       "      <td>NaN</td>\n",
       "      <td>NaN</td>\n",
       "      <td>NaN</td>\n",
       "      <td>NaN</td>\n",
       "      <td>NaN</td>\n",
       "      <td>NaN</td>\n",
       "    </tr>\n",
       "    <tr>\n",
       "      <th>20</th>\n",
       "      <td>헌트</td>\n",
       "      <td>8.43</td>\n",
       "      <td>8.43</td>\n",
       "      <td>8.43</td>\n",
       "      <td>8.42</td>\n",
       "      <td>8.41</td>\n",
       "      <td>8.41</td>\n",
       "      <td>8.40</td>\n",
       "    </tr>\n",
       "    <tr>\n",
       "      <th>21</th>\n",
       "      <td>초속5센티미터</td>\n",
       "      <td>8.36</td>\n",
       "      <td>8.36</td>\n",
       "      <td>8.36</td>\n",
       "      <td>8.36</td>\n",
       "      <td>8.36</td>\n",
       "      <td>8.36</td>\n",
       "      <td>8.36</td>\n",
       "    </tr>\n",
       "    <tr>\n",
       "      <th>22</th>\n",
       "      <td>큐어</td>\n",
       "      <td>8.33</td>\n",
       "      <td>8.33</td>\n",
       "      <td>8.33</td>\n",
       "      <td>8.32</td>\n",
       "      <td>8.32</td>\n",
       "      <td>8.32</td>\n",
       "      <td>8.32</td>\n",
       "    </tr>\n",
       "    <tr>\n",
       "      <th>23</th>\n",
       "      <td>비비안 마이어를 찾아서</td>\n",
       "      <td>8.32</td>\n",
       "      <td>8.32</td>\n",
       "      <td>8.32</td>\n",
       "      <td>8.32</td>\n",
       "      <td>8.32</td>\n",
       "      <td>8.32</td>\n",
       "      <td>8.32</td>\n",
       "    </tr>\n",
       "    <tr>\n",
       "      <th>24</th>\n",
       "      <td>리스본행 야간열차</td>\n",
       "      <td>8.31</td>\n",
       "      <td>8.31</td>\n",
       "      <td>8.31</td>\n",
       "      <td>8.31</td>\n",
       "      <td>8.31</td>\n",
       "      <td>8.31</td>\n",
       "      <td>8.31</td>\n",
       "    </tr>\n",
       "    <tr>\n",
       "      <th>25</th>\n",
       "      <td>킬 빌 - 1부</td>\n",
       "      <td>8.30</td>\n",
       "      <td>8.30</td>\n",
       "      <td>8.30</td>\n",
       "      <td>8.30</td>\n",
       "      <td>8.30</td>\n",
       "      <td>8.30</td>\n",
       "      <td>8.30</td>\n",
       "    </tr>\n",
       "    <tr>\n",
       "      <th>26</th>\n",
       "      <td>애프터 양</td>\n",
       "      <td>8.18</td>\n",
       "      <td>8.18</td>\n",
       "      <td>8.19</td>\n",
       "      <td>8.19</td>\n",
       "      <td>8.19</td>\n",
       "      <td>8.19</td>\n",
       "      <td>8.19</td>\n",
       "    </tr>\n",
       "    <tr>\n",
       "      <th>27</th>\n",
       "      <td>릴리 슈슈의 모든 것</td>\n",
       "      <td>8.12</td>\n",
       "      <td>8.12</td>\n",
       "      <td>8.12</td>\n",
       "      <td>8.12</td>\n",
       "      <td>8.12</td>\n",
       "      <td>8.12</td>\n",
       "      <td>8.12</td>\n",
       "    </tr>\n",
       "    <tr>\n",
       "      <th>28</th>\n",
       "      <td>날씨의 아이</td>\n",
       "      <td>7.96</td>\n",
       "      <td>7.96</td>\n",
       "      <td>7.96</td>\n",
       "      <td>7.96</td>\n",
       "      <td>7.96</td>\n",
       "      <td>7.96</td>\n",
       "      <td>7.96</td>\n",
       "    </tr>\n",
       "    <tr>\n",
       "      <th>29</th>\n",
       "      <td>DC 리그 오브 슈퍼-펫</td>\n",
       "      <td>7.78</td>\n",
       "      <td>7.78</td>\n",
       "      <td>7.78</td>\n",
       "      <td>7.79</td>\n",
       "      <td>NaN</td>\n",
       "      <td>NaN</td>\n",
       "      <td>NaN</td>\n",
       "    </tr>\n",
       "    <tr>\n",
       "      <th>30</th>\n",
       "      <td>사랑할 땐 누구나 최악이 된다</td>\n",
       "      <td>7.71</td>\n",
       "      <td>7.71</td>\n",
       "      <td>7.71</td>\n",
       "      <td>7.70</td>\n",
       "      <td>7.71</td>\n",
       "      <td>7.72</td>\n",
       "      <td>7.73</td>\n",
       "    </tr>\n",
       "    <tr>\n",
       "      <th>31</th>\n",
       "      <td>블랙폰</td>\n",
       "      <td>7.69</td>\n",
       "      <td>7.69</td>\n",
       "      <td>NaN</td>\n",
       "      <td>NaN</td>\n",
       "      <td>NaN</td>\n",
       "      <td>NaN</td>\n",
       "      <td>NaN</td>\n",
       "    </tr>\n",
       "    <tr>\n",
       "      <th>32</th>\n",
       "      <td>킬 빌 - 2부</td>\n",
       "      <td>7.61</td>\n",
       "      <td>7.61</td>\n",
       "      <td>7.61</td>\n",
       "      <td>7.61</td>\n",
       "      <td>7.61</td>\n",
       "      <td>7.61</td>\n",
       "      <td>7.61</td>\n",
       "    </tr>\n",
       "    <tr>\n",
       "      <th>33</th>\n",
       "      <td>썸머 필름을 타고!</td>\n",
       "      <td>7.54</td>\n",
       "      <td>7.54</td>\n",
       "      <td>7.53</td>\n",
       "      <td>7.53</td>\n",
       "      <td>7.53</td>\n",
       "      <td>7.53</td>\n",
       "      <td>7.53</td>\n",
       "    </tr>\n",
       "    <tr>\n",
       "      <th>34</th>\n",
       "      <td>놉</td>\n",
       "      <td>6.77</td>\n",
       "      <td>6.77</td>\n",
       "      <td>6.77</td>\n",
       "      <td>6.77</td>\n",
       "      <td>6.77</td>\n",
       "      <td>6.77</td>\n",
       "      <td>6.77</td>\n",
       "    </tr>\n",
       "    <tr>\n",
       "      <th>35</th>\n",
       "      <td>비상선언</td>\n",
       "      <td>6.51</td>\n",
       "      <td>6.50</td>\n",
       "      <td>6.50</td>\n",
       "      <td>NaN</td>\n",
       "      <td>NaN</td>\n",
       "      <td>NaN</td>\n",
       "      <td>NaN</td>\n",
       "    </tr>\n",
       "    <tr>\n",
       "      <th>36</th>\n",
       "      <td>브로커</td>\n",
       "      <td>5.54</td>\n",
       "      <td>5.54</td>\n",
       "      <td>5.54</td>\n",
       "      <td>5.54</td>\n",
       "      <td>5.54</td>\n",
       "      <td>5.54</td>\n",
       "      <td>5.54</td>\n",
       "    </tr>\n",
       "    <tr>\n",
       "      <th>37</th>\n",
       "      <td>늑대사냥</td>\n",
       "      <td>4.33</td>\n",
       "      <td>4.33</td>\n",
       "      <td>4.33</td>\n",
       "      <td>4.33</td>\n",
       "      <td>4.34</td>\n",
       "      <td>4.35</td>\n",
       "      <td>4.38</td>\n",
       "    </tr>\n",
       "    <tr>\n",
       "      <th>38</th>\n",
       "      <td>아바타 리마스터링</td>\n",
       "      <td>NaN</td>\n",
       "      <td>9.69</td>\n",
       "      <td>9.65</td>\n",
       "      <td>9.65</td>\n",
       "      <td>9.62</td>\n",
       "      <td>9.59</td>\n",
       "      <td>9.57</td>\n",
       "    </tr>\n",
       "    <tr>\n",
       "      <th>39</th>\n",
       "      <td>시월애</td>\n",
       "      <td>NaN</td>\n",
       "      <td>9.29</td>\n",
       "      <td>9.29</td>\n",
       "      <td>9.29</td>\n",
       "      <td>9.29</td>\n",
       "      <td>9.29</td>\n",
       "      <td>9.29</td>\n",
       "    </tr>\n",
       "    <tr>\n",
       "      <th>40</th>\n",
       "      <td>우리들</td>\n",
       "      <td>NaN</td>\n",
       "      <td>9.28</td>\n",
       "      <td>9.28</td>\n",
       "      <td>9.28</td>\n",
       "      <td>9.28</td>\n",
       "      <td>9.28</td>\n",
       "      <td>9.28</td>\n",
       "    </tr>\n",
       "    <tr>\n",
       "      <th>41</th>\n",
       "      <td>해피 투게더</td>\n",
       "      <td>NaN</td>\n",
       "      <td>9.19</td>\n",
       "      <td>9.19</td>\n",
       "      <td>9.19</td>\n",
       "      <td>9.18</td>\n",
       "      <td>9.18</td>\n",
       "      <td>9.18</td>\n",
       "    </tr>\n",
       "    <tr>\n",
       "      <th>42</th>\n",
       "      <td>번지 점프를 하다</td>\n",
       "      <td>NaN</td>\n",
       "      <td>8.98</td>\n",
       "      <td>8.98</td>\n",
       "      <td>8.98</td>\n",
       "      <td>8.98</td>\n",
       "      <td>8.98</td>\n",
       "      <td>8.98</td>\n",
       "    </tr>\n",
       "    <tr>\n",
       "      <th>43</th>\n",
       "      <td>윤희에게</td>\n",
       "      <td>NaN</td>\n",
       "      <td>8.96</td>\n",
       "      <td>8.96</td>\n",
       "      <td>8.96</td>\n",
       "      <td>8.96</td>\n",
       "      <td>8.96</td>\n",
       "      <td>8.96</td>\n",
       "    </tr>\n",
       "    <tr>\n",
       "      <th>44</th>\n",
       "      <td>화양연화</td>\n",
       "      <td>NaN</td>\n",
       "      <td>8.80</td>\n",
       "      <td>8.80</td>\n",
       "      <td>8.80</td>\n",
       "      <td>8.80</td>\n",
       "      <td>8.80</td>\n",
       "      <td>8.80</td>\n",
       "    </tr>\n",
       "    <tr>\n",
       "      <th>45</th>\n",
       "      <td>소공녀</td>\n",
       "      <td>NaN</td>\n",
       "      <td>8.79</td>\n",
       "      <td>8.79</td>\n",
       "      <td>8.79</td>\n",
       "      <td>8.79</td>\n",
       "      <td>8.79</td>\n",
       "      <td>8.79</td>\n",
       "    </tr>\n",
       "    <tr>\n",
       "      <th>46</th>\n",
       "      <td>접속</td>\n",
       "      <td>NaN</td>\n",
       "      <td>8.68</td>\n",
       "      <td>8.68</td>\n",
       "      <td>8.68</td>\n",
       "      <td>8.68</td>\n",
       "      <td>8.68</td>\n",
       "      <td>8.68</td>\n",
       "    </tr>\n",
       "    <tr>\n",
       "      <th>47</th>\n",
       "      <td>언어의 정원</td>\n",
       "      <td>NaN</td>\n",
       "      <td>8.17</td>\n",
       "      <td>8.17</td>\n",
       "      <td>8.17</td>\n",
       "      <td>8.17</td>\n",
       "      <td>8.17</td>\n",
       "      <td>8.17</td>\n",
       "    </tr>\n",
       "    <tr>\n",
       "      <th>48</th>\n",
       "      <td>다만 악에서 구하소서</td>\n",
       "      <td>NaN</td>\n",
       "      <td>7.61</td>\n",
       "      <td>7.61</td>\n",
       "      <td>7.61</td>\n",
       "      <td>7.61</td>\n",
       "      <td>7.61</td>\n",
       "      <td>7.61</td>\n",
       "    </tr>\n",
       "    <tr>\n",
       "      <th>49</th>\n",
       "      <td>인생은 아름다워</td>\n",
       "      <td>NaN</td>\n",
       "      <td>NaN</td>\n",
       "      <td>9.38</td>\n",
       "      <td>9.17</td>\n",
       "      <td>9.15</td>\n",
       "      <td>9.19</td>\n",
       "      <td>9.23</td>\n",
       "    </tr>\n",
       "    <tr>\n",
       "      <th>50</th>\n",
       "      <td>기적</td>\n",
       "      <td>NaN</td>\n",
       "      <td>NaN</td>\n",
       "      <td>9.25</td>\n",
       "      <td>9.25</td>\n",
       "      <td>9.25</td>\n",
       "      <td>9.25</td>\n",
       "      <td>9.25</td>\n",
       "    </tr>\n",
       "    <tr>\n",
       "      <th>51</th>\n",
       "      <td>이별의 아침에 약속의 꽃을 장식하자</td>\n",
       "      <td>NaN</td>\n",
       "      <td>NaN</td>\n",
       "      <td>8.97</td>\n",
       "      <td>8.97</td>\n",
       "      <td>8.97</td>\n",
       "      <td>8.97</td>\n",
       "      <td>8.97</td>\n",
       "    </tr>\n",
       "    <tr>\n",
       "      <th>52</th>\n",
       "      <td>그린 나이트</td>\n",
       "      <td>NaN</td>\n",
       "      <td>NaN</td>\n",
       "      <td>7.22</td>\n",
       "      <td>7.22</td>\n",
       "      <td>7.22</td>\n",
       "      <td>7.22</td>\n",
       "      <td>7.22</td>\n",
       "    </tr>\n",
       "    <tr>\n",
       "      <th>53</th>\n",
       "      <td>정직한 후보2</td>\n",
       "      <td>NaN</td>\n",
       "      <td>NaN</td>\n",
       "      <td>7.15</td>\n",
       "      <td>5.45</td>\n",
       "      <td>5.37</td>\n",
       "      <td>5.59</td>\n",
       "      <td>5.72</td>\n",
       "    </tr>\n",
       "    <tr>\n",
       "      <th>54</th>\n",
       "      <td>미스비헤이비어</td>\n",
       "      <td>NaN</td>\n",
       "      <td>NaN</td>\n",
       "      <td>NaN</td>\n",
       "      <td>NaN</td>\n",
       "      <td>9.03</td>\n",
       "      <td>9.03</td>\n",
       "      <td>9.03</td>\n",
       "    </tr>\n",
       "    <tr>\n",
       "      <th>55</th>\n",
       "      <td>극장판 짱구는 못말려: 수수께끼! 꽃피는 천하 떡잎 학교</td>\n",
       "      <td>NaN</td>\n",
       "      <td>NaN</td>\n",
       "      <td>NaN</td>\n",
       "      <td>NaN</td>\n",
       "      <td>NaN</td>\n",
       "      <td>9.61</td>\n",
       "      <td>9.64</td>\n",
       "    </tr>\n",
       "    <tr>\n",
       "      <th>56</th>\n",
       "      <td>너의 췌장을 먹고 싶어</td>\n",
       "      <td>NaN</td>\n",
       "      <td>NaN</td>\n",
       "      <td>NaN</td>\n",
       "      <td>NaN</td>\n",
       "      <td>NaN</td>\n",
       "      <td>NaN</td>\n",
       "      <td>8.37</td>\n",
       "    </tr>\n",
       "  </tbody>\n",
       "</table>\n",
       "</div>"
      ],
      "text/plain": [
       "                                 영화  20220926  20220927  20220928  20220929  \\\n",
       "순위                                                                            \n",
       "1                           탑건: 매버릭      9.77      9.77      9.77      9.77   \n",
       "2                     인생은 뷰티풀: 비타돌체      9.74      9.73      9.73      9.73   \n",
       "3                   명탐정 코난: 할로윈의 신부      9.47      9.47      9.47      9.47   \n",
       "4                        극장판 주술회전 0      9.23      9.24      9.24      9.23   \n",
       "5                         사랑은 비를 타고      9.21      9.20      9.21      9.22   \n",
       "6                                코다      9.14      9.14      9.14      9.14   \n",
       "7                              1917      8.90      8.90       NaN       NaN   \n",
       "8                              중경삼림      8.89      8.89      8.89      8.89   \n",
       "9                               엘비스      8.83      8.83      8.83      8.83   \n",
       "10                         고양이를 부탁해      8.81      8.81       NaN       NaN   \n",
       "11                          너의 이름은.      8.81      8.81      8.81      8.81   \n",
       "12                        한산: 용의 출현      8.76      8.76      8.76      8.76   \n",
       "13                         본 투 비 블루      8.73      8.73      8.73      8.73   \n",
       "14                           헤어질 결심      8.68      8.68      8.68      8.68   \n",
       "15                       공조2: 인터내셔날      8.67      8.66      8.65      8.65   \n",
       "16                     지금, 이대로가 좋아요      8.65      8.65      8.65      8.64   \n",
       "17                        육사오(6/45)      8.63      8.63      8.63      8.63   \n",
       "18                             라라랜드      8.62      8.62      8.62      8.62   \n",
       "19                       실버라이닝 플레이북      8.57       NaN       NaN       NaN   \n",
       "20                               헌트      8.43      8.43      8.43      8.42   \n",
       "21                          초속5센티미터      8.36      8.36      8.36      8.36   \n",
       "22                               큐어      8.33      8.33      8.33      8.32   \n",
       "23                     비비안 마이어를 찾아서      8.32      8.32      8.32      8.32   \n",
       "24                        리스본행 야간열차      8.31      8.31      8.31      8.31   \n",
       "25                         킬 빌 - 1부      8.30      8.30      8.30      8.30   \n",
       "26                            애프터 양      8.18      8.18      8.19      8.19   \n",
       "27                      릴리 슈슈의 모든 것      8.12      8.12      8.12      8.12   \n",
       "28                           날씨의 아이      7.96      7.96      7.96      7.96   \n",
       "29                    DC 리그 오브 슈퍼-펫      7.78      7.78      7.78      7.79   \n",
       "30                 사랑할 땐 누구나 최악이 된다      7.71      7.71      7.71      7.70   \n",
       "31                              블랙폰      7.69      7.69       NaN       NaN   \n",
       "32                         킬 빌 - 2부      7.61      7.61      7.61      7.61   \n",
       "33                       썸머 필름을 타고!      7.54      7.54      7.53      7.53   \n",
       "34                                놉      6.77      6.77      6.77      6.77   \n",
       "35                             비상선언      6.51      6.50      6.50       NaN   \n",
       "36                              브로커      5.54      5.54      5.54      5.54   \n",
       "37                             늑대사냥      4.33      4.33      4.33      4.33   \n",
       "38                        아바타 리마스터링       NaN      9.69      9.65      9.65   \n",
       "39                              시월애       NaN      9.29      9.29      9.29   \n",
       "40                              우리들       NaN      9.28      9.28      9.28   \n",
       "41                           해피 투게더       NaN      9.19      9.19      9.19   \n",
       "42                        번지 점프를 하다       NaN      8.98      8.98      8.98   \n",
       "43                             윤희에게       NaN      8.96      8.96      8.96   \n",
       "44                             화양연화       NaN      8.80      8.80      8.80   \n",
       "45                              소공녀       NaN      8.79      8.79      8.79   \n",
       "46                               접속       NaN      8.68      8.68      8.68   \n",
       "47                           언어의 정원       NaN      8.17      8.17      8.17   \n",
       "48                      다만 악에서 구하소서       NaN      7.61      7.61      7.61   \n",
       "49                         인생은 아름다워       NaN       NaN      9.38      9.17   \n",
       "50                               기적       NaN       NaN      9.25      9.25   \n",
       "51              이별의 아침에 약속의 꽃을 장식하자       NaN       NaN      8.97      8.97   \n",
       "52                           그린 나이트       NaN       NaN      7.22      7.22   \n",
       "53                          정직한 후보2       NaN       NaN      7.15      5.45   \n",
       "54                          미스비헤이비어       NaN       NaN       NaN       NaN   \n",
       "55  극장판 짱구는 못말려: 수수께끼! 꽃피는 천하 떡잎 학교       NaN       NaN       NaN       NaN   \n",
       "56                     너의 췌장을 먹고 싶어       NaN       NaN       NaN       NaN   \n",
       "\n",
       "    20220930  20221001  20221002  \n",
       "순위                                \n",
       "1       9.77      9.77      9.77  \n",
       "2       9.73      9.73      9.73  \n",
       "3       9.47      9.47      9.47  \n",
       "4       9.23      9.23      9.23  \n",
       "5       9.22      9.21      9.22  \n",
       "6       9.14       NaN       NaN  \n",
       "7        NaN       NaN       NaN  \n",
       "8       8.89      8.89      8.89  \n",
       "9        NaN       NaN       NaN  \n",
       "10       NaN       NaN       NaN  \n",
       "11      8.81      8.81      8.81  \n",
       "12      8.76      8.76      8.76  \n",
       "13      8.73      8.73      8.73  \n",
       "14      8.68      8.68      8.68  \n",
       "15      8.64      8.63      8.63  \n",
       "16      8.65      8.64      8.64  \n",
       "17      8.63      8.63      8.63  \n",
       "18      8.62      8.62      8.62  \n",
       "19       NaN       NaN       NaN  \n",
       "20      8.41      8.41      8.40  \n",
       "21      8.36      8.36      8.36  \n",
       "22      8.32      8.32      8.32  \n",
       "23      8.32      8.32      8.32  \n",
       "24      8.31      8.31      8.31  \n",
       "25      8.30      8.30      8.30  \n",
       "26      8.19      8.19      8.19  \n",
       "27      8.12      8.12      8.12  \n",
       "28      7.96      7.96      7.96  \n",
       "29       NaN       NaN       NaN  \n",
       "30      7.71      7.72      7.73  \n",
       "31       NaN       NaN       NaN  \n",
       "32      7.61      7.61      7.61  \n",
       "33      7.53      7.53      7.53  \n",
       "34      6.77      6.77      6.77  \n",
       "35       NaN       NaN       NaN  \n",
       "36      5.54      5.54      5.54  \n",
       "37      4.34      4.35      4.38  \n",
       "38      9.62      9.59      9.57  \n",
       "39      9.29      9.29      9.29  \n",
       "40      9.28      9.28      9.28  \n",
       "41      9.18      9.18      9.18  \n",
       "42      8.98      8.98      8.98  \n",
       "43      8.96      8.96      8.96  \n",
       "44      8.80      8.80      8.80  \n",
       "45      8.79      8.79      8.79  \n",
       "46      8.68      8.68      8.68  \n",
       "47      8.17      8.17      8.17  \n",
       "48      7.61      7.61      7.61  \n",
       "49      9.15      9.19      9.23  \n",
       "50      9.25      9.25      9.25  \n",
       "51      8.97      8.97      8.97  \n",
       "52      7.22      7.22      7.22  \n",
       "53      5.37      5.59      5.72  \n",
       "54      9.03      9.03      9.03  \n",
       "55       NaN      9.61      9.64  \n",
       "56       NaN       NaN      8.37  "
      ]
     },
     "execution_count": 50,
     "metadata": {},
     "output_type": "execute_result"
    }
   ],
   "source": [
    "sel = \"cur\"\n",
    "date = \"20220926\"\n",
    "get_total_rank(sel, date)"
   ]
  },
  {
   "cell_type": "markdown",
   "id": "3ByoQ9b7GUoX",
   "metadata": {
    "id": "3ByoQ9b7GUoX"
   },
   "source": [
    "### 최종 데이터프레임"
   ]
  },
  {
   "cell_type": "code",
   "execution_count": 51,
   "id": "5382842b",
   "metadata": {
    "colab": {
     "base_uri": "https://localhost:8080/",
     "height": 206
    },
    "id": "5382842b",
    "outputId": "8941bed0-33cd-43aa-9273-3986ad959542"
   },
   "outputs": [
    {
     "data": {
      "text/html": [
       "<div>\n",
       "<style scoped>\n",
       "    .dataframe tbody tr th:only-of-type {\n",
       "        vertical-align: middle;\n",
       "    }\n",
       "\n",
       "    .dataframe tbody tr th {\n",
       "        vertical-align: top;\n",
       "    }\n",
       "\n",
       "    .dataframe thead th {\n",
       "        text-align: right;\n",
       "    }\n",
       "</style>\n",
       "<table border=\"1\" class=\"dataframe\">\n",
       "  <thead>\n",
       "    <tr style=\"text-align: right;\">\n",
       "      <th></th>\n",
       "      <th>영화</th>\n",
       "      <th>20220926</th>\n",
       "      <th>20220927</th>\n",
       "      <th>20220928</th>\n",
       "      <th>20220929</th>\n",
       "      <th>20220930</th>\n",
       "      <th>20221001</th>\n",
       "      <th>20221002</th>\n",
       "    </tr>\n",
       "    <tr>\n",
       "      <th>순위</th>\n",
       "      <th></th>\n",
       "      <th></th>\n",
       "      <th></th>\n",
       "      <th></th>\n",
       "      <th></th>\n",
       "      <th></th>\n",
       "      <th></th>\n",
       "      <th></th>\n",
       "    </tr>\n",
       "  </thead>\n",
       "  <tbody>\n",
       "    <tr>\n",
       "      <th>1</th>\n",
       "      <td>탑건: 매버릭</td>\n",
       "      <td>9.77</td>\n",
       "      <td>9.77</td>\n",
       "      <td>9.77</td>\n",
       "      <td>9.77</td>\n",
       "      <td>9.77</td>\n",
       "      <td>9.77</td>\n",
       "      <td>9.77</td>\n",
       "    </tr>\n",
       "    <tr>\n",
       "      <th>2</th>\n",
       "      <td>인생은 뷰티풀: 비타돌체</td>\n",
       "      <td>9.74</td>\n",
       "      <td>9.73</td>\n",
       "      <td>9.73</td>\n",
       "      <td>9.73</td>\n",
       "      <td>9.73</td>\n",
       "      <td>9.73</td>\n",
       "      <td>9.73</td>\n",
       "    </tr>\n",
       "    <tr>\n",
       "      <th>3</th>\n",
       "      <td>명탐정 코난: 할로윈의 신부</td>\n",
       "      <td>9.47</td>\n",
       "      <td>9.47</td>\n",
       "      <td>9.47</td>\n",
       "      <td>9.47</td>\n",
       "      <td>9.47</td>\n",
       "      <td>9.47</td>\n",
       "      <td>9.47</td>\n",
       "    </tr>\n",
       "    <tr>\n",
       "      <th>4</th>\n",
       "      <td>극장판 주술회전 0</td>\n",
       "      <td>9.23</td>\n",
       "      <td>9.24</td>\n",
       "      <td>9.24</td>\n",
       "      <td>9.23</td>\n",
       "      <td>9.23</td>\n",
       "      <td>9.23</td>\n",
       "      <td>9.23</td>\n",
       "    </tr>\n",
       "    <tr>\n",
       "      <th>5</th>\n",
       "      <td>사랑은 비를 타고</td>\n",
       "      <td>9.21</td>\n",
       "      <td>9.20</td>\n",
       "      <td>9.21</td>\n",
       "      <td>9.22</td>\n",
       "      <td>9.22</td>\n",
       "      <td>9.21</td>\n",
       "      <td>9.22</td>\n",
       "    </tr>\n",
       "  </tbody>\n",
       "</table>\n",
       "</div>"
      ],
      "text/plain": [
       "                 영화  20220926  20220927  20220928  20220929  20220930  \\\n",
       "순위                                                                      \n",
       "1           탑건: 매버릭      9.77      9.77      9.77      9.77      9.77   \n",
       "2     인생은 뷰티풀: 비타돌체      9.74      9.73      9.73      9.73      9.73   \n",
       "3   명탐정 코난: 할로윈의 신부      9.47      9.47      9.47      9.47      9.47   \n",
       "4        극장판 주술회전 0      9.23      9.24      9.24      9.23      9.23   \n",
       "5         사랑은 비를 타고      9.21      9.20      9.21      9.22      9.22   \n",
       "\n",
       "    20221001  20221002  \n",
       "순위                      \n",
       "1       9.77      9.77  \n",
       "2       9.73      9.73  \n",
       "3       9.47      9.47  \n",
       "4       9.23      9.23  \n",
       "5       9.21      9.22  "
      ]
     },
     "execution_count": 51,
     "metadata": {},
     "output_type": "execute_result"
    }
   ],
   "source": [
    "df = get_total_rank(sel, date)\n",
    "df.head()"
   ]
  },
  {
   "cell_type": "code",
   "execution_count": 52,
   "id": "rmnl86yfF0uj",
   "metadata": {
    "colab": {
     "base_uri": "https://localhost:8080/",
     "height": 206
    },
    "id": "rmnl86yfF0uj",
    "outputId": "2d9ee58b-61f4-4378-e2c7-84648a79b5cf"
   },
   "outputs": [
    {
     "data": {
      "text/html": [
       "<div>\n",
       "<style scoped>\n",
       "    .dataframe tbody tr th:only-of-type {\n",
       "        vertical-align: middle;\n",
       "    }\n",
       "\n",
       "    .dataframe tbody tr th {\n",
       "        vertical-align: top;\n",
       "    }\n",
       "\n",
       "    .dataframe thead th {\n",
       "        text-align: right;\n",
       "    }\n",
       "</style>\n",
       "<table border=\"1\" class=\"dataframe\">\n",
       "  <thead>\n",
       "    <tr style=\"text-align: right;\">\n",
       "      <th></th>\n",
       "      <th>영화</th>\n",
       "      <th>20220926</th>\n",
       "      <th>20220927</th>\n",
       "      <th>20220928</th>\n",
       "      <th>20220929</th>\n",
       "      <th>20220930</th>\n",
       "      <th>20221001</th>\n",
       "      <th>20221002</th>\n",
       "    </tr>\n",
       "    <tr>\n",
       "      <th>순위</th>\n",
       "      <th></th>\n",
       "      <th></th>\n",
       "      <th></th>\n",
       "      <th></th>\n",
       "      <th></th>\n",
       "      <th></th>\n",
       "      <th></th>\n",
       "      <th></th>\n",
       "    </tr>\n",
       "  </thead>\n",
       "  <tbody>\n",
       "    <tr>\n",
       "      <th>52</th>\n",
       "      <td>그린 나이트</td>\n",
       "      <td>NaN</td>\n",
       "      <td>NaN</td>\n",
       "      <td>7.22</td>\n",
       "      <td>7.22</td>\n",
       "      <td>7.22</td>\n",
       "      <td>7.22</td>\n",
       "      <td>7.22</td>\n",
       "    </tr>\n",
       "    <tr>\n",
       "      <th>53</th>\n",
       "      <td>정직한 후보2</td>\n",
       "      <td>NaN</td>\n",
       "      <td>NaN</td>\n",
       "      <td>7.15</td>\n",
       "      <td>5.45</td>\n",
       "      <td>5.37</td>\n",
       "      <td>5.59</td>\n",
       "      <td>5.72</td>\n",
       "    </tr>\n",
       "    <tr>\n",
       "      <th>54</th>\n",
       "      <td>미스비헤이비어</td>\n",
       "      <td>NaN</td>\n",
       "      <td>NaN</td>\n",
       "      <td>NaN</td>\n",
       "      <td>NaN</td>\n",
       "      <td>9.03</td>\n",
       "      <td>9.03</td>\n",
       "      <td>9.03</td>\n",
       "    </tr>\n",
       "    <tr>\n",
       "      <th>55</th>\n",
       "      <td>극장판 짱구는 못말려: 수수께끼! 꽃피는 천하 떡잎 학교</td>\n",
       "      <td>NaN</td>\n",
       "      <td>NaN</td>\n",
       "      <td>NaN</td>\n",
       "      <td>NaN</td>\n",
       "      <td>NaN</td>\n",
       "      <td>9.61</td>\n",
       "      <td>9.64</td>\n",
       "    </tr>\n",
       "    <tr>\n",
       "      <th>56</th>\n",
       "      <td>너의 췌장을 먹고 싶어</td>\n",
       "      <td>NaN</td>\n",
       "      <td>NaN</td>\n",
       "      <td>NaN</td>\n",
       "      <td>NaN</td>\n",
       "      <td>NaN</td>\n",
       "      <td>NaN</td>\n",
       "      <td>8.37</td>\n",
       "    </tr>\n",
       "  </tbody>\n",
       "</table>\n",
       "</div>"
      ],
      "text/plain": [
       "                                 영화  20220926  20220927  20220928  20220929  \\\n",
       "순위                                                                            \n",
       "52                           그린 나이트       NaN       NaN      7.22      7.22   \n",
       "53                          정직한 후보2       NaN       NaN      7.15      5.45   \n",
       "54                          미스비헤이비어       NaN       NaN       NaN       NaN   \n",
       "55  극장판 짱구는 못말려: 수수께끼! 꽃피는 천하 떡잎 학교       NaN       NaN       NaN       NaN   \n",
       "56                     너의 췌장을 먹고 싶어       NaN       NaN       NaN       NaN   \n",
       "\n",
       "    20220930  20221001  20221002  \n",
       "순위                                \n",
       "52      7.22      7.22      7.22  \n",
       "53      5.37      5.59      5.72  \n",
       "54      9.03      9.03      9.03  \n",
       "55       NaN      9.61      9.64  \n",
       "56       NaN       NaN      8.37  "
      ]
     },
     "execution_count": 52,
     "metadata": {},
     "output_type": "execute_result"
    }
   ],
   "source": [
    "df.tail()"
   ]
  },
  {
   "cell_type": "code",
   "execution_count": 53,
   "id": "t56yQ0irJg72",
   "metadata": {
    "id": "t56yQ0irJg72"
   },
   "outputs": [],
   "source": [
    "import seaborn as sns\n",
    "import matplotlib.pyplot as plt"
   ]
  },
  {
   "cell_type": "markdown",
   "id": "EcbeSibriTrp",
   "metadata": {
    "id": "EcbeSibriTrp"
   },
   "source": [
    "## EDA"
   ]
  },
  {
   "cell_type": "markdown",
   "id": "gktwwxw_GgI1",
   "metadata": {
    "id": "gktwwxw_GgI1"
   },
   "source": [
    "#### 0. shape값 확인"
   ]
  },
  {
   "cell_type": "code",
   "execution_count": 54,
   "id": "ao6YJmrZGb0n",
   "metadata": {
    "colab": {
     "base_uri": "https://localhost:8080/"
    },
    "id": "ao6YJmrZGb0n",
    "outputId": "1503818d-e80a-41c5-a5a8-5d61929b692a"
   },
   "outputs": [
    {
     "data": {
      "text/plain": [
       "(56, 8)"
      ]
     },
     "execution_count": 54,
     "metadata": {},
     "output_type": "execute_result"
    }
   ],
   "source": [
    "df.shape"
   ]
  },
  {
   "cell_type": "code",
   "execution_count": 57,
   "id": "3GtyTnzFJz-u",
   "metadata": {
    "colab": {
     "base_uri": "https://localhost:8080/"
    },
    "id": "3GtyTnzFJz-u",
    "outputId": "d45a2996-d51e-4b0e-8f73-ca8085169ccf"
   },
   "outputs": [
    {
     "data": {
      "text/plain": [
       "영화          56\n",
       "20220926    37\n",
       "20220927    47\n",
       "20220928    49\n",
       "20220929    48\n",
       "20220930    47\n",
       "20221001    47\n",
       "20221002    48\n",
       "dtype: int64"
      ]
     },
     "execution_count": 57,
     "metadata": {},
     "output_type": "execute_result"
    }
   ],
   "source": [
    "df.count()"
   ]
  },
  {
   "cell_type": "markdown",
   "id": "WM1X3JIzGoBS",
   "metadata": {
    "id": "WM1X3JIzGoBS"
   },
   "source": [
    "#### 1. 결측치확인"
   ]
  },
  {
   "cell_type": "code",
   "execution_count": 12,
   "id": "uYfFEl4UGlXa",
   "metadata": {
    "colab": {
     "base_uri": "https://localhost:8080/"
    },
    "id": "uYfFEl4UGlXa",
    "outputId": "c5bf61a5-5cc9-41ae-aa7c-fd95d4e0e6bd"
   },
   "outputs": [
    {
     "data": {
      "text/plain": [
       "영화           0\n",
       "20220926    19\n",
       "20220927     9\n",
       "20220928     7\n",
       "20220929     8\n",
       "20220930     9\n",
       "20221001     9\n",
       "20221002     8\n",
       "dtype: int64"
      ]
     },
     "execution_count": 12,
     "metadata": {},
     "output_type": "execute_result"
    }
   ],
   "source": [
    "df.isnull().sum()"
   ]
  },
  {
   "cell_type": "code",
   "execution_count": 13,
   "id": "F-MT2raEJj85",
   "metadata": {
    "colab": {
     "base_uri": "https://localhost:8080/"
    },
    "id": "F-MT2raEJj85",
    "outputId": "6f01286f-da7d-4b7f-e935-8689c309aee5"
   },
   "outputs": [
    {
     "data": {
      "text/plain": [
       "영화          0.000000\n",
       "20220926    0.339286\n",
       "20220927    0.160714\n",
       "20220928    0.125000\n",
       "20220929    0.142857\n",
       "20220930    0.160714\n",
       "20221001    0.160714\n",
       "20221002    0.142857\n",
       "dtype: float64"
      ]
     },
     "execution_count": 13,
     "metadata": {},
     "output_type": "execute_result"
    }
   ],
   "source": [
    "# 결측치 비율 구하기\n",
    "df.isnull().mean()"
   ]
  },
  {
   "cell_type": "code",
   "execution_count": 14,
   "id": "X8o9o1zhJ4uH",
   "metadata": {
    "colab": {
     "base_uri": "https://localhost:8080/",
     "height": 504
    },
    "id": "X8o9o1zhJ4uH",
    "outputId": "96279e74-e9cc-4dfb-9814-d588830a9747"
   },
   "outputs": [
    {
     "data": {
      "text/plain": [
       "<AxesSubplot:ylabel='순위'>"
      ]
     },
     "execution_count": 14,
     "metadata": {},
     "output_type": "execute_result"
    },
    {
     "data": {
      "image/png": "[encoded data removed]",
      "text/plain": [
       "<Figure size 864x576 with 2 Axes>"
      ]
     },
     "metadata": {
      "needs_background": "light"
     },
     "output_type": "display_data"
    }
   ],
   "source": [
    "plt.figure(figsize = (12, 8))\n",
    "sns.heatmap(df.isnull(), cmap = \"Blues\")"
   ]
  },
  {
   "cell_type": "markdown",
   "id": "v0mZIutTHYuh",
   "metadata": {
    "id": "v0mZIutTHYuh"
   },
   "source": [
    "- 결측치는 해당일에 개봉되지 않은 미개봉작들이 포함되어 있기 때문이다. \n",
    "- 9월 27일에 개봉한 영화가 꽤 있음을 짐작할 수 있다. "
   ]
  },
  {
   "cell_type": "markdown",
   "id": "aHJhv4mhHEsg",
   "metadata": {
    "id": "aHJhv4mhHEsg"
   },
   "source": [
    "#### 2. 데이터타입 확인"
   ]
  },
  {
   "cell_type": "code",
   "execution_count": 15,
   "id": "MkHioVHrGuQk",
   "metadata": {
    "colab": {
     "base_uri": "https://localhost:8080/"
    },
    "id": "MkHioVHrGuQk",
    "outputId": "7291d99c-2662-4c16-e316-3dce3576add4"
   },
   "outputs": [
    {
     "name": "stdout",
     "output_type": "stream",
     "text": [
      "<class 'pandas.core.frame.DataFrame'>\n",
      "Int64Index: 56 entries, 1 to 56\n",
      "Data columns (total 8 columns):\n",
      " #   Column    Non-Null Count  Dtype  \n",
      "---  ------    --------------  -----  \n",
      " 0   영화        56 non-null     object \n",
      " 1   20220926  37 non-null     float64\n",
      " 2   20220927  47 non-null     float64\n",
      " 3   20220928  49 non-null     float64\n",
      " 4   20220929  48 non-null     float64\n",
      " 5   20220930  47 non-null     float64\n",
      " 6   20221001  47 non-null     float64\n",
      " 7   20221002  48 non-null     float64\n",
      "dtypes: float64(7), object(1)\n",
      "memory usage: 3.9+ KB\n"
     ]
    }
   ],
   "source": [
    "df.info()"
   ]
  },
  {
   "cell_type": "code",
   "execution_count": 16,
   "id": "7nov6kubHRHr",
   "metadata": {
    "colab": {
     "base_uri": "https://localhost:8080/"
    },
    "id": "7nov6kubHRHr",
    "outputId": "d9797ba6-eefc-48f5-c07e-2420bcb627f3"
   },
   "outputs": [
    {
     "data": {
      "text/plain": [
       "영화           object\n",
       "20220926    float64\n",
       "20220927    float64\n",
       "20220928    float64\n",
       "20220929    float64\n",
       "20220930    float64\n",
       "20221001    float64\n",
       "20221002    float64\n",
       "dtype: object"
      ]
     },
     "execution_count": 16,
     "metadata": {},
     "output_type": "execute_result"
    }
   ],
   "source": [
    "df.dtypes"
   ]
  },
  {
   "cell_type": "markdown",
   "id": "JL6Uc4-kKV9e",
   "metadata": {
    "id": "JL6Uc4-kKV9e"
   },
   "source": [
    "#### 3. 기술통계"
   ]
  },
  {
   "cell_type": "code",
   "execution_count": 17,
   "id": "DIamqpk6KT4-",
   "metadata": {
    "colab": {
     "base_uri": "https://localhost:8080/",
     "height": 300
    },
    "id": "DIamqpk6KT4-",
    "outputId": "f47f6f3d-45e9-4c63-b9d7-c99a0db2c211"
   },
   "outputs": [
    {
     "data": {
      "text/html": [
       "<div>\n",
       "<style scoped>\n",
       "    .dataframe tbody tr th:only-of-type {\n",
       "        vertical-align: middle;\n",
       "    }\n",
       "\n",
       "    .dataframe tbody tr th {\n",
       "        vertical-align: top;\n",
       "    }\n",
       "\n",
       "    .dataframe thead th {\n",
       "        text-align: right;\n",
       "    }\n",
       "</style>\n",
       "<table border=\"1\" class=\"dataframe\">\n",
       "  <thead>\n",
       "    <tr style=\"text-align: right;\">\n",
       "      <th></th>\n",
       "      <th>20220926</th>\n",
       "      <th>20220927</th>\n",
       "      <th>20220928</th>\n",
       "      <th>20220929</th>\n",
       "      <th>20220930</th>\n",
       "      <th>20221001</th>\n",
       "      <th>20221002</th>\n",
       "    </tr>\n",
       "  </thead>\n",
       "  <tbody>\n",
       "    <tr>\n",
       "      <th>count</th>\n",
       "      <td>37.000000</td>\n",
       "      <td>47.000000</td>\n",
       "      <td>49.000000</td>\n",
       "      <td>48.000000</td>\n",
       "      <td>47.000000</td>\n",
       "      <td>47.000000</td>\n",
       "      <td>48.000000</td>\n",
       "    </tr>\n",
       "    <tr>\n",
       "      <th>mean</th>\n",
       "      <td>8.267568</td>\n",
       "      <td>8.398723</td>\n",
       "      <td>8.393265</td>\n",
       "      <td>8.392292</td>\n",
       "      <td>8.406596</td>\n",
       "      <td>8.421277</td>\n",
       "      <td>8.424792</td>\n",
       "    </tr>\n",
       "    <tr>\n",
       "      <th>std</th>\n",
       "      <td>1.076374</td>\n",
       "      <td>1.020523</td>\n",
       "      <td>1.039514</td>\n",
       "      <td>1.082034</td>\n",
       "      <td>1.094759</td>\n",
       "      <td>1.089594</td>\n",
       "      <td>1.069327</td>\n",
       "    </tr>\n",
       "    <tr>\n",
       "      <th>min</th>\n",
       "      <td>4.330000</td>\n",
       "      <td>4.330000</td>\n",
       "      <td>4.330000</td>\n",
       "      <td>4.330000</td>\n",
       "      <td>4.340000</td>\n",
       "      <td>4.350000</td>\n",
       "      <td>4.380000</td>\n",
       "    </tr>\n",
       "    <tr>\n",
       "      <th>25%</th>\n",
       "      <td>7.960000</td>\n",
       "      <td>8.145000</td>\n",
       "      <td>8.120000</td>\n",
       "      <td>8.157500</td>\n",
       "      <td>8.180000</td>\n",
       "      <td>8.180000</td>\n",
       "      <td>8.185000</td>\n",
       "    </tr>\n",
       "    <tr>\n",
       "      <th>50%</th>\n",
       "      <td>8.570000</td>\n",
       "      <td>8.660000</td>\n",
       "      <td>8.650000</td>\n",
       "      <td>8.665000</td>\n",
       "      <td>8.680000</td>\n",
       "      <td>8.680000</td>\n",
       "      <td>8.660000</td>\n",
       "    </tr>\n",
       "    <tr>\n",
       "      <th>75%</th>\n",
       "      <td>8.810000</td>\n",
       "      <td>8.930000</td>\n",
       "      <td>8.980000</td>\n",
       "      <td>9.020000</td>\n",
       "      <td>9.085000</td>\n",
       "      <td>9.105000</td>\n",
       "      <td>9.067500</td>\n",
       "    </tr>\n",
       "    <tr>\n",
       "      <th>max</th>\n",
       "      <td>9.770000</td>\n",
       "      <td>9.770000</td>\n",
       "      <td>9.770000</td>\n",
       "      <td>9.770000</td>\n",
       "      <td>9.770000</td>\n",
       "      <td>9.770000</td>\n",
       "      <td>9.770000</td>\n",
       "    </tr>\n",
       "  </tbody>\n",
       "</table>\n",
       "</div>"
      ],
      "text/plain": [
       "        20220926   20220927   20220928   20220929   20220930   20221001  \\\n",
       "count  37.000000  47.000000  49.000000  48.000000  47.000000  47.000000   \n",
       "mean    8.267568   8.398723   8.393265   8.392292   8.406596   8.421277   \n",
       "std     1.076374   1.020523   1.039514   1.082034   1.094759   1.089594   \n",
       "min     4.330000   4.330000   4.330000   4.330000   4.340000   4.350000   \n",
       "25%     7.960000   8.145000   8.120000   8.157500   8.180000   8.180000   \n",
       "50%     8.570000   8.660000   8.650000   8.665000   8.680000   8.680000   \n",
       "75%     8.810000   8.930000   8.980000   9.020000   9.085000   9.105000   \n",
       "max     9.770000   9.770000   9.770000   9.770000   9.770000   9.770000   \n",
       "\n",
       "        20221002  \n",
       "count  48.000000  \n",
       "mean    8.424792  \n",
       "std     1.069327  \n",
       "min     4.380000  \n",
       "25%     8.185000  \n",
       "50%     8.660000  \n",
       "75%     9.067500  \n",
       "max     9.770000  "
      ]
     },
     "execution_count": 17,
     "metadata": {},
     "output_type": "execute_result"
    }
   ],
   "source": [
    "df.describe()"
   ]
  },
  {
   "cell_type": "markdown",
   "id": "tRi_Y4KbQaLP",
   "metadata": {
    "id": "tRi_Y4KbQaLP"
   },
   "source": [
    "#### 4. 전체수치변수에 대한 히스토그램\n"
   ]
  },
  {
   "cell_type": "code",
   "execution_count": 18,
   "id": "eUufVMmQQFx-",
   "metadata": {
    "colab": {
     "base_uri": "https://localhost:8080/",
     "height": 498
    },
    "id": "eUufVMmQQFx-",
    "outputId": "1d3428ed-33b3-4d5f-cd68-f35bef60292c"
   },
   "outputs": [
    {
     "data": {
      "image/png": "[encoded data removed]",
      "text/plain": [
       "<Figure size 864x576 with 9 Axes>"
      ]
     },
     "metadata": {
      "needs_background": "light"
     },
     "output_type": "display_data"
    }
   ],
   "source": [
    "df.hist(figsize=(12, 8), bins = 40)\n",
    "plt.show()"
   ]
  },
  {
   "cell_type": "markdown",
   "id": "YtBqbs-2aqSL",
   "metadata": {
    "id": "YtBqbs-2aqSL"
   },
   "source": [
    "#### 5. 일자별 평점 빈도수"
   ]
  },
  {
   "cell_type": "code",
   "execution_count": 19,
   "id": "Itwrv4mYamDI",
   "metadata": {
    "colab": {
     "base_uri": "https://localhost:8080/",
     "height": 387
    },
    "id": "Itwrv4mYamDI",
    "outputId": "c9dd0765-0507-4c22-ada9-676be0d59a32"
   },
   "outputs": [
    {
     "data": {
      "text/plain": [
       "<seaborn.axisgrid.FacetGrid at 0x1b8448041c0>"
      ]
     },
     "execution_count": 19,
     "metadata": {},
     "output_type": "execute_result"
    },
    {
     "data": {
      "image/png": "[encoded data removed]",
      "text/plain": [
       "<Figure size 360x360 with 1 Axes>"
      ]
     },
     "metadata": {
      "needs_background": "light"
     },
     "output_type": "display_data"
    }
   ],
   "source": [
    "sns.displot(data = df, x = \"20220926\", bins = 70)"
   ]
  },
  {
   "cell_type": "code",
   "execution_count": 20,
   "id": "F2znVhYPa4wJ",
   "metadata": {
    "colab": {
     "base_uri": "https://localhost:8080/",
     "height": 387
    },
    "id": "F2znVhYPa4wJ",
    "outputId": "8939eafc-82f2-4a5a-b2a3-2c01517f2380"
   },
   "outputs": [
    {
     "data": {
      "text/plain": [
       "<seaborn.axisgrid.FacetGrid at 0x1b84312a730>"
      ]
     },
     "execution_count": 20,
     "metadata": {},
     "output_type": "execute_result"
    },
    {
     "data": {
      "image/png": "[encoded data removed]",
      "text/plain": [
       "<Figure size 360x360 with 1 Axes>"
      ]
     },
     "metadata": {
      "needs_background": "light"
     },
     "output_type": "display_data"
    }
   ],
   "source": [
    "sns.displot(data = df, x = \"20220927\", bins = 70)"
   ]
  },
  {
   "cell_type": "code",
   "execution_count": 21,
   "id": "L3rM-iqIa6_D",
   "metadata": {
    "colab": {
     "base_uri": "https://localhost:8080/",
     "height": 387
    },
    "id": "L3rM-iqIa6_D",
    "outputId": "5ad0a175-93ca-4fc6-e207-64dcca2a4025"
   },
   "outputs": [
    {
     "data": {
      "text/plain": [
       "<seaborn.axisgrid.FacetGrid at 0x1b8432bd280>"
      ]
     },
     "execution_count": 21,
     "metadata": {},
     "output_type": "execute_result"
    },
    {
     "data": {
      "image/png": "[encoded data removed]",
      "text/plain": [
       "<Figure size 360x360 with 1 Axes>"
      ]
     },
     "metadata": {
      "needs_background": "light"
     },
     "output_type": "display_data"
    }
   ],
   "source": [
    "sns.displot(data = df, x = \"20220928\", bins = 70)"
   ]
  },
  {
   "cell_type": "code",
   "execution_count": 22,
   "id": "ypNchnkCa-O5",
   "metadata": {
    "colab": {
     "base_uri": "https://localhost:8080/",
     "height": 387
    },
    "id": "ypNchnkCa-O5",
    "outputId": "b4c95062-c070-4b6e-eb65-297ae204e019"
   },
   "outputs": [
    {
     "data": {
      "text/plain": [
       "<seaborn.axisgrid.FacetGrid at 0x1b84493ae20>"
      ]
     },
     "execution_count": 22,
     "metadata": {},
     "output_type": "execute_result"
    },
    {
     "data": {
      "image/png": "[encoded data removed]",
      "text/plain": [
       "<Figure size 360x360 with 1 Axes>"
      ]
     },
     "metadata": {
      "needs_background": "light"
     },
     "output_type": "display_data"
    }
   ],
   "source": [
    "sns.displot(data = df, x = \"20220929\", bins = 70)"
   ]
  },
  {
   "cell_type": "code",
   "execution_count": 23,
   "id": "qO7LrMOYbCSI",
   "metadata": {
    "colab": {
     "base_uri": "https://localhost:8080/",
     "height": 387
    },
    "id": "qO7LrMOYbCSI",
    "outputId": "a6b11875-623a-4d62-c715-dfec9d7daa95"
   },
   "outputs": [
    {
     "data": {
      "text/plain": [
       "<seaborn.axisgrid.FacetGrid at 0x1b8449c8d00>"
      ]
     },
     "execution_count": 23,
     "metadata": {},
     "output_type": "execute_result"
    },
    {
     "data": {
      "image/png": "[encoded data removed]",
      "text/plain": [
       "<Figure size 360x360 with 1 Axes>"
      ]
     },
     "metadata": {
      "needs_background": "light"
     },
     "output_type": "display_data"
    }
   ],
   "source": [
    "sns.displot(data = df, x = \"20220930\", bins = 70)"
   ]
  },
  {
   "cell_type": "code",
   "execution_count": 24,
   "id": "v_9_sjOebLpq",
   "metadata": {
    "colab": {
     "base_uri": "https://localhost:8080/",
     "height": 387
    },
    "id": "v_9_sjOebLpq",
    "outputId": "55ceba54-3f42-42ee-b7c0-390c5c3a1b3b"
   },
   "outputs": [
    {
     "data": {
      "text/plain": [
       "<seaborn.axisgrid.FacetGrid at 0x1b8447e63a0>"
      ]
     },
     "execution_count": 24,
     "metadata": {},
     "output_type": "execute_result"
    },
    {
     "data": {
      "image/png": "[encoded data removed]",
      "text/plain": [
       "<Figure size 360x360 with 1 Axes>"
      ]
     },
     "metadata": {
      "needs_background": "light"
     },
     "output_type": "display_data"
    }
   ],
   "source": [
    "sns.displot(data = df, x = \"20221001\", bins = 70)"
   ]
  },
  {
   "cell_type": "code",
   "execution_count": 25,
   "id": "qAgmFOZSbPHT",
   "metadata": {
    "colab": {
     "base_uri": "https://localhost:8080/",
     "height": 387
    },
    "id": "qAgmFOZSbPHT",
    "outputId": "286380e6-2635-48e7-d2ee-a8c1559acda7"
   },
   "outputs": [
    {
     "data": {
      "text/plain": [
       "<seaborn.axisgrid.FacetGrid at 0x1b844cb26d0>"
      ]
     },
     "execution_count": 25,
     "metadata": {},
     "output_type": "execute_result"
    },
    {
     "data": {
      "image/png": "[encoded data removed]",
      "text/plain": [
       "<Figure size 360x360 with 1 Axes>"
      ]
     },
     "metadata": {
      "needs_background": "light"
     },
     "output_type": "display_data"
    }
   ],
   "source": [
    "sns.displot(data = df, x = \"20221002\", bins = 70)"
   ]
  },
  {
   "cell_type": "code",
   "execution_count": 26,
   "id": "_OIYNBAlbfI5",
   "metadata": {
    "colab": {
     "base_uri": "https://localhost:8080/",
     "height": 283
    },
    "id": "_OIYNBAlbfI5",
    "outputId": "1bde42c3-8bcc-44c5-f410-311d700b563e"
   },
   "outputs": [
    {
     "data": {
      "text/plain": [
       "<AxesSubplot:>"
      ]
     },
     "execution_count": 26,
     "metadata": {},
     "output_type": "execute_result"
    },
    {
     "data": {
      "image/png": "[encoded data removed]",
      "text/plain": [
       "<Figure size 432x288 with 1 Axes>"
      ]
     },
     "metadata": {
      "needs_background": "light"
     },
     "output_type": "display_data"
    }
   ],
   "source": [
    "# 상위 10개 영화의 boxplot\n",
    "sns.boxplot(data = df[:10])"
   ]
  },
  {
   "cell_type": "markdown",
   "id": "49Mwi73BcjUI",
   "metadata": {
    "id": "49Mwi73BcjUI"
   },
   "source": [
    "#### 6. 일자별 평점에 대한 산점도 그래프"
   ]
  },
  {
   "cell_type": "code",
   "execution_count": 27,
   "id": "4L6OSTvrcnAK",
   "metadata": {
    "colab": {
     "base_uri": "https://localhost:8080/",
     "height": 299
    },
    "id": "4L6OSTvrcnAK",
    "outputId": "888b94e9-94fa-44c9-b165-6c433846ffda"
   },
   "outputs": [
    {
     "data": {
      "text/plain": [
       "<AxesSubplot:xlabel='20220926', ylabel='20220927'>"
      ]
     },
     "execution_count": 27,
     "metadata": {},
     "output_type": "execute_result"
    },
    {
     "data": {
      "image/png": "[encoded data removed]",
      "text/plain": [
       "<Figure size 432x288 with 1 Axes>"
      ]
     },
     "metadata": {
      "needs_background": "light"
     },
     "output_type": "display_data"
    }
   ],
   "source": [
    "sns.scatterplot(data = df, x = \"20220926\", y = \"20220927\")"
   ]
  },
  {
   "cell_type": "code",
   "execution_count": 28,
   "id": "atuWhH86cqqX",
   "metadata": {
    "colab": {
     "base_uri": "https://localhost:8080/",
     "height": 299
    },
    "id": "atuWhH86cqqX",
    "outputId": "8efa3e02-60ff-4efb-c4dc-67566db445df"
   },
   "outputs": [
    {
     "data": {
      "text/plain": [
       "<AxesSubplot:xlabel='20220926', ylabel='20220928'>"
      ]
     },
     "execution_count": 28,
     "metadata": {},
     "output_type": "execute_result"
    },
    {
     "data": {
      "image/png": "[encoded data removed]",
      "text/plain": [
       "<Figure size 432x288 with 1 Axes>"
      ]
     },
     "metadata": {
      "needs_background": "light"
     },
     "output_type": "display_data"
    }
   ],
   "source": [
    "sns.scatterplot(data = df, x = \"20220926\", y = \"20220928\")"
   ]
  },
  {
   "cell_type": "code",
   "execution_count": 29,
   "id": "-GmA3Kpjctd6",
   "metadata": {
    "colab": {
     "base_uri": "https://localhost:8080/",
     "height": 299
    },
    "id": "-GmA3Kpjctd6",
    "outputId": "a735be5f-d2c9-45c6-96d7-52fdb333223d"
   },
   "outputs": [
    {
     "data": {
      "text/plain": [
       "<AxesSubplot:xlabel='20220926', ylabel='20220929'>"
      ]
     },
     "execution_count": 29,
     "metadata": {},
     "output_type": "execute_result"
    },
    {
     "data": {
      "image/png": "[encoded data removed]",
      "text/plain": [
       "<Figure size 432x288 with 1 Axes>"
      ]
     },
     "metadata": {
      "needs_background": "light"
     },
     "output_type": "display_data"
    }
   ],
   "source": [
    "sns.scatterplot(data = df, x = \"20220926\", y = \"20220929\")"
   ]
  },
  {
   "cell_type": "code",
   "execution_count": 30,
   "id": "fYRhu8DYcwpt",
   "metadata": {
    "colab": {
     "base_uri": "https://localhost:8080/",
     "height": 299
    },
    "id": "fYRhu8DYcwpt",
    "outputId": "2fb142c0-651c-4898-cfd4-639d394da405"
   },
   "outputs": [
    {
     "data": {
      "text/plain": [
       "<AxesSubplot:xlabel='20220926', ylabel='20220930'>"
      ]
     },
     "execution_count": 30,
     "metadata": {},
     "output_type": "execute_result"
    },
    {
     "data": {
      "image/png": "[encoded data removed]",
      "text/plain": [
       "<Figure size 432x288 with 1 Axes>"
      ]
     },
     "metadata": {
      "needs_background": "light"
     },
     "output_type": "display_data"
    }
   ],
   "source": [
    "sns.scatterplot(data = df, x = \"20220926\", y = \"20220930\")"
   ]
  },
  {
   "cell_type": "code",
   "execution_count": 31,
   "id": "yeU_e6h4c1VY",
   "metadata": {
    "colab": {
     "base_uri": "https://localhost:8080/",
     "height": 297
    },
    "id": "yeU_e6h4c1VY",
    "outputId": "311b87d7-228a-48cd-99c7-be49d7247f49"
   },
   "outputs": [
    {
     "data": {
      "text/plain": [
       "<AxesSubplot:xlabel='20220926', ylabel='영화'>"
      ]
     },
     "execution_count": 31,
     "metadata": {},
     "output_type": "execute_result"
    },
    {
     "data": {
      "image/png": "[encoded data removed]",
      "text/plain": [
       "<Figure size 432x288 with 1 Axes>"
      ]
     },
     "metadata": {
      "needs_background": "light"
     },
     "output_type": "display_data"
    }
   ],
   "source": [
    "# 상위 20개 영화의 9월 26일 평점 산점도 그래프\n",
    "sns.scatterplot(data = df[:20], x = \"20220926\", y = \"영화\")"
   ]
  },
  {
   "cell_type": "code",
   "execution_count": 32,
   "id": "ia5aFBN7c4gI",
   "metadata": {
    "colab": {
     "base_uri": "https://localhost:8080/",
     "height": 297
    },
    "id": "ia5aFBN7c4gI",
    "outputId": "d74221cc-c098-4667-8007-ecfe4e387aa5"
   },
   "outputs": [
    {
     "data": {
      "text/plain": [
       "<AxesSubplot:xlabel='20221002', ylabel='영화'>"
      ]
     },
     "execution_count": 32,
     "metadata": {},
     "output_type": "execute_result"
    },
    {
     "data": {
      "image/png": "[encoded data removed]",
      "text/plain": [
       "<Figure size 432x288 with 1 Axes>"
      ]
     },
     "metadata": {
      "needs_background": "light"
     },
     "output_type": "display_data"
    }
   ],
   "source": [
    "# 상위 20개 영화의 10월 2일 평점 산점도 그래프\n",
    "sns.scatterplot(data = df[:20], x = \"20221002\", y = \"영화\")"
   ]
  },
  {
   "cell_type": "markdown",
   "id": "m0QRqzNFXfJn",
   "metadata": {
    "id": "m0QRqzNFXfJn"
   },
   "source": [
    "#### 7. 영화 별 주간 평점 구하기"
   ]
  },
  {
   "cell_type": "code",
   "execution_count": 33,
   "id": "KZKrSD_IXthM",
   "metadata": {
    "colab": {
     "base_uri": "https://localhost:8080/",
     "height": 263
    },
    "id": "KZKrSD_IXthM",
    "outputId": "595dd498-6e31-4eb0-bdbe-b123ca21af6e"
   },
   "outputs": [
    {
     "name": "stderr",
     "output_type": "stream",
     "text": [
      "C:\\Users\\sooyo\\AppData\\Local\\Temp\\ipykernel_15820\\43343561.py:2: FutureWarning: Dropping of nuisance columns in DataFrame reductions (with 'numeric_only=None') is deprecated; in a future version this will raise TypeError.  Select only valid columns before calling the reduction.\n",
      "  dff[\"주간 평점의 평균\"] = dff.mean(axis = 1).round(2)\n"
     ]
    },
    {
     "data": {
      "text/html": [
       "<div>\n",
       "<style scoped>\n",
       "    .dataframe tbody tr th:only-of-type {\n",
       "        vertical-align: middle;\n",
       "    }\n",
       "\n",
       "    .dataframe tbody tr th {\n",
       "        vertical-align: top;\n",
       "    }\n",
       "\n",
       "    .dataframe thead th {\n",
       "        text-align: right;\n",
       "    }\n",
       "</style>\n",
       "<table border=\"1\" class=\"dataframe\">\n",
       "  <thead>\n",
       "    <tr style=\"text-align: right;\">\n",
       "      <th></th>\n",
       "      <th>영화</th>\n",
       "      <th>20220926</th>\n",
       "      <th>20220927</th>\n",
       "      <th>20220928</th>\n",
       "      <th>20220929</th>\n",
       "      <th>20220930</th>\n",
       "      <th>20221001</th>\n",
       "      <th>20221002</th>\n",
       "      <th>주간 평점의 평균</th>\n",
       "    </tr>\n",
       "    <tr>\n",
       "      <th>순위</th>\n",
       "      <th></th>\n",
       "      <th></th>\n",
       "      <th></th>\n",
       "      <th></th>\n",
       "      <th></th>\n",
       "      <th></th>\n",
       "      <th></th>\n",
       "      <th></th>\n",
       "      <th></th>\n",
       "    </tr>\n",
       "  </thead>\n",
       "  <tbody>\n",
       "    <tr>\n",
       "      <th>1</th>\n",
       "      <td>탑건: 매버릭</td>\n",
       "      <td>9.77</td>\n",
       "      <td>9.77</td>\n",
       "      <td>9.77</td>\n",
       "      <td>9.77</td>\n",
       "      <td>9.77</td>\n",
       "      <td>9.77</td>\n",
       "      <td>9.77</td>\n",
       "      <td>9.77</td>\n",
       "    </tr>\n",
       "    <tr>\n",
       "      <th>2</th>\n",
       "      <td>인생은 뷰티풀: 비타돌체</td>\n",
       "      <td>9.74</td>\n",
       "      <td>9.73</td>\n",
       "      <td>9.73</td>\n",
       "      <td>9.73</td>\n",
       "      <td>9.73</td>\n",
       "      <td>9.73</td>\n",
       "      <td>9.73</td>\n",
       "      <td>9.73</td>\n",
       "    </tr>\n",
       "    <tr>\n",
       "      <th>3</th>\n",
       "      <td>명탐정 코난: 할로윈의 신부</td>\n",
       "      <td>9.47</td>\n",
       "      <td>9.47</td>\n",
       "      <td>9.47</td>\n",
       "      <td>9.47</td>\n",
       "      <td>9.47</td>\n",
       "      <td>9.47</td>\n",
       "      <td>9.47</td>\n",
       "      <td>9.47</td>\n",
       "    </tr>\n",
       "    <tr>\n",
       "      <th>4</th>\n",
       "      <td>극장판 주술회전 0</td>\n",
       "      <td>9.23</td>\n",
       "      <td>9.24</td>\n",
       "      <td>9.24</td>\n",
       "      <td>9.23</td>\n",
       "      <td>9.23</td>\n",
       "      <td>9.23</td>\n",
       "      <td>9.23</td>\n",
       "      <td>9.23</td>\n",
       "    </tr>\n",
       "    <tr>\n",
       "      <th>5</th>\n",
       "      <td>사랑은 비를 타고</td>\n",
       "      <td>9.21</td>\n",
       "      <td>9.20</td>\n",
       "      <td>9.21</td>\n",
       "      <td>9.22</td>\n",
       "      <td>9.22</td>\n",
       "      <td>9.21</td>\n",
       "      <td>9.22</td>\n",
       "      <td>9.21</td>\n",
       "    </tr>\n",
       "  </tbody>\n",
       "</table>\n",
       "</div>"
      ],
      "text/plain": [
       "                 영화  20220926  20220927  20220928  20220929  20220930  \\\n",
       "순위                                                                      \n",
       "1           탑건: 매버릭      9.77      9.77      9.77      9.77      9.77   \n",
       "2     인생은 뷰티풀: 비타돌체      9.74      9.73      9.73      9.73      9.73   \n",
       "3   명탐정 코난: 할로윈의 신부      9.47      9.47      9.47      9.47      9.47   \n",
       "4        극장판 주술회전 0      9.23      9.24      9.24      9.23      9.23   \n",
       "5         사랑은 비를 타고      9.21      9.20      9.21      9.22      9.22   \n",
       "\n",
       "    20221001  20221002  주간 평점의 평균  \n",
       "순위                                 \n",
       "1       9.77      9.77       9.77  \n",
       "2       9.73      9.73       9.73  \n",
       "3       9.47      9.47       9.47  \n",
       "4       9.23      9.23       9.23  \n",
       "5       9.21      9.22       9.21  "
      ]
     },
     "execution_count": 33,
     "metadata": {},
     "output_type": "execute_result"
    }
   ],
   "source": [
    "dff = df\n",
    "dff[\"주간 평점의 평균\"] = dff.mean(axis = 1).round(2)\n",
    "dff.head()"
   ]
  },
  {
   "cell_type": "code",
   "execution_count": 34,
   "id": "R-sBPpeHeZdX",
   "metadata": {
    "colab": {
     "base_uri": "https://localhost:8080/",
     "height": 283
    },
    "id": "R-sBPpeHeZdX",
    "outputId": "6ce8cd11-dcfb-44cd-e20d-1a37868d084a"
   },
   "outputs": [
    {
     "data": {
      "text/plain": [
       "<AxesSubplot:>"
      ]
     },
     "execution_count": 34,
     "metadata": {},
     "output_type": "execute_result"
    },
    {
     "data": {
      "image/png": "[encoded data removed]",
      "text/plain": [
       "<Figure size 432x288 with 1 Axes>"
      ]
     },
     "metadata": {
      "needs_background": "light"
     },
     "output_type": "display_data"
    }
   ],
   "source": [
    "df[\"주간 평점의 평균\"].hist(bins = 50)"
   ]
  },
  {
   "cell_type": "code",
   "execution_count": 35,
   "id": "lqDM9fp_d5qP",
   "metadata": {
    "colab": {
     "base_uri": "https://localhost:8080/",
     "height": 678
    },
    "id": "lqDM9fp_d5qP",
    "outputId": "e398cfe8-3071-429a-f618-d1421d4c5df3"
   },
   "outputs": [
    {
     "data": {
      "text/plain": [
       "<AxesSubplot:xlabel='주간 평점의 평균', ylabel='영화'>"
      ]
     },
     "execution_count": 35,
     "metadata": {},
     "output_type": "execute_result"
    },
    {
     "data": {
      "image/png": "[encoded data removed]",
      "text/plain": [
       "<Figure size 1080x792 with 1 Axes>"
      ]
     },
     "metadata": {
      "needs_background": "light"
     },
     "output_type": "display_data"
    }
   ],
   "source": [
    "plt.figure(figsize=(15, 11))\n",
    "sns.barplot(data = dff, y = \"영화\", x = \"주간 평점의 평균\")"
   ]
  },
  {
   "cell_type": "markdown",
   "id": "MXTYPRzpgMOx",
   "metadata": {
    "id": "MXTYPRzpgMOx"
   },
   "source": [
    "#### 8. 주간 평점 평균 그룹 별 박스 플롯"
   ]
  },
  {
   "cell_type": "code",
   "execution_count": 36,
   "id": "1EVnnB-Je8Nv",
   "metadata": {
    "colab": {
     "base_uri": "https://localhost:8080/",
     "height": 285
    },
    "id": "1EVnnB-Je8Nv",
    "outputId": "3a29e537-38a5-44bd-ece3-c9193b413fbc"
   },
   "outputs": [
    {
     "data": {
      "text/plain": [
       "<AxesSubplot:>"
      ]
     },
     "execution_count": 36,
     "metadata": {},
     "output_type": "execute_result"
    },
    {
     "data": {
      "image/png": "[encoded data removed]",
      "text/plain": [
       "<Figure size 432x288 with 1 Axes>"
      ]
     },
     "metadata": {
      "needs_background": "light"
     },
     "output_type": "display_data"
    }
   ],
   "source": [
    "data = dff[dff[\"주간 평점의 평균\"] >= 9.0][[\"영화\", \"주간 평점의 평균\"]] # 주간 평점 평균이 9.0이상\n",
    "sns.boxplot(data = data)"
   ]
  },
  {
   "cell_type": "code",
   "execution_count": 37,
   "id": "MSH9wOxzfokh",
   "metadata": {
    "colab": {
     "base_uri": "https://localhost:8080/",
     "height": 283
    },
    "id": "MSH9wOxzfokh",
    "outputId": "3f0e2e2a-0dff-4f10-e457-14e50199386c"
   },
   "outputs": [
    {
     "data": {
      "text/plain": [
       "<AxesSubplot:>"
      ]
     },
     "execution_count": 37,
     "metadata": {},
     "output_type": "execute_result"
    },
    {
     "data": {
      "image/png": "[encoded data removed]",
      "text/plain": [
       "<Figure size 432x288 with 1 Axes>"
      ]
     },
     "metadata": {
      "needs_background": "light"
     },
     "output_type": "display_data"
    }
   ],
   "source": [
    "data = dff[(dff[\"주간 평점의 평균\"] >= 8.0) & (dff[\"주간 평점의 평균\"] < 9.0)][[\"영화\", \"주간 평점의 평균\"]] # 주간 평점 평균이 8.0이상\n",
    "sns.boxplot(data = data)"
   ]
  },
  {
   "cell_type": "code",
   "execution_count": 38,
   "id": "mFSFcEfrf-tm",
   "metadata": {
    "colab": {
     "base_uri": "https://localhost:8080/",
     "height": 283
    },
    "id": "mFSFcEfrf-tm",
    "outputId": "db618613-501b-4183-8968-6d4b3a8e2539"
   },
   "outputs": [
    {
     "data": {
      "text/plain": [
       "<AxesSubplot:>"
      ]
     },
     "execution_count": 38,
     "metadata": {},
     "output_type": "execute_result"
    },
    {
     "data": {
      "image/png": "[encoded data removed]",
      "text/plain": [
       "<Figure size 432x288 with 1 Axes>"
      ]
     },
     "metadata": {
      "needs_background": "light"
     },
     "output_type": "display_data"
    }
   ],
   "source": [
    "data = dff[(dff[\"주간 평점의 평균\"] >= 7.0) & (dff[\"주간 평점의 평균\"] < 8.0)][[\"영화\", \"주간 평점의 평균\"]] #주간 평점 평균이 7.0이상\n",
    "sns.boxplot(data = data)"
   ]
  },
  {
   "cell_type": "markdown",
   "id": "o0UQ5jrtdK5U",
   "metadata": {
    "id": "o0UQ5jrtdK5U"
   },
   "source": [
    "#### 9. 막대그래프와 라인그래프를 사용한 상위 5개 영화에 대한 주간 평점 비교"
   ]
  },
  {
   "cell_type": "code",
   "execution_count": 39,
   "id": "SJ8WjcIfX79F",
   "metadata": {
    "colab": {
     "base_uri": "https://localhost:8080/",
     "height": 515
    },
    "id": "SJ8WjcIfX79F",
    "outputId": "9e454970-fc68-4001-933b-0413a594ff7a"
   },
   "outputs": [
    {
     "data": {
      "text/plain": [
       "<AxesSubplot:xlabel='영화', ylabel='주간 평점의 평균'>"
      ]
     },
     "execution_count": 39,
     "metadata": {},
     "output_type": "execute_result"
    },
    {
     "data": {
      "image/png": "[encoded data removed]",
      "text/plain": [
       "<Figure size 864x576 with 1 Axes>"
      ]
     },
     "metadata": {
      "needs_background": "light"
     },
     "output_type": "display_data"
    }
   ],
   "source": [
    "top_5= dff[:5]\n",
    "\n",
    "plt.figure(figsize=(12, 8))\n",
    "sns.barplot(data=top_5, x=\"영화\", y=\"주간 평점의 평균\")"
   ]
  },
  {
   "cell_type": "code",
   "execution_count": 40,
   "id": "1kRxNDznYPz5",
   "metadata": {
    "colab": {
     "base_uri": "https://localhost:8080/",
     "height": 515
    },
    "id": "1kRxNDznYPz5",
    "outputId": "47464657-f673-4f91-9600-b94a5212df7e"
   },
   "outputs": [
    {
     "data": {
      "text/plain": [
       "<AxesSubplot:xlabel='영화', ylabel='주간 평점의 평균'>"
      ]
     },
     "execution_count": 40,
     "metadata": {},
     "output_type": "execute_result"
    },
    {
     "data": {
      "image/png": "[encoded data removed]",
      "text/plain": [
       "<Figure size 864x576 with 1 Axes>"
      ]
     },
     "metadata": {
      "needs_background": "light"
     },
     "output_type": "display_data"
    }
   ],
   "source": [
    "plt.figure(figsize=(12, 8))\n",
    "sns.lineplot(data=top_5, x=\"영화\", y=\"주간 평점의 평균\")"
   ]
  },
  {
   "cell_type": "markdown",
   "id": "Vhwt8_11dZjl",
   "metadata": {
    "id": "Vhwt8_11dZjl"
   },
   "source": [
    "#### 10. relplot을 사용한 상위 20개 영화의 주간 평점 산점도"
   ]
  },
  {
   "cell_type": "code",
   "execution_count": 41,
   "id": "eMQ2ePFUdfAp",
   "metadata": {
    "colab": {
     "base_uri": "https://localhost:8080/",
     "height": 387
    },
    "id": "eMQ2ePFUdfAp",
    "outputId": "5001df8c-1782-44aa-e51d-19fcba57d29d"
   },
   "outputs": [
    {
     "data": {
      "text/plain": [
       "<seaborn.axisgrid.FacetGrid at 0x1b8466d7ca0>"
      ]
     },
     "execution_count": 41,
     "metadata": {},
     "output_type": "execute_result"
    },
    {
     "data": {
      "image/png": "[encoded data removed]",
      "text/plain": [
       "<Figure size 518.75x360 with 1 Axes>"
      ]
     },
     "metadata": {
      "needs_background": "light"
     },
     "output_type": "display_data"
    }
   ],
   "source": [
    "sns.relplot(data = dff[:15], x = \"주간 평점의 평균\", y = \"20221002\", hue = \"영화\")"
   ]
  },
  {
   "cell_type": "markdown",
   "id": "oZmKISjIIK8M",
   "metadata": {
    "id": "oZmKISjIIK8M"
   },
   "source": [
    "#### 11. 9월 마지막주 모두 평점이 기록된 영화\n",
    "- 9월 26일에 개봉된 영화이거나, 이미 개봉되어 있는 영화일 수 있다."
   ]
  },
  {
   "cell_type": "code",
   "execution_count": 42,
   "id": "7PzbmBc7MOJP",
   "metadata": {
    "colab": {
     "base_uri": "https://localhost:8080/",
     "height": 959
    },
    "id": "7PzbmBc7MOJP",
    "outputId": "66354a8c-0d2a-4ab6-f20c-86b90ae0ec0b"
   },
   "outputs": [
    {
     "data": {
      "text/html": [
       "<div>\n",
       "<style scoped>\n",
       "    .dataframe tbody tr th:only-of-type {\n",
       "        vertical-align: middle;\n",
       "    }\n",
       "\n",
       "    .dataframe tbody tr th {\n",
       "        vertical-align: top;\n",
       "    }\n",
       "\n",
       "    .dataframe thead th {\n",
       "        text-align: right;\n",
       "    }\n",
       "</style>\n",
       "<table border=\"1\" class=\"dataframe\">\n",
       "  <thead>\n",
       "    <tr style=\"text-align: right;\">\n",
       "      <th></th>\n",
       "      <th>영화</th>\n",
       "      <th>20220926</th>\n",
       "      <th>20220927</th>\n",
       "      <th>20220928</th>\n",
       "      <th>20220929</th>\n",
       "      <th>20220930</th>\n",
       "      <th>20221001</th>\n",
       "      <th>20221002</th>\n",
       "      <th>주간 평점의 평균</th>\n",
       "    </tr>\n",
       "    <tr>\n",
       "      <th>순위</th>\n",
       "      <th></th>\n",
       "      <th></th>\n",
       "      <th></th>\n",
       "      <th></th>\n",
       "      <th></th>\n",
       "      <th></th>\n",
       "      <th></th>\n",
       "      <th></th>\n",
       "      <th></th>\n",
       "    </tr>\n",
       "  </thead>\n",
       "  <tbody>\n",
       "    <tr>\n",
       "      <th>1</th>\n",
       "      <td>탑건: 매버릭</td>\n",
       "      <td>9.77</td>\n",
       "      <td>9.77</td>\n",
       "      <td>9.77</td>\n",
       "      <td>9.77</td>\n",
       "      <td>9.77</td>\n",
       "      <td>9.77</td>\n",
       "      <td>9.77</td>\n",
       "      <td>9.77</td>\n",
       "    </tr>\n",
       "    <tr>\n",
       "      <th>2</th>\n",
       "      <td>인생은 뷰티풀: 비타돌체</td>\n",
       "      <td>9.74</td>\n",
       "      <td>9.73</td>\n",
       "      <td>9.73</td>\n",
       "      <td>9.73</td>\n",
       "      <td>9.73</td>\n",
       "      <td>9.73</td>\n",
       "      <td>9.73</td>\n",
       "      <td>9.73</td>\n",
       "    </tr>\n",
       "    <tr>\n",
       "      <th>3</th>\n",
       "      <td>명탐정 코난: 할로윈의 신부</td>\n",
       "      <td>9.47</td>\n",
       "      <td>9.47</td>\n",
       "      <td>9.47</td>\n",
       "      <td>9.47</td>\n",
       "      <td>9.47</td>\n",
       "      <td>9.47</td>\n",
       "      <td>9.47</td>\n",
       "      <td>9.47</td>\n",
       "    </tr>\n",
       "    <tr>\n",
       "      <th>4</th>\n",
       "      <td>극장판 주술회전 0</td>\n",
       "      <td>9.23</td>\n",
       "      <td>9.24</td>\n",
       "      <td>9.24</td>\n",
       "      <td>9.23</td>\n",
       "      <td>9.23</td>\n",
       "      <td>9.23</td>\n",
       "      <td>9.23</td>\n",
       "      <td>9.23</td>\n",
       "    </tr>\n",
       "    <tr>\n",
       "      <th>5</th>\n",
       "      <td>사랑은 비를 타고</td>\n",
       "      <td>9.21</td>\n",
       "      <td>9.20</td>\n",
       "      <td>9.21</td>\n",
       "      <td>9.22</td>\n",
       "      <td>9.22</td>\n",
       "      <td>9.21</td>\n",
       "      <td>9.22</td>\n",
       "      <td>9.21</td>\n",
       "    </tr>\n",
       "    <tr>\n",
       "      <th>8</th>\n",
       "      <td>중경삼림</td>\n",
       "      <td>8.89</td>\n",
       "      <td>8.89</td>\n",
       "      <td>8.89</td>\n",
       "      <td>8.89</td>\n",
       "      <td>8.89</td>\n",
       "      <td>8.89</td>\n",
       "      <td>8.89</td>\n",
       "      <td>8.89</td>\n",
       "    </tr>\n",
       "    <tr>\n",
       "      <th>11</th>\n",
       "      <td>너의 이름은.</td>\n",
       "      <td>8.81</td>\n",
       "      <td>8.81</td>\n",
       "      <td>8.81</td>\n",
       "      <td>8.81</td>\n",
       "      <td>8.81</td>\n",
       "      <td>8.81</td>\n",
       "      <td>8.81</td>\n",
       "      <td>8.81</td>\n",
       "    </tr>\n",
       "    <tr>\n",
       "      <th>12</th>\n",
       "      <td>한산: 용의 출현</td>\n",
       "      <td>8.76</td>\n",
       "      <td>8.76</td>\n",
       "      <td>8.76</td>\n",
       "      <td>8.76</td>\n",
       "      <td>8.76</td>\n",
       "      <td>8.76</td>\n",
       "      <td>8.76</td>\n",
       "      <td>8.76</td>\n",
       "    </tr>\n",
       "    <tr>\n",
       "      <th>13</th>\n",
       "      <td>본 투 비 블루</td>\n",
       "      <td>8.73</td>\n",
       "      <td>8.73</td>\n",
       "      <td>8.73</td>\n",
       "      <td>8.73</td>\n",
       "      <td>8.73</td>\n",
       "      <td>8.73</td>\n",
       "      <td>8.73</td>\n",
       "      <td>8.73</td>\n",
       "    </tr>\n",
       "    <tr>\n",
       "      <th>14</th>\n",
       "      <td>헤어질 결심</td>\n",
       "      <td>8.68</td>\n",
       "      <td>8.68</td>\n",
       "      <td>8.68</td>\n",
       "      <td>8.68</td>\n",
       "      <td>8.68</td>\n",
       "      <td>8.68</td>\n",
       "      <td>8.68</td>\n",
       "      <td>8.68</td>\n",
       "    </tr>\n",
       "    <tr>\n",
       "      <th>15</th>\n",
       "      <td>공조2: 인터내셔날</td>\n",
       "      <td>8.67</td>\n",
       "      <td>8.66</td>\n",
       "      <td>8.65</td>\n",
       "      <td>8.65</td>\n",
       "      <td>8.64</td>\n",
       "      <td>8.63</td>\n",
       "      <td>8.63</td>\n",
       "      <td>8.65</td>\n",
       "    </tr>\n",
       "    <tr>\n",
       "      <th>16</th>\n",
       "      <td>지금, 이대로가 좋아요</td>\n",
       "      <td>8.65</td>\n",
       "      <td>8.65</td>\n",
       "      <td>8.65</td>\n",
       "      <td>8.64</td>\n",
       "      <td>8.65</td>\n",
       "      <td>8.64</td>\n",
       "      <td>8.64</td>\n",
       "      <td>8.65</td>\n",
       "    </tr>\n",
       "    <tr>\n",
       "      <th>17</th>\n",
       "      <td>육사오(6/45)</td>\n",
       "      <td>8.63</td>\n",
       "      <td>8.63</td>\n",
       "      <td>8.63</td>\n",
       "      <td>8.63</td>\n",
       "      <td>8.63</td>\n",
       "      <td>8.63</td>\n",
       "      <td>8.63</td>\n",
       "      <td>8.63</td>\n",
       "    </tr>\n",
       "    <tr>\n",
       "      <th>18</th>\n",
       "      <td>라라랜드</td>\n",
       "      <td>8.62</td>\n",
       "      <td>8.62</td>\n",
       "      <td>8.62</td>\n",
       "      <td>8.62</td>\n",
       "      <td>8.62</td>\n",
       "      <td>8.62</td>\n",
       "      <td>8.62</td>\n",
       "      <td>8.62</td>\n",
       "    </tr>\n",
       "    <tr>\n",
       "      <th>20</th>\n",
       "      <td>헌트</td>\n",
       "      <td>8.43</td>\n",
       "      <td>8.43</td>\n",
       "      <td>8.43</td>\n",
       "      <td>8.42</td>\n",
       "      <td>8.41</td>\n",
       "      <td>8.41</td>\n",
       "      <td>8.40</td>\n",
       "      <td>8.42</td>\n",
       "    </tr>\n",
       "    <tr>\n",
       "      <th>21</th>\n",
       "      <td>초속5센티미터</td>\n",
       "      <td>8.36</td>\n",
       "      <td>8.36</td>\n",
       "      <td>8.36</td>\n",
       "      <td>8.36</td>\n",
       "      <td>8.36</td>\n",
       "      <td>8.36</td>\n",
       "      <td>8.36</td>\n",
       "      <td>8.36</td>\n",
       "    </tr>\n",
       "    <tr>\n",
       "      <th>22</th>\n",
       "      <td>큐어</td>\n",
       "      <td>8.33</td>\n",
       "      <td>8.33</td>\n",
       "      <td>8.33</td>\n",
       "      <td>8.32</td>\n",
       "      <td>8.32</td>\n",
       "      <td>8.32</td>\n",
       "      <td>8.32</td>\n",
       "      <td>8.32</td>\n",
       "    </tr>\n",
       "    <tr>\n",
       "      <th>23</th>\n",
       "      <td>비비안 마이어를 찾아서</td>\n",
       "      <td>8.32</td>\n",
       "      <td>8.32</td>\n",
       "      <td>8.32</td>\n",
       "      <td>8.32</td>\n",
       "      <td>8.32</td>\n",
       "      <td>8.32</td>\n",
       "      <td>8.32</td>\n",
       "      <td>8.32</td>\n",
       "    </tr>\n",
       "    <tr>\n",
       "      <th>24</th>\n",
       "      <td>리스본행 야간열차</td>\n",
       "      <td>8.31</td>\n",
       "      <td>8.31</td>\n",
       "      <td>8.31</td>\n",
       "      <td>8.31</td>\n",
       "      <td>8.31</td>\n",
       "      <td>8.31</td>\n",
       "      <td>8.31</td>\n",
       "      <td>8.31</td>\n",
       "    </tr>\n",
       "    <tr>\n",
       "      <th>25</th>\n",
       "      <td>킬 빌 - 1부</td>\n",
       "      <td>8.30</td>\n",
       "      <td>8.30</td>\n",
       "      <td>8.30</td>\n",
       "      <td>8.30</td>\n",
       "      <td>8.30</td>\n",
       "      <td>8.30</td>\n",
       "      <td>8.30</td>\n",
       "      <td>8.30</td>\n",
       "    </tr>\n",
       "    <tr>\n",
       "      <th>26</th>\n",
       "      <td>애프터 양</td>\n",
       "      <td>8.18</td>\n",
       "      <td>8.18</td>\n",
       "      <td>8.19</td>\n",
       "      <td>8.19</td>\n",
       "      <td>8.19</td>\n",
       "      <td>8.19</td>\n",
       "      <td>8.19</td>\n",
       "      <td>8.19</td>\n",
       "    </tr>\n",
       "    <tr>\n",
       "      <th>27</th>\n",
       "      <td>릴리 슈슈의 모든 것</td>\n",
       "      <td>8.12</td>\n",
       "      <td>8.12</td>\n",
       "      <td>8.12</td>\n",
       "      <td>8.12</td>\n",
       "      <td>8.12</td>\n",
       "      <td>8.12</td>\n",
       "      <td>8.12</td>\n",
       "      <td>8.12</td>\n",
       "    </tr>\n",
       "    <tr>\n",
       "      <th>28</th>\n",
       "      <td>날씨의 아이</td>\n",
       "      <td>7.96</td>\n",
       "      <td>7.96</td>\n",
       "      <td>7.96</td>\n",
       "      <td>7.96</td>\n",
       "      <td>7.96</td>\n",
       "      <td>7.96</td>\n",
       "      <td>7.96</td>\n",
       "      <td>7.96</td>\n",
       "    </tr>\n",
       "    <tr>\n",
       "      <th>30</th>\n",
       "      <td>사랑할 땐 누구나 최악이 된다</td>\n",
       "      <td>7.71</td>\n",
       "      <td>7.71</td>\n",
       "      <td>7.71</td>\n",
       "      <td>7.70</td>\n",
       "      <td>7.71</td>\n",
       "      <td>7.72</td>\n",
       "      <td>7.73</td>\n",
       "      <td>7.71</td>\n",
       "    </tr>\n",
       "    <tr>\n",
       "      <th>32</th>\n",
       "      <td>킬 빌 - 2부</td>\n",
       "      <td>7.61</td>\n",
       "      <td>7.61</td>\n",
       "      <td>7.61</td>\n",
       "      <td>7.61</td>\n",
       "      <td>7.61</td>\n",
       "      <td>7.61</td>\n",
       "      <td>7.61</td>\n",
       "      <td>7.61</td>\n",
       "    </tr>\n",
       "    <tr>\n",
       "      <th>33</th>\n",
       "      <td>썸머 필름을 타고!</td>\n",
       "      <td>7.54</td>\n",
       "      <td>7.54</td>\n",
       "      <td>7.53</td>\n",
       "      <td>7.53</td>\n",
       "      <td>7.53</td>\n",
       "      <td>7.53</td>\n",
       "      <td>7.53</td>\n",
       "      <td>7.53</td>\n",
       "    </tr>\n",
       "    <tr>\n",
       "      <th>34</th>\n",
       "      <td>놉</td>\n",
       "      <td>6.77</td>\n",
       "      <td>6.77</td>\n",
       "      <td>6.77</td>\n",
       "      <td>6.77</td>\n",
       "      <td>6.77</td>\n",
       "      <td>6.77</td>\n",
       "      <td>6.77</td>\n",
       "      <td>6.77</td>\n",
       "    </tr>\n",
       "    <tr>\n",
       "      <th>36</th>\n",
       "      <td>브로커</td>\n",
       "      <td>5.54</td>\n",
       "      <td>5.54</td>\n",
       "      <td>5.54</td>\n",
       "      <td>5.54</td>\n",
       "      <td>5.54</td>\n",
       "      <td>5.54</td>\n",
       "      <td>5.54</td>\n",
       "      <td>5.54</td>\n",
       "    </tr>\n",
       "    <tr>\n",
       "      <th>37</th>\n",
       "      <td>늑대사냥</td>\n",
       "      <td>4.33</td>\n",
       "      <td>4.33</td>\n",
       "      <td>4.33</td>\n",
       "      <td>4.33</td>\n",
       "      <td>4.34</td>\n",
       "      <td>4.35</td>\n",
       "      <td>4.38</td>\n",
       "      <td>4.34</td>\n",
       "    </tr>\n",
       "  </tbody>\n",
       "</table>\n",
       "</div>"
      ],
      "text/plain": [
       "                  영화  20220926  20220927  20220928  20220929  20220930  \\\n",
       "순위                                                                       \n",
       "1            탑건: 매버릭      9.77      9.77      9.77      9.77      9.77   \n",
       "2      인생은 뷰티풀: 비타돌체      9.74      9.73      9.73      9.73      9.73   \n",
       "3    명탐정 코난: 할로윈의 신부      9.47      9.47      9.47      9.47      9.47   \n",
       "4         극장판 주술회전 0      9.23      9.24      9.24      9.23      9.23   \n",
       "5          사랑은 비를 타고      9.21      9.20      9.21      9.22      9.22   \n",
       "8               중경삼림      8.89      8.89      8.89      8.89      8.89   \n",
       "11           너의 이름은.      8.81      8.81      8.81      8.81      8.81   \n",
       "12         한산: 용의 출현      8.76      8.76      8.76      8.76      8.76   \n",
       "13          본 투 비 블루      8.73      8.73      8.73      8.73      8.73   \n",
       "14            헤어질 결심      8.68      8.68      8.68      8.68      8.68   \n",
       "15        공조2: 인터내셔날      8.67      8.66      8.65      8.65      8.64   \n",
       "16      지금, 이대로가 좋아요      8.65      8.65      8.65      8.64      8.65   \n",
       "17         육사오(6/45)      8.63      8.63      8.63      8.63      8.63   \n",
       "18              라라랜드      8.62      8.62      8.62      8.62      8.62   \n",
       "20                헌트      8.43      8.43      8.43      8.42      8.41   \n",
       "21           초속5센티미터      8.36      8.36      8.36      8.36      8.36   \n",
       "22                큐어      8.33      8.33      8.33      8.32      8.32   \n",
       "23      비비안 마이어를 찾아서      8.32      8.32      8.32      8.32      8.32   \n",
       "24         리스본행 야간열차      8.31      8.31      8.31      8.31      8.31   \n",
       "25          킬 빌 - 1부      8.30      8.30      8.30      8.30      8.30   \n",
       "26             애프터 양      8.18      8.18      8.19      8.19      8.19   \n",
       "27       릴리 슈슈의 모든 것      8.12      8.12      8.12      8.12      8.12   \n",
       "28            날씨의 아이      7.96      7.96      7.96      7.96      7.96   \n",
       "30  사랑할 땐 누구나 최악이 된다      7.71      7.71      7.71      7.70      7.71   \n",
       "32          킬 빌 - 2부      7.61      7.61      7.61      7.61      7.61   \n",
       "33        썸머 필름을 타고!      7.54      7.54      7.53      7.53      7.53   \n",
       "34                 놉      6.77      6.77      6.77      6.77      6.77   \n",
       "36               브로커      5.54      5.54      5.54      5.54      5.54   \n",
       "37              늑대사냥      4.33      4.33      4.33      4.33      4.34   \n",
       "\n",
       "    20221001  20221002  주간 평점의 평균  \n",
       "순위                                 \n",
       "1       9.77      9.77       9.77  \n",
       "2       9.73      9.73       9.73  \n",
       "3       9.47      9.47       9.47  \n",
       "4       9.23      9.23       9.23  \n",
       "5       9.21      9.22       9.21  \n",
       "8       8.89      8.89       8.89  \n",
       "11      8.81      8.81       8.81  \n",
       "12      8.76      8.76       8.76  \n",
       "13      8.73      8.73       8.73  \n",
       "14      8.68      8.68       8.68  \n",
       "15      8.63      8.63       8.65  \n",
       "16      8.64      8.64       8.65  \n",
       "17      8.63      8.63       8.63  \n",
       "18      8.62      8.62       8.62  \n",
       "20      8.41      8.40       8.42  \n",
       "21      8.36      8.36       8.36  \n",
       "22      8.32      8.32       8.32  \n",
       "23      8.32      8.32       8.32  \n",
       "24      8.31      8.31       8.31  \n",
       "25      8.30      8.30       8.30  \n",
       "26      8.19      8.19       8.19  \n",
       "27      8.12      8.12       8.12  \n",
       "28      7.96      7.96       7.96  \n",
       "30      7.72      7.73       7.71  \n",
       "32      7.61      7.61       7.61  \n",
       "33      7.53      7.53       7.53  \n",
       "34      6.77      6.77       6.77  \n",
       "36      5.54      5.54       5.54  \n",
       "37      4.35      4.38       4.34  "
      ]
     },
     "execution_count": 42,
     "metadata": {},
     "output_type": "execute_result"
    }
   ],
   "source": [
    "df.dropna()"
   ]
  },
  {
   "cell_type": "markdown",
   "id": "hzUAvQe9hI7h",
   "metadata": {
    "id": "hzUAvQe9hI7h"
   },
   "source": [
    "### 12. barplot을 통한 EDA 및 외부요인 찾아보기"
   ]
  },
  {
   "cell_type": "code",
   "execution_count": 43,
   "id": "pIN-61GIhg3N",
   "metadata": {
    "colab": {
     "base_uri": "https://localhost:8080/",
     "height": 338
    },
    "id": "pIN-61GIhg3N",
    "outputId": "855e8b0a-ddb5-402a-d637-86165bb35403"
   },
   "outputs": [
    {
     "data": {
      "text/plain": [
       "<AxesSubplot:>"
      ]
     },
     "execution_count": 43,
     "metadata": {},
     "output_type": "execute_result"
    },
    {
     "data": {
      "image/png": "[encoded data removed]",
      "text/plain": [
       "<Figure size 720x360 with 1 Axes>"
      ]
     },
     "metadata": {
      "needs_background": "light"
     },
     "output_type": "display_data"
    }
   ],
   "source": [
    "plt.figure(figsize=(10,5))\n",
    "sns.barplot(data=dff[dff['영화'] == '정직한 후보2'])"
   ]
  },
  {
   "cell_type": "markdown",
   "id": "9pXaTg9Th3a1",
   "metadata": {
    "id": "9pXaTg9Th3a1"
   },
   "source": [
    "- 조사 결과, 외부요인으로 인해 하루만에 평점이 약1.5점 감소한 것을 확인함"
   ]
  },
  {
   "cell_type": "markdown",
   "id": "GQVN1-8Bh-MQ",
   "metadata": {
    "id": "GQVN1-8Bh-MQ"
   },
   "source": [
    "### 13. 행, 열 전환을 통한 EDA "
   ]
  },
  {
   "cell_type": "code",
   "execution_count": 44,
   "id": "8Im_yQvghrNW",
   "metadata": {
    "colab": {
     "base_uri": "https://localhost:8080/",
     "height": 297
    },
    "id": "8Im_yQvghrNW",
    "outputId": "dd364bf5-9160-403b-f62d-aa9de8898228"
   },
   "outputs": [
    {
     "data": {
      "text/html": [
       "<div>\n",
       "<style scoped>\n",
       "    .dataframe tbody tr th:only-of-type {\n",
       "        vertical-align: middle;\n",
       "    }\n",
       "\n",
       "    .dataframe tbody tr th {\n",
       "        vertical-align: top;\n",
       "    }\n",
       "\n",
       "    .dataframe thead th {\n",
       "        text-align: right;\n",
       "    }\n",
       "</style>\n",
       "<table border=\"1\" class=\"dataframe\">\n",
       "  <thead>\n",
       "    <tr style=\"text-align: right;\">\n",
       "      <th>순위</th>\n",
       "      <th>1</th>\n",
       "      <th>2</th>\n",
       "      <th>3</th>\n",
       "      <th>4</th>\n",
       "      <th>5</th>\n",
       "      <th>6</th>\n",
       "      <th>7</th>\n",
       "      <th>8</th>\n",
       "      <th>9</th>\n",
       "      <th>10</th>\n",
       "      <th>...</th>\n",
       "      <th>47</th>\n",
       "      <th>48</th>\n",
       "      <th>49</th>\n",
       "      <th>50</th>\n",
       "      <th>51</th>\n",
       "      <th>52</th>\n",
       "      <th>53</th>\n",
       "      <th>54</th>\n",
       "      <th>55</th>\n",
       "      <th>56</th>\n",
       "    </tr>\n",
       "  </thead>\n",
       "  <tbody>\n",
       "    <tr>\n",
       "      <th>영화</th>\n",
       "      <td>탑건: 매버릭</td>\n",
       "      <td>인생은 뷰티풀: 비타돌체</td>\n",
       "      <td>명탐정 코난: 할로윈의 신부</td>\n",
       "      <td>극장판 주술회전 0</td>\n",
       "      <td>사랑은 비를 타고</td>\n",
       "      <td>코다</td>\n",
       "      <td>1917</td>\n",
       "      <td>중경삼림</td>\n",
       "      <td>엘비스</td>\n",
       "      <td>고양이를 부탁해</td>\n",
       "      <td>...</td>\n",
       "      <td>언어의 정원</td>\n",
       "      <td>다만 악에서 구하소서</td>\n",
       "      <td>인생은 아름다워</td>\n",
       "      <td>기적</td>\n",
       "      <td>이별의 아침에 약속의 꽃을 장식하자</td>\n",
       "      <td>그린 나이트</td>\n",
       "      <td>정직한 후보2</td>\n",
       "      <td>미스비헤이비어</td>\n",
       "      <td>극장판 짱구는 못말려: 수수께끼! 꽃피는 천하 떡잎 학교</td>\n",
       "      <td>너의 췌장을 먹고 싶어</td>\n",
       "    </tr>\n",
       "    <tr>\n",
       "      <th>20220926</th>\n",
       "      <td>9.77</td>\n",
       "      <td>9.74</td>\n",
       "      <td>9.47</td>\n",
       "      <td>9.23</td>\n",
       "      <td>9.21</td>\n",
       "      <td>9.14</td>\n",
       "      <td>8.9</td>\n",
       "      <td>8.89</td>\n",
       "      <td>8.83</td>\n",
       "      <td>8.81</td>\n",
       "      <td>...</td>\n",
       "      <td>NaN</td>\n",
       "      <td>NaN</td>\n",
       "      <td>NaN</td>\n",
       "      <td>NaN</td>\n",
       "      <td>NaN</td>\n",
       "      <td>NaN</td>\n",
       "      <td>NaN</td>\n",
       "      <td>NaN</td>\n",
       "      <td>NaN</td>\n",
       "      <td>NaN</td>\n",
       "    </tr>\n",
       "    <tr>\n",
       "      <th>20220927</th>\n",
       "      <td>9.77</td>\n",
       "      <td>9.73</td>\n",
       "      <td>9.47</td>\n",
       "      <td>9.24</td>\n",
       "      <td>9.2</td>\n",
       "      <td>9.14</td>\n",
       "      <td>8.9</td>\n",
       "      <td>8.89</td>\n",
       "      <td>8.83</td>\n",
       "      <td>8.81</td>\n",
       "      <td>...</td>\n",
       "      <td>8.17</td>\n",
       "      <td>7.61</td>\n",
       "      <td>NaN</td>\n",
       "      <td>NaN</td>\n",
       "      <td>NaN</td>\n",
       "      <td>NaN</td>\n",
       "      <td>NaN</td>\n",
       "      <td>NaN</td>\n",
       "      <td>NaN</td>\n",
       "      <td>NaN</td>\n",
       "    </tr>\n",
       "    <tr>\n",
       "      <th>20220928</th>\n",
       "      <td>9.77</td>\n",
       "      <td>9.73</td>\n",
       "      <td>9.47</td>\n",
       "      <td>9.24</td>\n",
       "      <td>9.21</td>\n",
       "      <td>9.14</td>\n",
       "      <td>NaN</td>\n",
       "      <td>8.89</td>\n",
       "      <td>8.83</td>\n",
       "      <td>NaN</td>\n",
       "      <td>...</td>\n",
       "      <td>8.17</td>\n",
       "      <td>7.61</td>\n",
       "      <td>9.38</td>\n",
       "      <td>9.25</td>\n",
       "      <td>8.97</td>\n",
       "      <td>7.22</td>\n",
       "      <td>7.15</td>\n",
       "      <td>NaN</td>\n",
       "      <td>NaN</td>\n",
       "      <td>NaN</td>\n",
       "    </tr>\n",
       "    <tr>\n",
       "      <th>20220929</th>\n",
       "      <td>9.77</td>\n",
       "      <td>9.73</td>\n",
       "      <td>9.47</td>\n",
       "      <td>9.23</td>\n",
       "      <td>9.22</td>\n",
       "      <td>9.14</td>\n",
       "      <td>NaN</td>\n",
       "      <td>8.89</td>\n",
       "      <td>8.83</td>\n",
       "      <td>NaN</td>\n",
       "      <td>...</td>\n",
       "      <td>8.17</td>\n",
       "      <td>7.61</td>\n",
       "      <td>9.17</td>\n",
       "      <td>9.25</td>\n",
       "      <td>8.97</td>\n",
       "      <td>7.22</td>\n",
       "      <td>5.45</td>\n",
       "      <td>NaN</td>\n",
       "      <td>NaN</td>\n",
       "      <td>NaN</td>\n",
       "    </tr>\n",
       "  </tbody>\n",
       "</table>\n",
       "<p>5 rows × 56 columns</p>\n",
       "</div>"
      ],
      "text/plain": [
       "순위             1              2                3           4          5   \\\n",
       "영화        탑건: 매버릭  인생은 뷰티풀: 비타돌체  명탐정 코난: 할로윈의 신부  극장판 주술회전 0  사랑은 비를 타고   \n",
       "20220926     9.77           9.74             9.47        9.23       9.21   \n",
       "20220927     9.77           9.73             9.47        9.24        9.2   \n",
       "20220928     9.77           9.73             9.47        9.24       9.21   \n",
       "20220929     9.77           9.73             9.47        9.23       9.22   \n",
       "\n",
       "순위          6     7     8     9         10  ...      47           48  \\\n",
       "영화          코다  1917  중경삼림   엘비스  고양이를 부탁해  ...  언어의 정원  다만 악에서 구하소서   \n",
       "20220926  9.14   8.9  8.89  8.83      8.81  ...     NaN          NaN   \n",
       "20220927  9.14   8.9  8.89  8.83      8.81  ...    8.17         7.61   \n",
       "20220928  9.14   NaN  8.89  8.83       NaN  ...    8.17         7.61   \n",
       "20220929  9.14   NaN  8.89  8.83       NaN  ...    8.17         7.61   \n",
       "\n",
       "순위              49    50                   51      52       53       54  \\\n",
       "영화        인생은 아름다워    기적  이별의 아침에 약속의 꽃을 장식하자  그린 나이트  정직한 후보2  미스비헤이비어   \n",
       "20220926       NaN   NaN                  NaN     NaN      NaN      NaN   \n",
       "20220927       NaN   NaN                  NaN     NaN      NaN      NaN   \n",
       "20220928      9.38  9.25                 8.97    7.22     7.15      NaN   \n",
       "20220929      9.17  9.25                 8.97    7.22     5.45      NaN   \n",
       "\n",
       "순위                                     55            56  \n",
       "영화        극장판 짱구는 못말려: 수수께끼! 꽃피는 천하 떡잎 학교  너의 췌장을 먹고 싶어  \n",
       "20220926                              NaN           NaN  \n",
       "20220927                              NaN           NaN  \n",
       "20220928                              NaN           NaN  \n",
       "20220929                              NaN           NaN  \n",
       "\n",
       "[5 rows x 56 columns]"
      ]
     },
     "execution_count": 44,
     "metadata": {},
     "output_type": "execute_result"
    }
   ],
   "source": [
    "dff = dff.transpose()\n",
    "dff.head()"
   ]
  },
  {
   "cell_type": "markdown",
   "id": "wjYQO02CiG0S",
   "metadata": {
    "id": "wjYQO02CiG0S"
   },
   "source": [
    "- 데이터에 따라 행과 열을 바꿔서 분석도 가능함"
   ]
  }
 ],
 "metadata": {
  "colab": {
   "collapsed_sections": [],
   "provenance": []
  },
  "kernelspec": {
   "display_name": "Python 3 (ipykernel)",
   "language": "python",
   "name": "python3"
  },
  "language_info": {
   "codemirror_mode": {
    "name": "ipython",
    "version": 3
   },
   "file_extension": ".py",
   "mimetype": "text/x-python",
   "name": "python",
   "nbconvert_exporter": "python",
   "pygments_lexer": "ipython3",
   "version": "3.9.12"
  },
  "toc": {
   "base_numbering": 1,
   "nav_menu": {},
   "number_sections": true,
   "sideBar": true,
   "skip_h1_title": false,
   "title_cell": "Table of Contents",
   "title_sidebar": "Contents",
   "toc_cell": false,
   "toc_position": {},
   "toc_section_display": true,
   "toc_window_display": true
  }
 },
 "nbformat": 4,
 "nbformat_minor": 5
}
