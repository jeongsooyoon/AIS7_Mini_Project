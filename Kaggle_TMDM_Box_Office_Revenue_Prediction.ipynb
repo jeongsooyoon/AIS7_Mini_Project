{
 "cells": [
  {
   "cell_type": "markdown",
   "id": "12f1664c",
   "metadata": {},
   "source": [
    "[캐글] https://www.kaggle.com/competitions/tmdb-box-office-prediction\n",
    "\n",
    "## 라이브러리 로드"
   ]
  },
  {
   "cell_type": "code",
   "execution_count": 1,
   "id": "0030fb22",
   "metadata": {},
   "outputs": [],
   "source": [
    "# pip install catboost"
   ]
  },
  {
   "cell_type": "code",
   "execution_count": 2,
   "id": "10dfe781",
   "metadata": {},
   "outputs": [],
   "source": [
    "import pandas as pd\n",
    "import numpy as np\n",
    "import seaborn as sns\n",
    "import matplotlib.pyplot as plt\n",
    "import re\n",
    "from tqdm import tqdm\n",
    "\n",
    "from sklearn.ensemble import RandomForestRegressor\n",
    "from sklearn.model_selection import train_test_split\n",
    "from sklearn.model_selection import RandomizedSearchCV\n",
    "import catboost as cb\n",
    "from catboost import CatBoostRegressor\n",
    "\n",
    "# 한글폰트\n",
    "import koreanize_matplotlib"
   ]
  },
  {
   "cell_type": "markdown",
   "id": "78f3b048",
   "metadata": {},
   "source": [
    "## 파일 로드 및 미리보기"
   ]
  },
  {
   "cell_type": "code",
   "execution_count": 3,
   "id": "800a8797",
   "metadata": {},
   "outputs": [
    {
     "data": {
      "text/plain": [
       "((3000, 23), (4398, 22), (4398, 2))"
      ]
     },
     "execution_count": 3,
     "metadata": {},
     "output_type": "execute_result"
    }
   ],
   "source": [
    "base_path = \"data/box-office\"\n",
    "\n",
    "train = pd.read_csv(f\"{base_path}/train.csv\")\n",
    "test = pd.read_csv(f\"{base_path}/test.csv\")\n",
    "submission = pd.read_csv(f\"{base_path}/sample_submission.csv\")\n",
    "\n",
    "train.shape, test.shape, submission.shape"
   ]
  },
  {
   "cell_type": "code",
   "execution_count": 4,
   "id": "2931723c",
   "metadata": {},
   "outputs": [
    {
     "data": {
      "text/html": [
       "<div>\n",
       "<style scoped>\n",
       "    .dataframe tbody tr th:only-of-type {\n",
       "        vertical-align: middle;\n",
       "    }\n",
       "\n",
       "    .dataframe tbody tr th {\n",
       "        vertical-align: top;\n",
       "    }\n",
       "\n",
       "    .dataframe thead th {\n",
       "        text-align: right;\n",
       "    }\n",
       "</style>\n",
       "<table border=\"1\" class=\"dataframe\">\n",
       "  <thead>\n",
       "    <tr style=\"text-align: right;\">\n",
       "      <th></th>\n",
       "      <th>id</th>\n",
       "      <th>belongs_to_collection</th>\n",
       "      <th>budget</th>\n",
       "      <th>genres</th>\n",
       "      <th>homepage</th>\n",
       "      <th>imdb_id</th>\n",
       "      <th>original_language</th>\n",
       "      <th>original_title</th>\n",
       "      <th>overview</th>\n",
       "      <th>popularity</th>\n",
       "      <th>...</th>\n",
       "      <th>release_date</th>\n",
       "      <th>runtime</th>\n",
       "      <th>spoken_languages</th>\n",
       "      <th>status</th>\n",
       "      <th>tagline</th>\n",
       "      <th>title</th>\n",
       "      <th>Keywords</th>\n",
       "      <th>cast</th>\n",
       "      <th>crew</th>\n",
       "      <th>revenue</th>\n",
       "    </tr>\n",
       "  </thead>\n",
       "  <tbody>\n",
       "    <tr>\n",
       "      <th>0</th>\n",
       "      <td>1</td>\n",
       "      <td>[{'id': 313576, 'name': 'Hot Tub Time Machine ...</td>\n",
       "      <td>14000000</td>\n",
       "      <td>[{'id': 35, 'name': 'Comedy'}]</td>\n",
       "      <td>NaN</td>\n",
       "      <td>tt2637294</td>\n",
       "      <td>en</td>\n",
       "      <td>Hot Tub Time Machine 2</td>\n",
       "      <td>When Lou, who has become the \"father of the In...</td>\n",
       "      <td>6.575393</td>\n",
       "      <td>...</td>\n",
       "      <td>2/20/15</td>\n",
       "      <td>93.0</td>\n",
       "      <td>[{'iso_639_1': 'en', 'name': 'English'}]</td>\n",
       "      <td>Released</td>\n",
       "      <td>The Laws of Space and Time are About to be Vio...</td>\n",
       "      <td>Hot Tub Time Machine 2</td>\n",
       "      <td>[{'id': 4379, 'name': 'time travel'}, {'id': 9...</td>\n",
       "      <td>[{'cast_id': 4, 'character': 'Lou', 'credit_id...</td>\n",
       "      <td>[{'credit_id': '59ac067c92514107af02c8c8', 'de...</td>\n",
       "      <td>12314651</td>\n",
       "    </tr>\n",
       "    <tr>\n",
       "      <th>1</th>\n",
       "      <td>2</td>\n",
       "      <td>[{'id': 107674, 'name': 'The Princess Diaries ...</td>\n",
       "      <td>40000000</td>\n",
       "      <td>[{'id': 35, 'name': 'Comedy'}, {'id': 18, 'nam...</td>\n",
       "      <td>NaN</td>\n",
       "      <td>tt0368933</td>\n",
       "      <td>en</td>\n",
       "      <td>The Princess Diaries 2: Royal Engagement</td>\n",
       "      <td>Mia Thermopolis is now a college graduate and ...</td>\n",
       "      <td>8.248895</td>\n",
       "      <td>...</td>\n",
       "      <td>8/6/04</td>\n",
       "      <td>113.0</td>\n",
       "      <td>[{'iso_639_1': 'en', 'name': 'English'}]</td>\n",
       "      <td>Released</td>\n",
       "      <td>It can take a lifetime to find true love; she'...</td>\n",
       "      <td>The Princess Diaries 2: Royal Engagement</td>\n",
       "      <td>[{'id': 2505, 'name': 'coronation'}, {'id': 42...</td>\n",
       "      <td>[{'cast_id': 1, 'character': 'Mia Thermopolis'...</td>\n",
       "      <td>[{'credit_id': '52fe43fe9251416c7502563d', 'de...</td>\n",
       "      <td>95149435</td>\n",
       "    </tr>\n",
       "  </tbody>\n",
       "</table>\n",
       "<p>2 rows × 23 columns</p>\n",
       "</div>"
      ],
      "text/plain": [
       "   id                              belongs_to_collection    budget  \\\n",
       "0   1  [{'id': 313576, 'name': 'Hot Tub Time Machine ...  14000000   \n",
       "1   2  [{'id': 107674, 'name': 'The Princess Diaries ...  40000000   \n",
       "\n",
       "                                              genres homepage    imdb_id  \\\n",
       "0                     [{'id': 35, 'name': 'Comedy'}]      NaN  tt2637294   \n",
       "1  [{'id': 35, 'name': 'Comedy'}, {'id': 18, 'nam...      NaN  tt0368933   \n",
       "\n",
       "  original_language                            original_title  \\\n",
       "0                en                    Hot Tub Time Machine 2   \n",
       "1                en  The Princess Diaries 2: Royal Engagement   \n",
       "\n",
       "                                            overview  popularity  ...  \\\n",
       "0  When Lou, who has become the \"father of the In...    6.575393  ...   \n",
       "1  Mia Thermopolis is now a college graduate and ...    8.248895  ...   \n",
       "\n",
       "  release_date runtime                          spoken_languages    status  \\\n",
       "0      2/20/15    93.0  [{'iso_639_1': 'en', 'name': 'English'}]  Released   \n",
       "1       8/6/04   113.0  [{'iso_639_1': 'en', 'name': 'English'}]  Released   \n",
       "\n",
       "                                             tagline  \\\n",
       "0  The Laws of Space and Time are About to be Vio...   \n",
       "1  It can take a lifetime to find true love; she'...   \n",
       "\n",
       "                                      title  \\\n",
       "0                    Hot Tub Time Machine 2   \n",
       "1  The Princess Diaries 2: Royal Engagement   \n",
       "\n",
       "                                            Keywords  \\\n",
       "0  [{'id': 4379, 'name': 'time travel'}, {'id': 9...   \n",
       "1  [{'id': 2505, 'name': 'coronation'}, {'id': 42...   \n",
       "\n",
       "                                                cast  \\\n",
       "0  [{'cast_id': 4, 'character': 'Lou', 'credit_id...   \n",
       "1  [{'cast_id': 1, 'character': 'Mia Thermopolis'...   \n",
       "\n",
       "                                                crew   revenue  \n",
       "0  [{'credit_id': '59ac067c92514107af02c8c8', 'de...  12314651  \n",
       "1  [{'credit_id': '52fe43fe9251416c7502563d', 'de...  95149435  \n",
       "\n",
       "[2 rows x 23 columns]"
      ]
     },
     "metadata": {},
     "output_type": "display_data"
    },
    {
     "data": {
      "text/html": [
       "<div>\n",
       "<style scoped>\n",
       "    .dataframe tbody tr th:only-of-type {\n",
       "        vertical-align: middle;\n",
       "    }\n",
       "\n",
       "    .dataframe tbody tr th {\n",
       "        vertical-align: top;\n",
       "    }\n",
       "\n",
       "    .dataframe thead th {\n",
       "        text-align: right;\n",
       "    }\n",
       "</style>\n",
       "<table border=\"1\" class=\"dataframe\">\n",
       "  <thead>\n",
       "    <tr style=\"text-align: right;\">\n",
       "      <th></th>\n",
       "      <th>id</th>\n",
       "      <th>belongs_to_collection</th>\n",
       "      <th>budget</th>\n",
       "      <th>genres</th>\n",
       "      <th>homepage</th>\n",
       "      <th>imdb_id</th>\n",
       "      <th>original_language</th>\n",
       "      <th>original_title</th>\n",
       "      <th>overview</th>\n",
       "      <th>popularity</th>\n",
       "      <th>...</th>\n",
       "      <th>production_countries</th>\n",
       "      <th>release_date</th>\n",
       "      <th>runtime</th>\n",
       "      <th>spoken_languages</th>\n",
       "      <th>status</th>\n",
       "      <th>tagline</th>\n",
       "      <th>title</th>\n",
       "      <th>Keywords</th>\n",
       "      <th>cast</th>\n",
       "      <th>crew</th>\n",
       "    </tr>\n",
       "  </thead>\n",
       "  <tbody>\n",
       "    <tr>\n",
       "      <th>0</th>\n",
       "      <td>3001</td>\n",
       "      <td>[{'id': 34055, 'name': 'Pokémon Collection', '...</td>\n",
       "      <td>0</td>\n",
       "      <td>[{'id': 12, 'name': 'Adventure'}, {'id': 16, '...</td>\n",
       "      <td>http://www.pokemon.com/us/movies/movie-pokemon...</td>\n",
       "      <td>tt1226251</td>\n",
       "      <td>ja</td>\n",
       "      <td>ディアルガVSパルキアVSダークライ</td>\n",
       "      <td>Ash and friends (this time accompanied by newc...</td>\n",
       "      <td>3.851534</td>\n",
       "      <td>...</td>\n",
       "      <td>[{'iso_3166_1': 'JP', 'name': 'Japan'}, {'iso_...</td>\n",
       "      <td>7/14/07</td>\n",
       "      <td>90.0</td>\n",
       "      <td>[{'iso_639_1': 'en', 'name': 'English'}, {'iso...</td>\n",
       "      <td>Released</td>\n",
       "      <td>Somewhere Between Time &amp; Space... A Legend Is ...</td>\n",
       "      <td>Pokémon: The Rise of Darkrai</td>\n",
       "      <td>[{'id': 11451, 'name': 'pok√©mon'}, {'id': 115...</td>\n",
       "      <td>[{'cast_id': 3, 'character': 'Tonio', 'credit_...</td>\n",
       "      <td>[{'credit_id': '52fe44e7c3a368484e03d683', 'de...</td>\n",
       "    </tr>\n",
       "    <tr>\n",
       "      <th>1</th>\n",
       "      <td>3002</td>\n",
       "      <td>NaN</td>\n",
       "      <td>88000</td>\n",
       "      <td>[{'id': 27, 'name': 'Horror'}, {'id': 878, 'na...</td>\n",
       "      <td>NaN</td>\n",
       "      <td>tt0051380</td>\n",
       "      <td>en</td>\n",
       "      <td>Attack of the 50 Foot Woman</td>\n",
       "      <td>When an abused wife grows to giant size becaus...</td>\n",
       "      <td>3.559789</td>\n",
       "      <td>...</td>\n",
       "      <td>[{'iso_3166_1': 'US', 'name': 'United States o...</td>\n",
       "      <td>5/19/58</td>\n",
       "      <td>65.0</td>\n",
       "      <td>[{'iso_639_1': 'en', 'name': 'English'}]</td>\n",
       "      <td>Released</td>\n",
       "      <td>A titanic beauty spreads a macabre wave of hor...</td>\n",
       "      <td>Attack of the 50 Foot Woman</td>\n",
       "      <td>[{'id': 9748, 'name': 'revenge'}, {'id': 9951,...</td>\n",
       "      <td>[{'cast_id': 2, 'character': 'Nancy Fowler Arc...</td>\n",
       "      <td>[{'credit_id': '55807805c3a3685b1300060b', 'de...</td>\n",
       "    </tr>\n",
       "  </tbody>\n",
       "</table>\n",
       "<p>2 rows × 22 columns</p>\n",
       "</div>"
      ],
      "text/plain": [
       "     id                              belongs_to_collection  budget  \\\n",
       "0  3001  [{'id': 34055, 'name': 'Pokémon Collection', '...       0   \n",
       "1  3002                                                NaN   88000   \n",
       "\n",
       "                                              genres  \\\n",
       "0  [{'id': 12, 'name': 'Adventure'}, {'id': 16, '...   \n",
       "1  [{'id': 27, 'name': 'Horror'}, {'id': 878, 'na...   \n",
       "\n",
       "                                            homepage    imdb_id  \\\n",
       "0  http://www.pokemon.com/us/movies/movie-pokemon...  tt1226251   \n",
       "1                                                NaN  tt0051380   \n",
       "\n",
       "  original_language               original_title  \\\n",
       "0                ja           ディアルガVSパルキアVSダークライ   \n",
       "1                en  Attack of the 50 Foot Woman   \n",
       "\n",
       "                                            overview  popularity  ...  \\\n",
       "0  Ash and friends (this time accompanied by newc...    3.851534  ...   \n",
       "1  When an abused wife grows to giant size becaus...    3.559789  ...   \n",
       "\n",
       "                                production_countries release_date runtime  \\\n",
       "0  [{'iso_3166_1': 'JP', 'name': 'Japan'}, {'iso_...      7/14/07    90.0   \n",
       "1  [{'iso_3166_1': 'US', 'name': 'United States o...      5/19/58    65.0   \n",
       "\n",
       "                                    spoken_languages    status  \\\n",
       "0  [{'iso_639_1': 'en', 'name': 'English'}, {'iso...  Released   \n",
       "1           [{'iso_639_1': 'en', 'name': 'English'}]  Released   \n",
       "\n",
       "                                             tagline  \\\n",
       "0  Somewhere Between Time & Space... A Legend Is ...   \n",
       "1  A titanic beauty spreads a macabre wave of hor...   \n",
       "\n",
       "                          title  \\\n",
       "0  Pokémon: The Rise of Darkrai   \n",
       "1   Attack of the 50 Foot Woman   \n",
       "\n",
       "                                            Keywords  \\\n",
       "0  [{'id': 11451, 'name': 'pok√©mon'}, {'id': 115...   \n",
       "1  [{'id': 9748, 'name': 'revenge'}, {'id': 9951,...   \n",
       "\n",
       "                                                cast  \\\n",
       "0  [{'cast_id': 3, 'character': 'Tonio', 'credit_...   \n",
       "1  [{'cast_id': 2, 'character': 'Nancy Fowler Arc...   \n",
       "\n",
       "                                                crew  \n",
       "0  [{'credit_id': '52fe44e7c3a368484e03d683', 'de...  \n",
       "1  [{'credit_id': '55807805c3a3685b1300060b', 'de...  \n",
       "\n",
       "[2 rows x 22 columns]"
      ]
     },
     "metadata": {},
     "output_type": "display_data"
    },
    {
     "data": {
      "text/html": [
       "<div>\n",
       "<style scoped>\n",
       "    .dataframe tbody tr th:only-of-type {\n",
       "        vertical-align: middle;\n",
       "    }\n",
       "\n",
       "    .dataframe tbody tr th {\n",
       "        vertical-align: top;\n",
       "    }\n",
       "\n",
       "    .dataframe thead th {\n",
       "        text-align: right;\n",
       "    }\n",
       "</style>\n",
       "<table border=\"1\" class=\"dataframe\">\n",
       "  <thead>\n",
       "    <tr style=\"text-align: right;\">\n",
       "      <th></th>\n",
       "      <th>id</th>\n",
       "      <th>revenue</th>\n",
       "    </tr>\n",
       "  </thead>\n",
       "  <tbody>\n",
       "    <tr>\n",
       "      <th>0</th>\n",
       "      <td>3001</td>\n",
       "      <td>1000000</td>\n",
       "    </tr>\n",
       "    <tr>\n",
       "      <th>1</th>\n",
       "      <td>3002</td>\n",
       "      <td>1000000</td>\n",
       "    </tr>\n",
       "  </tbody>\n",
       "</table>\n",
       "</div>"
      ],
      "text/plain": [
       "     id  revenue\n",
       "0  3001  1000000\n",
       "1  3002  1000000"
      ]
     },
     "metadata": {},
     "output_type": "display_data"
    }
   ],
   "source": [
    "display(train.head(2))\n",
    "display(test.head(2))\n",
    "display(submission.head(2))"
   ]
  },
  {
   "cell_type": "markdown",
   "id": "de94e6a3",
   "metadata": {},
   "source": [
    "## 파일 요약정보 보기"
   ]
  },
  {
   "cell_type": "code",
   "execution_count": 5,
   "id": "a3840ac2",
   "metadata": {},
   "outputs": [
    {
     "name": "stdout",
     "output_type": "stream",
     "text": [
      "train: \n",
      "<class 'pandas.core.frame.DataFrame'>\n",
      "RangeIndex: 3000 entries, 0 to 2999\n",
      "Data columns (total 23 columns):\n",
      " #   Column                 Non-Null Count  Dtype  \n",
      "---  ------                 --------------  -----  \n",
      " 0   id                     3000 non-null   int64  \n",
      " 1   belongs_to_collection  604 non-null    object \n",
      " 2   budget                 3000 non-null   int64  \n",
      " 3   genres                 2993 non-null   object \n",
      " 4   homepage               946 non-null    object \n",
      " 5   imdb_id                3000 non-null   object \n",
      " 6   original_language      3000 non-null   object \n",
      " 7   original_title         3000 non-null   object \n",
      " 8   overview               2992 non-null   object \n",
      " 9   popularity             3000 non-null   float64\n",
      " 10  poster_path            2999 non-null   object \n",
      " 11  production_companies   2844 non-null   object \n",
      " 12  production_countries   2945 non-null   object \n",
      " 13  release_date           3000 non-null   object \n",
      " 14  runtime                2998 non-null   float64\n",
      " 15  spoken_languages       2980 non-null   object \n",
      " 16  status                 3000 non-null   object \n",
      " 17  tagline                2403 non-null   object \n",
      " 18  title                  3000 non-null   object \n",
      " 19  Keywords               2724 non-null   object \n",
      " 20  cast                   2987 non-null   object \n",
      " 21  crew                   2984 non-null   object \n",
      " 22  revenue                3000 non-null   int64  \n",
      "dtypes: float64(2), int64(3), object(18)\n",
      "memory usage: 539.2+ KB\n",
      "None\n",
      "==============================\n",
      "test: \n",
      "<class 'pandas.core.frame.DataFrame'>\n",
      "RangeIndex: 4398 entries, 0 to 4397\n",
      "Data columns (total 22 columns):\n",
      " #   Column                 Non-Null Count  Dtype  \n",
      "---  ------                 --------------  -----  \n",
      " 0   id                     4398 non-null   int64  \n",
      " 1   belongs_to_collection  877 non-null    object \n",
      " 2   budget                 4398 non-null   int64  \n",
      " 3   genres                 4382 non-null   object \n",
      " 4   homepage               1420 non-null   object \n",
      " 5   imdb_id                4398 non-null   object \n",
      " 6   original_language      4398 non-null   object \n",
      " 7   original_title         4398 non-null   object \n",
      " 8   overview               4384 non-null   object \n",
      " 9   popularity             4398 non-null   float64\n",
      " 10  poster_path            4397 non-null   object \n",
      " 11  production_companies   4140 non-null   object \n",
      " 12  production_countries   4296 non-null   object \n",
      " 13  release_date           4397 non-null   object \n",
      " 14  runtime                4394 non-null   float64\n",
      " 15  spoken_languages       4356 non-null   object \n",
      " 16  status                 4396 non-null   object \n",
      " 17  tagline                3535 non-null   object \n",
      " 18  title                  4395 non-null   object \n",
      " 19  Keywords               4005 non-null   object \n",
      " 20  cast                   4385 non-null   object \n",
      " 21  crew                   4376 non-null   object \n",
      "dtypes: float64(2), int64(2), object(18)\n",
      "memory usage: 756.0+ KB\n",
      "None\n"
     ]
    }
   ],
   "source": [
    "# info\n",
    "\n",
    "print(\"train: \")\n",
    "print(train.info())\n",
    "print(\"=\" * 30)\n",
    "print(\"test: \")\n",
    "print(test.info())"
   ]
  },
  {
   "cell_type": "code",
   "execution_count": 6,
   "id": "bdb4f24a",
   "metadata": {},
   "outputs": [
    {
     "name": "stdout",
     "output_type": "stream",
     "text": [
      "train: \n",
      "id                       3000\n",
      "belongs_to_collection     422\n",
      "budget                    406\n",
      "genres                    872\n",
      "homepage                  941\n",
      "imdb_id                  3000\n",
      "original_language          36\n",
      "original_title           2975\n",
      "overview                 2992\n",
      "popularity               2999\n",
      "poster_path              2999\n",
      "production_companies     2383\n",
      "production_countries      321\n",
      "release_date             2398\n",
      "runtime                   139\n",
      "spoken_languages          401\n",
      "status                      2\n",
      "tagline                  2400\n",
      "title                    2969\n",
      "Keywords                 2648\n",
      "cast                     2975\n",
      "crew                     2984\n",
      "revenue                  2850\n",
      "dtype: int64\n",
      "==============================\n",
      "test: \n",
      "id                       4398\n",
      "belongs_to_collection     556\n",
      "budget                    511\n",
      "genres                   1101\n",
      "homepage                 1402\n",
      "imdb_id                  4398\n",
      "original_language          39\n",
      "original_title           4353\n",
      "overview                 4383\n",
      "popularity               4398\n",
      "poster_path              4397\n",
      "production_companies     3366\n",
      "production_countries      458\n",
      "release_date             3289\n",
      "runtime                   155\n",
      "spoken_languages          526\n",
      "status                      3\n",
      "tagline                  3529\n",
      "title                    4342\n",
      "Keywords                 3885\n",
      "cast                     4365\n",
      "crew                     4376\n",
      "dtype: int64\n"
     ]
    }
   ],
   "source": [
    "# nunique (범주형 OR 수치형)\n",
    "\n",
    "print(\"train: \")\n",
    "print(train.nunique())\n",
    "print(\"=\" * 30)\n",
    "print(\"test: \")\n",
    "print(test.nunique())"
   ]
  },
  {
   "cell_type": "code",
   "execution_count": 7,
   "id": "ad2e85da",
   "metadata": {},
   "outputs": [
    {
     "name": "stdout",
     "output_type": "stream",
     "text": [
      "train: \n",
      "id                          0\n",
      "belongs_to_collection    2396\n",
      "budget                      0\n",
      "genres                      7\n",
      "homepage                 2054\n",
      "imdb_id                     0\n",
      "original_language           0\n",
      "original_title              0\n",
      "overview                    8\n",
      "popularity                  0\n",
      "poster_path                 1\n",
      "production_companies      156\n",
      "production_countries       55\n",
      "release_date                0\n",
      "runtime                     2\n",
      "spoken_languages           20\n",
      "status                      0\n",
      "tagline                   597\n",
      "title                       0\n",
      "Keywords                  276\n",
      "cast                       13\n",
      "crew                       16\n",
      "revenue                     0\n",
      "dtype: int64\n",
      "==============================\n",
      "test: \n",
      "id                          0\n",
      "belongs_to_collection    3521\n",
      "budget                      0\n",
      "genres                     16\n",
      "homepage                 2978\n",
      "imdb_id                     0\n",
      "original_language           0\n",
      "original_title              0\n",
      "overview                   14\n",
      "popularity                  0\n",
      "poster_path                 1\n",
      "production_companies      258\n",
      "production_countries      102\n",
      "release_date                1\n",
      "runtime                     4\n",
      "spoken_languages           42\n",
      "status                      2\n",
      "tagline                   863\n",
      "title                       3\n",
      "Keywords                  393\n",
      "cast                       13\n",
      "crew                       22\n",
      "dtype: int64\n"
     ]
    }
   ],
   "source": [
    "# 결측치\n",
    "print(\"train: \")\n",
    "print(train.isnull().sum())\n",
    "print(\"=\" * 30)\n",
    "print(\"test: \")\n",
    "print(test.isnull().sum())"
   ]
  },
  {
   "cell_type": "code",
   "execution_count": 8,
   "id": "b463e7a5",
   "metadata": {},
   "outputs": [
    {
     "data": {
      "text/html": [
       "<div>\n",
       "<style scoped>\n",
       "    .dataframe tbody tr th:only-of-type {\n",
       "        vertical-align: middle;\n",
       "    }\n",
       "\n",
       "    .dataframe tbody tr th {\n",
       "        vertical-align: top;\n",
       "    }\n",
       "\n",
       "    .dataframe thead th {\n",
       "        text-align: right;\n",
       "    }\n",
       "</style>\n",
       "<table border=\"1\" class=\"dataframe\">\n",
       "  <thead>\n",
       "    <tr style=\"text-align: right;\">\n",
       "      <th></th>\n",
       "      <th>id</th>\n",
       "      <th>budget</th>\n",
       "      <th>popularity</th>\n",
       "      <th>runtime</th>\n",
       "      <th>revenue</th>\n",
       "    </tr>\n",
       "  </thead>\n",
       "  <tbody>\n",
       "    <tr>\n",
       "      <th>count</th>\n",
       "      <td>3000.000000</td>\n",
       "      <td>3.000000e+03</td>\n",
       "      <td>3000.000000</td>\n",
       "      <td>2998.000000</td>\n",
       "      <td>3.000000e+03</td>\n",
       "    </tr>\n",
       "    <tr>\n",
       "      <th>mean</th>\n",
       "      <td>1500.500000</td>\n",
       "      <td>2.253133e+07</td>\n",
       "      <td>8.463274</td>\n",
       "      <td>107.856571</td>\n",
       "      <td>6.672585e+07</td>\n",
       "    </tr>\n",
       "    <tr>\n",
       "      <th>std</th>\n",
       "      <td>866.169729</td>\n",
       "      <td>3.702609e+07</td>\n",
       "      <td>12.104000</td>\n",
       "      <td>22.086434</td>\n",
       "      <td>1.375323e+08</td>\n",
       "    </tr>\n",
       "    <tr>\n",
       "      <th>min</th>\n",
       "      <td>1.000000</td>\n",
       "      <td>0.000000e+00</td>\n",
       "      <td>0.000001</td>\n",
       "      <td>0.000000</td>\n",
       "      <td>1.000000e+00</td>\n",
       "    </tr>\n",
       "    <tr>\n",
       "      <th>25%</th>\n",
       "      <td>750.750000</td>\n",
       "      <td>0.000000e+00</td>\n",
       "      <td>4.018053</td>\n",
       "      <td>94.000000</td>\n",
       "      <td>2.379808e+06</td>\n",
       "    </tr>\n",
       "    <tr>\n",
       "      <th>50%</th>\n",
       "      <td>1500.500000</td>\n",
       "      <td>8.000000e+06</td>\n",
       "      <td>7.374861</td>\n",
       "      <td>104.000000</td>\n",
       "      <td>1.680707e+07</td>\n",
       "    </tr>\n",
       "    <tr>\n",
       "      <th>75%</th>\n",
       "      <td>2250.250000</td>\n",
       "      <td>2.900000e+07</td>\n",
       "      <td>10.890983</td>\n",
       "      <td>118.000000</td>\n",
       "      <td>6.891920e+07</td>\n",
       "    </tr>\n",
       "    <tr>\n",
       "      <th>max</th>\n",
       "      <td>3000.000000</td>\n",
       "      <td>3.800000e+08</td>\n",
       "      <td>294.337037</td>\n",
       "      <td>338.000000</td>\n",
       "      <td>1.519558e+09</td>\n",
       "    </tr>\n",
       "  </tbody>\n",
       "</table>\n",
       "</div>"
      ],
      "text/plain": [
       "                id        budget   popularity      runtime       revenue\n",
       "count  3000.000000  3.000000e+03  3000.000000  2998.000000  3.000000e+03\n",
       "mean   1500.500000  2.253133e+07     8.463274   107.856571  6.672585e+07\n",
       "std     866.169729  3.702609e+07    12.104000    22.086434  1.375323e+08\n",
       "min       1.000000  0.000000e+00     0.000001     0.000000  1.000000e+00\n",
       "25%     750.750000  0.000000e+00     4.018053    94.000000  2.379808e+06\n",
       "50%    1500.500000  8.000000e+06     7.374861   104.000000  1.680707e+07\n",
       "75%    2250.250000  2.900000e+07    10.890983   118.000000  6.891920e+07\n",
       "max    3000.000000  3.800000e+08   294.337037   338.000000  1.519558e+09"
      ]
     },
     "execution_count": 8,
     "metadata": {},
     "output_type": "execute_result"
    }
   ],
   "source": [
    "train.describe()"
   ]
  },
  {
   "cell_type": "code",
   "execution_count": 9,
   "id": "1d662733",
   "metadata": {},
   "outputs": [
    {
     "data": {
      "text/html": [
       "<div>\n",
       "<style scoped>\n",
       "    .dataframe tbody tr th:only-of-type {\n",
       "        vertical-align: middle;\n",
       "    }\n",
       "\n",
       "    .dataframe tbody tr th {\n",
       "        vertical-align: top;\n",
       "    }\n",
       "\n",
       "    .dataframe thead th {\n",
       "        text-align: right;\n",
       "    }\n",
       "</style>\n",
       "<table border=\"1\" class=\"dataframe\">\n",
       "  <thead>\n",
       "    <tr style=\"text-align: right;\">\n",
       "      <th></th>\n",
       "      <th>id</th>\n",
       "      <th>budget</th>\n",
       "      <th>popularity</th>\n",
       "      <th>runtime</th>\n",
       "    </tr>\n",
       "  </thead>\n",
       "  <tbody>\n",
       "    <tr>\n",
       "      <th>count</th>\n",
       "      <td>4398.000000</td>\n",
       "      <td>4.398000e+03</td>\n",
       "      <td>4398.000000</td>\n",
       "      <td>4394.000000</td>\n",
       "    </tr>\n",
       "    <tr>\n",
       "      <th>mean</th>\n",
       "      <td>5199.500000</td>\n",
       "      <td>2.264929e+07</td>\n",
       "      <td>8.550230</td>\n",
       "      <td>107.622212</td>\n",
       "    </tr>\n",
       "    <tr>\n",
       "      <th>std</th>\n",
       "      <td>1269.737571</td>\n",
       "      <td>3.689991e+07</td>\n",
       "      <td>12.209014</td>\n",
       "      <td>21.058290</td>\n",
       "    </tr>\n",
       "    <tr>\n",
       "      <th>min</th>\n",
       "      <td>3001.000000</td>\n",
       "      <td>0.000000e+00</td>\n",
       "      <td>0.000001</td>\n",
       "      <td>0.000000</td>\n",
       "    </tr>\n",
       "    <tr>\n",
       "      <th>25%</th>\n",
       "      <td>4100.250000</td>\n",
       "      <td>0.000000e+00</td>\n",
       "      <td>3.895186</td>\n",
       "      <td>94.000000</td>\n",
       "    </tr>\n",
       "    <tr>\n",
       "      <th>50%</th>\n",
       "      <td>5199.500000</td>\n",
       "      <td>7.450000e+06</td>\n",
       "      <td>7.482242</td>\n",
       "      <td>104.000000</td>\n",
       "    </tr>\n",
       "    <tr>\n",
       "      <th>75%</th>\n",
       "      <td>6298.750000</td>\n",
       "      <td>2.800000e+07</td>\n",
       "      <td>10.938524</td>\n",
       "      <td>118.000000</td>\n",
       "    </tr>\n",
       "    <tr>\n",
       "      <th>max</th>\n",
       "      <td>7398.000000</td>\n",
       "      <td>2.600000e+08</td>\n",
       "      <td>547.488298</td>\n",
       "      <td>320.000000</td>\n",
       "    </tr>\n",
       "  </tbody>\n",
       "</table>\n",
       "</div>"
      ],
      "text/plain": [
       "                id        budget   popularity      runtime\n",
       "count  4398.000000  4.398000e+03  4398.000000  4394.000000\n",
       "mean   5199.500000  2.264929e+07     8.550230   107.622212\n",
       "std    1269.737571  3.689991e+07    12.209014    21.058290\n",
       "min    3001.000000  0.000000e+00     0.000001     0.000000\n",
       "25%    4100.250000  0.000000e+00     3.895186    94.000000\n",
       "50%    5199.500000  7.450000e+06     7.482242   104.000000\n",
       "75%    6298.750000  2.800000e+07    10.938524   118.000000\n",
       "max    7398.000000  2.600000e+08   547.488298   320.000000"
      ]
     },
     "execution_count": 9,
     "metadata": {},
     "output_type": "execute_result"
    }
   ],
   "source": [
    "test.describe()"
   ]
  },
  {
   "cell_type": "markdown",
   "id": "9624a592",
   "metadata": {},
   "source": [
    "## 전처리"
   ]
  },
  {
   "cell_type": "markdown",
   "id": "92703598",
   "metadata": {},
   "source": [
    "### collection "
   ]
  },
  {
   "cell_type": "code",
   "execution_count": 10,
   "id": "f883e38d",
   "metadata": {},
   "outputs": [],
   "source": [
    "train['has_collection'] = 0\n",
    "train.loc[train[\"belongs_to_collection\"].isnull() == False , 'has_collection'] = 1\n",
    "\n",
    "test['has_collection'] = 0\n",
    "test.loc[test['belongs_to_collection'].isnull() == False, 'has_collection'] = 1"
   ]
  },
  {
   "cell_type": "markdown",
   "id": "b93a8420",
   "metadata": {},
   "source": [
    "### budget"
   ]
  },
  {
   "cell_type": "code",
   "execution_count": 11,
   "id": "a89bfab2",
   "metadata": {},
   "outputs": [],
   "source": [
    "train['log_budget'] = np.log1p(train['budget'])\n",
    "test['log_budget'] = np.log1p(test['budget'])"
   ]
  },
  {
   "cell_type": "markdown",
   "id": "2ec8765d",
   "metadata": {},
   "source": [
    "### homepage"
   ]
  },
  {
   "cell_type": "code",
   "execution_count": 12,
   "id": "46090b71",
   "metadata": {},
   "outputs": [],
   "source": [
    "train['has_homepage'] = 0\n",
    "train.loc[train[\"homepage\"].isnull() == False , 'has_homepage'] = 1\n",
    "\n",
    "test['has_homepage'] = 0\n",
    "test.loc[test['homepage'].isnull() == False, 'has_homepage'] = 1"
   ]
  },
  {
   "cell_type": "markdown",
   "id": "c8877965",
   "metadata": {},
   "source": [
    "### 장르\n",
    "5번째 장르까지 표시할 예정"
   ]
  },
  {
   "cell_type": "markdown",
   "id": "2669c3fb",
   "metadata": {},
   "source": [
    "#### train"
   ]
  },
  {
   "cell_type": "code",
   "execution_count": 13,
   "id": "5f77ae11",
   "metadata": {},
   "outputs": [],
   "source": [
    "def make_genres(order, index):\n",
    "    order_gen = []\n",
    "    \n",
    "    for i in tqdm(range(3000)):\n",
    "        try:\n",
    "            a = \"\".join(train[\"genres\"].str.split(\",\")[i][index]).split(\":\")[1].split(\"\\'\")[1]\n",
    "        except:\n",
    "            a = 0\n",
    "        order_gen.append(a)\n",
    "    return order_gen"
   ]
  },
  {
   "cell_type": "code",
   "execution_count": 14,
   "id": "d0dca86b",
   "metadata": {},
   "outputs": [
    {
     "name": "stderr",
     "output_type": "stream",
     "text": [
      "100%|█████████████████████████████████████████████████████████████████████████████| 3000/3000 [00:03<00:00, 824.92it/s]\n",
      "100%|█████████████████████████████████████████████████████████████████████████████| 3000/3000 [00:03<00:00, 812.64it/s]\n",
      "100%|█████████████████████████████████████████████████████████████████████████████| 3000/3000 [00:03<00:00, 836.06it/s]\n"
     ]
    }
   ],
   "source": [
    "train[\"first_genres\"] = make_genres(\"first\", 1)\n",
    "train[\"second_genres\"] = make_genres(\"second\", 3)\n",
    "train[\"third_genres\"] = make_genres(\"third\", 5)"
   ]
  },
  {
   "cell_type": "code",
   "execution_count": 15,
   "id": "a14db492",
   "metadata": {},
   "outputs": [
    {
     "data": {
      "text/html": [
       "<div>\n",
       "<style scoped>\n",
       "    .dataframe tbody tr th:only-of-type {\n",
       "        vertical-align: middle;\n",
       "    }\n",
       "\n",
       "    .dataframe tbody tr th {\n",
       "        vertical-align: top;\n",
       "    }\n",
       "\n",
       "    .dataframe thead th {\n",
       "        text-align: right;\n",
       "    }\n",
       "</style>\n",
       "<table border=\"1\" class=\"dataframe\">\n",
       "  <thead>\n",
       "    <tr style=\"text-align: right;\">\n",
       "      <th></th>\n",
       "      <th>genres</th>\n",
       "      <th>first_genres</th>\n",
       "      <th>second_genres</th>\n",
       "      <th>third_genres</th>\n",
       "    </tr>\n",
       "  </thead>\n",
       "  <tbody>\n",
       "    <tr>\n",
       "      <th>1929</th>\n",
       "      <td>[{'id': 18, 'name': 'Drama'}, {'id': 10749, 'n...</td>\n",
       "      <td>Drama</td>\n",
       "      <td>Romance</td>\n",
       "      <td>0</td>\n",
       "    </tr>\n",
       "    <tr>\n",
       "      <th>952</th>\n",
       "      <td>[{'id': 10749, 'name': 'Romance'}, {'id': 35, ...</td>\n",
       "      <td>Romance</td>\n",
       "      <td>Comedy</td>\n",
       "      <td>0</td>\n",
       "    </tr>\n",
       "    <tr>\n",
       "      <th>2712</th>\n",
       "      <td>[{'id': 53, 'name': 'Thriller'}, {'id': 878, '...</td>\n",
       "      <td>Thriller</td>\n",
       "      <td>Science Fiction</td>\n",
       "      <td>Mystery</td>\n",
       "    </tr>\n",
       "    <tr>\n",
       "      <th>2848</th>\n",
       "      <td>[{'id': 10402, 'name': 'Music'}, {'id': 18, 'n...</td>\n",
       "      <td>Music</td>\n",
       "      <td>Drama</td>\n",
       "      <td>0</td>\n",
       "    </tr>\n",
       "    <tr>\n",
       "      <th>2880</th>\n",
       "      <td>[{'id': 28, 'name': 'Action'}, {'id': 18, 'nam...</td>\n",
       "      <td>Action</td>\n",
       "      <td>Drama</td>\n",
       "      <td>Thriller</td>\n",
       "    </tr>\n",
       "  </tbody>\n",
       "</table>\n",
       "</div>"
      ],
      "text/plain": [
       "                                                 genres first_genres  \\\n",
       "1929  [{'id': 18, 'name': 'Drama'}, {'id': 10749, 'n...        Drama   \n",
       "952   [{'id': 10749, 'name': 'Romance'}, {'id': 35, ...      Romance   \n",
       "2712  [{'id': 53, 'name': 'Thriller'}, {'id': 878, '...     Thriller   \n",
       "2848  [{'id': 10402, 'name': 'Music'}, {'id': 18, 'n...        Music   \n",
       "2880  [{'id': 28, 'name': 'Action'}, {'id': 18, 'nam...       Action   \n",
       "\n",
       "        second_genres third_genres  \n",
       "1929          Romance            0  \n",
       "952            Comedy            0  \n",
       "2712  Science Fiction      Mystery  \n",
       "2848            Drama            0  \n",
       "2880            Drama     Thriller  "
      ]
     },
     "execution_count": 15,
     "metadata": {},
     "output_type": "execute_result"
    }
   ],
   "source": [
    "train[[\"genres\", \"first_genres\", \"second_genres\", \"third_genres\"]].sample(5)"
   ]
  },
  {
   "cell_type": "markdown",
   "id": "3450b49f",
   "metadata": {},
   "source": [
    "머신러닝 적용을 위해 장르명(문자형)을 장르코드(숫자)로 바꿔줌"
   ]
  },
  {
   "cell_type": "code",
   "execution_count": 16,
   "id": "a8b7013e",
   "metadata": {},
   "outputs": [
    {
     "name": "stdout",
     "output_type": "stream",
     "text": [
      "순서별 장르의 nunique 값\n",
      "21 20 20\n",
      "==============================\n",
      "second: {'TV Movie'}\n",
      "third: {'TV Movie'}\n"
     ]
    }
   ],
   "source": [
    "print(\"순서별 장르의 nunique 값\")\n",
    "print(train[\"first_genres\"].nunique(), train[\"second_genres\"].nunique(), train[\"third_genres\"].nunique())\n",
    "      \n",
    "print(\"=\" * 30)\n",
    "      \n",
    "print(\"second:\", set(train[\"first_genres\"]) - set(train[\"second_genres\"]))\n",
    "print(\"third:\", set(train[\"first_genres\"]) - set(train[\"third_genres\"]))"
   ]
  },
  {
   "cell_type": "code",
   "execution_count": 17,
   "id": "f9fa2b1e",
   "metadata": {},
   "outputs": [],
   "source": [
    "train[\"first_genres\"].unique()\n",
    "\n",
    "# 하드코딩\n",
    "genres_code = {0:0, 'Comedy':1, 'Drama':2, 'Thriller':3, 'Action':4, \n",
    "               'Animation':5, 'Horror':6, 'Documentary':7, 'Adventure':8, \n",
    "               'Crime':9, 'Mystery':10, 'Fantasy':11, 'War':12,\n",
    "               'Science Fiction':13, 'Romance':14, 'Music':15, 'Western':16, \n",
    "               'Family':17, 'History':18, 'Foreign':19, 'TV Movie':20}"
   ]
  },
  {
   "cell_type": "code",
   "execution_count": 18,
   "id": "24302ab5",
   "metadata": {},
   "outputs": [],
   "source": [
    "train[\"first_genres_code\"] = train[\"first_genres\"].apply(lambda x : genres_code[x])\n",
    "train[\"second_genres_code\"] = train[\"second_genres\"].apply(lambda x : genres_code[x])\n",
    "train[\"third_genres_code\"] = train[\"third_genres\"].apply(lambda x : genres_code[x])"
   ]
  },
  {
   "cell_type": "markdown",
   "id": "83ec74c8",
   "metadata": {},
   "source": [
    "#### test"
   ]
  },
  {
   "cell_type": "code",
   "execution_count": 19,
   "id": "4295e769",
   "metadata": {},
   "outputs": [],
   "source": [
    "# test에도 동일하게 처리해준다.\n",
    "def make_genres(order, index):\n",
    "    order_gen = []\n",
    "    \n",
    "    for i in tqdm(range(4398)):\n",
    "        try:\n",
    "            a = \"\".join(test[\"genres\"].str.split(\",\")[i][index]).split(\":\")[1].split(\"\\'\")[1]\n",
    "        except:\n",
    "            a = 0\n",
    "        order_gen.append(a)\n",
    "    return order_gen"
   ]
  },
  {
   "cell_type": "code",
   "execution_count": 20,
   "id": "72939bf4",
   "metadata": {},
   "outputs": [
    {
     "name": "stderr",
     "output_type": "stream",
     "text": [
      "100%|█████████████████████████████████████████████████████████████████████████████| 4398/4398 [00:08<00:00, 530.60it/s]\n",
      "100%|█████████████████████████████████████████████████████████████████████████████| 4398/4398 [00:08<00:00, 519.10it/s]\n",
      "100%|█████████████████████████████████████████████████████████████████████████████| 4398/4398 [00:08<00:00, 538.09it/s]\n"
     ]
    }
   ],
   "source": [
    "test[\"first_genres\"] = make_genres(\"first\", 1)\n",
    "test[\"second_genres\"] = make_genres(\"second\", 3)\n",
    "test[\"third_genres\"] = make_genres(\"third\", 5)"
   ]
  },
  {
   "cell_type": "code",
   "execution_count": 21,
   "id": "0a5ab8a3",
   "metadata": {},
   "outputs": [
    {
     "data": {
      "text/html": [
       "<div>\n",
       "<style scoped>\n",
       "    .dataframe tbody tr th:only-of-type {\n",
       "        vertical-align: middle;\n",
       "    }\n",
       "\n",
       "    .dataframe tbody tr th {\n",
       "        vertical-align: top;\n",
       "    }\n",
       "\n",
       "    .dataframe thead th {\n",
       "        text-align: right;\n",
       "    }\n",
       "</style>\n",
       "<table border=\"1\" class=\"dataframe\">\n",
       "  <thead>\n",
       "    <tr style=\"text-align: right;\">\n",
       "      <th></th>\n",
       "      <th>genres</th>\n",
       "      <th>first_genres</th>\n",
       "      <th>second_genres</th>\n",
       "      <th>third_genres</th>\n",
       "    </tr>\n",
       "  </thead>\n",
       "  <tbody>\n",
       "    <tr>\n",
       "      <th>232</th>\n",
       "      <td>[{'id': 18, 'name': 'Drama'}, {'id': 35, 'name...</td>\n",
       "      <td>Drama</td>\n",
       "      <td>Comedy</td>\n",
       "      <td>Romance</td>\n",
       "    </tr>\n",
       "    <tr>\n",
       "      <th>3667</th>\n",
       "      <td>[{'id': 18, 'name': 'Drama'}, {'id': 10749, 'n...</td>\n",
       "      <td>Drama</td>\n",
       "      <td>Romance</td>\n",
       "      <td>0</td>\n",
       "    </tr>\n",
       "    <tr>\n",
       "      <th>1765</th>\n",
       "      <td>[{'id': 28, 'name': 'Action'}, {'id': 18, 'nam...</td>\n",
       "      <td>Action</td>\n",
       "      <td>Drama</td>\n",
       "      <td>Mystery</td>\n",
       "    </tr>\n",
       "    <tr>\n",
       "      <th>311</th>\n",
       "      <td>[{'id': 28, 'name': 'Action'}, {'id': 80, 'nam...</td>\n",
       "      <td>Action</td>\n",
       "      <td>Crime</td>\n",
       "      <td>Drama</td>\n",
       "    </tr>\n",
       "    <tr>\n",
       "      <th>781</th>\n",
       "      <td>[{'id': 53, 'name': 'Thriller'}, {'id': 35, 'n...</td>\n",
       "      <td>Thriller</td>\n",
       "      <td>Comedy</td>\n",
       "      <td>Romance</td>\n",
       "    </tr>\n",
       "  </tbody>\n",
       "</table>\n",
       "</div>"
      ],
      "text/plain": [
       "                                                 genres first_genres  \\\n",
       "232   [{'id': 18, 'name': 'Drama'}, {'id': 35, 'name...        Drama   \n",
       "3667  [{'id': 18, 'name': 'Drama'}, {'id': 10749, 'n...        Drama   \n",
       "1765  [{'id': 28, 'name': 'Action'}, {'id': 18, 'nam...       Action   \n",
       "311   [{'id': 28, 'name': 'Action'}, {'id': 80, 'nam...       Action   \n",
       "781   [{'id': 53, 'name': 'Thriller'}, {'id': 35, 'n...     Thriller   \n",
       "\n",
       "     second_genres third_genres  \n",
       "232         Comedy      Romance  \n",
       "3667       Romance            0  \n",
       "1765         Drama      Mystery  \n",
       "311          Crime        Drama  \n",
       "781         Comedy      Romance  "
      ]
     },
     "execution_count": 21,
     "metadata": {},
     "output_type": "execute_result"
    }
   ],
   "source": [
    "test[[\"genres\", \"first_genres\", \"second_genres\", \"third_genres\"]].sample(5)"
   ]
  },
  {
   "cell_type": "code",
   "execution_count": 22,
   "id": "62d66a69",
   "metadata": {},
   "outputs": [
    {
     "name": "stdout",
     "output_type": "stream",
     "text": [
      "순서별 장르의 nunique 값\n",
      "20 20 20\n",
      "==============================\n",
      "second: set()\n",
      "third: set()\n"
     ]
    }
   ],
   "source": [
    "print(\"순서별 장르의 nunique 값\")\n",
    "print(test[\"first_genres\"].nunique(), test[\"second_genres\"].nunique(), test[\"third_genres\"].nunique())\n",
    "\n",
    "print(\"=\" * 30)\n",
    "print(\"second:\", set(test[\"first_genres\"]) - set(test[\"second_genres\"]))\n",
    "print(\"third:\", set(test[\"first_genres\"]) - set(test[\"third_genres\"]))"
   ]
  },
  {
   "cell_type": "markdown",
   "id": "0f3d0d40",
   "metadata": {},
   "source": [
    "train에서 하드코딩한 값을 test에도 적용하여 장르명을 장르코드로 만들어준다."
   ]
  },
  {
   "cell_type": "code",
   "execution_count": 23,
   "id": "363a1556",
   "metadata": {},
   "outputs": [],
   "source": [
    "test[\"first_genres_code\"] = test[\"first_genres\"].apply(lambda x : genres_code[x])\n",
    "test[\"second_genres_code\"] = test[\"second_genres\"].apply(lambda x : genres_code[x])\n",
    "test[\"third_genres_code\"] = test[\"third_genres\"].apply(lambda x : genres_code[x])"
   ]
  },
  {
   "cell_type": "markdown",
   "id": "458ad106",
   "metadata": {},
   "source": [
    "#### 사용하지 않을 컬럼 삭제"
   ]
  },
  {
   "cell_type": "code",
   "execution_count": 24,
   "id": "9dd369eb",
   "metadata": {},
   "outputs": [
    {
     "data": {
      "text/plain": [
       "((3000, 28), (4398, 27), {'revenue'})"
      ]
     },
     "execution_count": 24,
     "metadata": {},
     "output_type": "execute_result"
    }
   ],
   "source": [
    "train = train.drop(columns = [\"genres\", \"first_genres\", \"second_genres\", \"third_genres\"])\n",
    "test = test.drop(columns = [\"genres\", \"first_genres\", \"second_genres\", \"third_genres\"])\n",
    "\n",
    "train.shape, test.shape, set(train) - set(test)"
   ]
  },
  {
   "cell_type": "markdown",
   "id": "ef0eb60f",
   "metadata": {},
   "source": [
    "### original language\n",
    "\n",
    "희소한값에 대해서는 기타 처리"
   ]
  },
  {
   "cell_type": "code",
   "execution_count": 25,
   "id": "f55c309f",
   "metadata": {},
   "outputs": [
    {
     "data": {
      "text/plain": [
       "id       1\n",
       "ur       1\n",
       "el       1\n",
       "ar       1\n",
       "nb       1\n",
       "he       1\n",
       "mr       1\n",
       "cs       1\n",
       "sr       1\n",
       "vi       1\n",
       "bn       1\n",
       "fi       2\n",
       "te       2\n",
       "pl       2\n",
       "ml       2\n",
       "no       2\n",
       "hu       3\n",
       "tr       3\n",
       "ro       4\n",
       "fa       5\n",
       "da       5\n",
       "pt       6\n",
       "nl       6\n",
       "sv       8\n",
       "ta      16\n",
       "de      18\n",
       "zh      19\n",
       "cn      20\n",
       "ko      20\n",
       "it      24\n",
       "ja      37\n",
       "hi      42\n",
       "es      43\n",
       "ru      47\n",
       "fr      78\n",
       "en    2575\n",
       "Name: original_language, dtype: int64"
      ]
     },
     "execution_count": 25,
     "metadata": {},
     "output_type": "execute_result"
    }
   ],
   "source": [
    "train[\"original_language\"].value_counts().nsmallest(40)"
   ]
  },
  {
   "cell_type": "markdown",
   "id": "bf140a2f",
   "metadata": {},
   "source": [
    "특정 수치 이하인 것은 기타로 묶어주겠다."
   ]
  },
  {
   "cell_type": "code",
   "execution_count": 26,
   "id": "435c20b2",
   "metadata": {},
   "outputs": [
    {
     "name": "stdout",
     "output_type": "stream",
     "text": [
      "['en', 'fr', 'ru']\n"
     ]
    }
   ],
   "source": [
    "original_language_count = train[\"original_language\"].value_counts()\n",
    "original_language_under = original_language_count[original_language_count >= 47].index.to_list()\n",
    "print(original_language_under)"
   ]
  },
  {
   "cell_type": "markdown",
   "id": "46cdb5d6",
   "metadata": {},
   "source": [
    "#### train"
   ]
  },
  {
   "cell_type": "code",
   "execution_count": 27,
   "id": "c72decd5",
   "metadata": {},
   "outputs": [
    {
     "data": {
      "text/plain": [
       "(en     2575\n",
       " etc     300\n",
       " fr       78\n",
       " ru       47\n",
       " Name: original_language_etc, dtype: int64,\n",
       " 4)"
      ]
     },
     "execution_count": 27,
     "metadata": {},
     "output_type": "execute_result"
    }
   ],
   "source": [
    "train[\"original_language_etc\"] = train[\"original_language\"]\n",
    "train.loc[~train[\"original_language\"].isin(original_language_under), \"original_language_etc\"] = \"etc\"\n",
    "\n",
    "train[[\"original_language\", \"original_language_etc\"]]\n",
    "train[\"original_language_etc\"].value_counts(), train[\"original_language_etc\"].nunique()"
   ]
  },
  {
   "cell_type": "markdown",
   "id": "c0321b9c",
   "metadata": {},
   "source": [
    "#### test"
   ]
  },
  {
   "cell_type": "code",
   "execution_count": 28,
   "id": "b52e0764",
   "metadata": {},
   "outputs": [
    {
     "data": {
      "text/plain": [
       "(en     3776\n",
       " etc     439\n",
       " fr      121\n",
       " ru       62\n",
       " Name: original_language_etc, dtype: int64,\n",
       " 4)"
      ]
     },
     "execution_count": 28,
     "metadata": {},
     "output_type": "execute_result"
    }
   ],
   "source": [
    "test[\"original_language_etc\"] = test[\"original_language\"]\n",
    "test.loc[~test[\"original_language\"].isin(original_language_under), \"original_language_etc\"] = \"etc\"\n",
    "\n",
    "test[[\"original_language\", \"original_language_etc\"]]\n",
    "test[\"original_language_etc\"].value_counts(), test[\"original_language_etc\"].nunique()"
   ]
  },
  {
   "cell_type": "markdown",
   "id": "4cc83d19",
   "metadata": {},
   "source": [
    "#### 사용하지 않을 컬럼 삭제 "
   ]
  },
  {
   "cell_type": "code",
   "execution_count": 29,
   "id": "180a849d",
   "metadata": {},
   "outputs": [
    {
     "data": {
      "text/plain": [
       "((3000, 28), (4398, 27))"
      ]
     },
     "execution_count": 29,
     "metadata": {},
     "output_type": "execute_result"
    }
   ],
   "source": [
    "train = train.drop(columns = \"original_language\")\n",
    "test = test.drop(columns = \"original_language\")\n",
    "train.shape, test.shape"
   ]
  },
  {
   "cell_type": "markdown",
   "id": "ab30ba9e",
   "metadata": {},
   "source": [
    "### popularity"
   ]
  },
  {
   "cell_type": "code",
   "execution_count": 30,
   "id": "381d55c3",
   "metadata": {},
   "outputs": [
    {
     "name": "stdout",
     "output_type": "stream",
     "text": [
      "count    3000.000000\n",
      "mean        8.463274\n",
      "std        12.104000\n",
      "min         0.000001\n",
      "25%         4.018053\n",
      "50%         7.374861\n",
      "75%        10.890983\n",
      "max       294.337037\n",
      "Name: popularity, dtype: float64\n"
     ]
    },
    {
     "data": {
      "image/png": "[encoded data removed]",
      "text/plain": [
       "<Figure size 1080x360 with 1 Axes>"
      ]
     },
     "metadata": {
      "needs_background": "light"
     },
     "output_type": "display_data"
    }
   ],
   "source": [
    "print(train[\"popularity\"].describe())\n",
    "\n",
    "plt.figure(figsize = (15,5))\n",
    "sns.boxplot(data = train, x = \"popularity\");"
   ]
  },
  {
   "cell_type": "code",
   "execution_count": 31,
   "id": "74ec6b5e",
   "metadata": {},
   "outputs": [],
   "source": [
    "per_25 = train[\"popularity\"].describe()[4]\n",
    "per_75 = train[\"popularity\"].describe()[6]"
   ]
  },
  {
   "cell_type": "markdown",
   "id": "e09e7282",
   "metadata": {},
   "source": [
    "#### train"
   ]
  },
  {
   "cell_type": "code",
   "execution_count": 32,
   "id": "9c0137a3",
   "metadata": {},
   "outputs": [
    {
     "data": {
      "text/plain": [
       "median    1500\n",
       "high       750\n",
       "low        750\n",
       "Name: popularity_class, dtype: int64"
      ]
     },
     "execution_count": 32,
     "metadata": {},
     "output_type": "execute_result"
    }
   ],
   "source": [
    "train.loc[train[\"popularity\"] < per_25, \"popularity_class\"] = \"low\"\n",
    "train.loc[train[\"popularity\"] > per_75, \"popularity_class\"] = \"high\"\n",
    "train[\"popularity_class\"].fillna(\"median\", inplace = True)\n",
    "train[\"popularity_class\"].value_counts()"
   ]
  },
  {
   "cell_type": "markdown",
   "id": "bc6020ab",
   "metadata": {},
   "source": [
    "#### test"
   ]
  },
  {
   "cell_type": "code",
   "execution_count": 33,
   "id": "da69e41e",
   "metadata": {},
   "outputs": [
    {
     "data": {
      "text/plain": [
       "median    2152\n",
       "low       1133\n",
       "high      1113\n",
       "Name: popularity_class, dtype: int64"
      ]
     },
     "execution_count": 33,
     "metadata": {},
     "output_type": "execute_result"
    }
   ],
   "source": [
    "test.loc[test[\"popularity\"] < per_25, \"popularity_class\"] = \"low\"\n",
    "test.loc[test[\"popularity\"] > per_75, \"popularity_class\"] = \"high\"\n",
    "test[\"popularity_class\"].fillna(\"median\", inplace = True)\n",
    "test[\"popularity_class\"].value_counts()"
   ]
  },
  {
   "cell_type": "markdown",
   "id": "650968c5",
   "metadata": {},
   "source": [
    "#### 사용하지 않을 컬럼 삭제"
   ]
  },
  {
   "cell_type": "code",
   "execution_count": 34,
   "id": "2e12cfaa",
   "metadata": {},
   "outputs": [
    {
     "data": {
      "text/plain": [
       "((3000, 28), (4398, 27))"
      ]
     },
     "execution_count": 34,
     "metadata": {},
     "output_type": "execute_result"
    }
   ],
   "source": [
    "train = train.drop(columns = \"popularity\")\n",
    "test = test.drop(columns = \"popularity\")\n",
    "train.shape, test.shape"
   ]
  },
  {
   "cell_type": "markdown",
   "id": "846e3553",
   "metadata": {},
   "source": [
    "### production_companies\n",
    "2번째 회사까지 표시할 예정\n",
    "\n",
    "#### train"
   ]
  },
  {
   "cell_type": "code",
   "execution_count": 35,
   "id": "131a4991",
   "metadata": {},
   "outputs": [],
   "source": [
    "def make_company(order, index):\n",
    "    order_company = []\n",
    "    \n",
    "    for i in tqdm(range(3000)):\n",
    "        try:\n",
    "            a = \"\".join(train[\"production_companies\"].str.split(\",\")[i][index]).split(\":\")[1].split(\"\\'\")[1]\n",
    "        except:\n",
    "            a = 0\n",
    "        order_company.append(a)\n",
    "    return order_company"
   ]
  },
  {
   "cell_type": "code",
   "execution_count": 36,
   "id": "b3dc4128",
   "metadata": {},
   "outputs": [
    {
     "name": "stderr",
     "output_type": "stream",
     "text": [
      "100%|█████████████████████████████████████████████████████████████████████████████| 3000/3000 [00:03<00:00, 809.37it/s]\n",
      "100%|█████████████████████████████████████████████████████████████████████████████| 3000/3000 [00:03<00:00, 848.01it/s]\n"
     ]
    }
   ],
   "source": [
    "train[\"first_company\"] = make_company(\"first\", 0)\n",
    "train[\"second_company\"] = make_company(\"second\", 2)"
   ]
  },
  {
   "cell_type": "markdown",
   "id": "e27ac38d",
   "metadata": {},
   "source": [
    "#### test"
   ]
  },
  {
   "cell_type": "code",
   "execution_count": 37,
   "id": "7c4cb641",
   "metadata": {},
   "outputs": [],
   "source": [
    "def make_company(order, index):\n",
    "    order_company = []\n",
    "    \n",
    "    for i in tqdm(range(4398)):\n",
    "        try:\n",
    "            a = \"\".join(test[\"production_companies\"].str.split(\",\")[i][index]).split(\":\")[1].split(\"\\'\")[1]\n",
    "        except:\n",
    "            a = 0\n",
    "        order_company.append(a)\n",
    "    return order_company"
   ]
  },
  {
   "cell_type": "code",
   "execution_count": 38,
   "id": "bcc28e51",
   "metadata": {},
   "outputs": [
    {
     "name": "stderr",
     "output_type": "stream",
     "text": [
      "100%|█████████████████████████████████████████████████████████████████████████████| 4398/4398 [00:09<00:00, 452.24it/s]\n",
      "100%|█████████████████████████████████████████████████████████████████████████████| 4398/4398 [00:09<00:00, 467.14it/s]\n"
     ]
    }
   ],
   "source": [
    "test[\"first_company\"] = make_company(\"first\", 0)\n",
    "test[\"second_company\"] = make_company(\"second\", 2)"
   ]
  },
  {
   "cell_type": "markdown",
   "id": "66d4d05d",
   "metadata": {},
   "source": [
    "#### 소형, 중대형으로 분류하기\n",
    "\n",
    "- 4 이하이면 소형, 4초과이면 중대형\n",
    "- train의 first_comapny 빈도수 기준"
   ]
  },
  {
   "cell_type": "code",
   "execution_count": 39,
   "id": "655a042e",
   "metadata": {},
   "outputs": [
    {
     "name": "stdout",
     "output_type": "stream",
     "text": [
      "['Universal Pictures', 'Paramount Pictures', 0, 'Twentieth Century Fox Film Corporation', 'Columbia Pictures', 'Warner Bros.', 'New Line Cinema', 'Walt Disney Pictures', 'TriStar Pictures', 'Columbia Pictures Corporation', 'United Artists', 'Metro-Goldwyn-Mayer (MGM)', 'Miramax Films', 'Fox Searchlight Pictures', 'Touchstone Pictures', 'Village Roadshow Pictures', 'BBC Films', 'Orion Pictures', 'Hollywood Pictures', 'Summit Entertainment', 'Lionsgate', 'DreamWorks SKG', 'Imagine Entertainment', 'StudioCanal', 'Lions Gate Films', 'Fox 2000 Pictures', 'Regency Enterprises', 'Lakeshore Entertainment', 'The Weinstein Company', 'France 2 Cinéma', 'Dune Entertainment', 'Legendary Pictures', 'Cannon Group', 'Castle Rock Entertainment', 'Eon Productions', 'Gaumont', 'WingNut Films', 'Dimension Films', 'American Zoetrope', 'Universal Studios', 'Original Film', 'Lucasfilm', 'Silver Pictures', 'Studio Babelsberg', 'Alcon Entertainment', 'Fine Line Features', 'Screen Gems', 'Channel Four Films', 'Ingenious Film Partners', 'Marvel Studios', 'Blumhouse Productions', 'Blue Sky Studios', 'Double Feature Films', 'Relativity Media', 'Killer Films', 'UTV Motion Pictures', 'Artisan Entertainment', 'Participant Media', 'Malpaso Productions', 'RKO Radio Pictures', 'PolyGram Filmed Entertainment', 'Amblin Entertainment', 'Sony Pictures Classics', 'Canal+', 'Impact Pictures', 'Emperor Motion Pictures', 'Constantin Film', '2929 Productions', 'Canal Plus', 'Plan B Entertainment', 'Focus Features', 'Rogue Pictures', 'DreamWorks', 'Golden Harvest Company']\n"
     ]
    }
   ],
   "source": [
    "first_company_count = train[\"first_company\"].value_counts()\n",
    "first_company_under = first_company_count[first_company_count > 4].index.to_list()\n",
    "print(first_company_under)"
   ]
  },
  {
   "cell_type": "code",
   "execution_count": 40,
   "id": "3e7ccb20",
   "metadata": {},
   "outputs": [],
   "source": [
    "train[\"first_company_class\"] = \"중대형\"\n",
    "train.loc[~train[\"first_company\"].isin(first_company_under), \"first_company_class\"] = \"소형\"\n",
    "\n",
    "train[\"second_company_class\"] = \"중대형\"\n",
    "train.loc[~train[\"second_company\"].isin(first_company_under), \"second_company_class\"] = \"소형\"\n",
    "\n",
    "test[\"first_company_class\"] = \"중대형\"\n",
    "test.loc[~test[\"first_company\"].isin(first_company_under), \"first_company_class\"] = \"소형\"\n",
    "\n",
    "test[\"second_company_class\"] = \"중대형\"\n",
    "test.loc[~test[\"second_company\"].isin(first_company_under), \"second_company_class\"] = \"소형\""
   ]
  },
  {
   "cell_type": "markdown",
   "id": "a46049fe",
   "metadata": {},
   "source": [
    "#### 사용하지 않을 컬럼 삭제"
   ]
  },
  {
   "cell_type": "code",
   "execution_count": 41,
   "id": "140ae54e",
   "metadata": {},
   "outputs": [
    {
     "data": {
      "text/plain": [
       "((3000, 29), (4398, 28))"
      ]
     },
     "execution_count": 41,
     "metadata": {},
     "output_type": "execute_result"
    }
   ],
   "source": [
    "train = train.drop(columns = [\"first_company\",\"second_company\",\"production_companies\"])\n",
    "test = test.drop(columns = [\"first_company\",\"second_company\",\"production_companies\"])\n",
    "train.shape, test.shape"
   ]
  },
  {
   "cell_type": "markdown",
   "id": "c31e7020",
   "metadata": {},
   "source": [
    "### production_countries\n",
    "\n",
    "첫번째 국가만 표시할 예정"
   ]
  },
  {
   "cell_type": "markdown",
   "id": "17696ebb",
   "metadata": {},
   "source": [
    "#### train"
   ]
  },
  {
   "cell_type": "code",
   "execution_count": 42,
   "id": "86cf3a37",
   "metadata": {},
   "outputs": [],
   "source": [
    "def make_country(order, index):\n",
    "    order_country = []\n",
    "    \n",
    "    for i in tqdm(range(3000)):\n",
    "        try:\n",
    "            a = \"\".join(train[\"production_countries\"].str.split(\",\")[i][index]).split(\":\")[1].split(\"\\'\")[1]\n",
    "        except:\n",
    "            a = 0\n",
    "        order_country.append(a)\n",
    "    return order_country"
   ]
  },
  {
   "cell_type": "code",
   "execution_count": 43,
   "id": "01050c02",
   "metadata": {},
   "outputs": [
    {
     "name": "stderr",
     "output_type": "stream",
     "text": [
      "100%|████████████████████████████████████████████████████████████████████████████| 3000/3000 [00:02<00:00, 1049.43it/s]\n"
     ]
    }
   ],
   "source": [
    "train[\"production_country\"]= make_country(\"first\", 0)"
   ]
  },
  {
   "cell_type": "markdown",
   "id": "cb6589d7",
   "metadata": {},
   "source": [
    "#### test"
   ]
  },
  {
   "cell_type": "code",
   "execution_count": 44,
   "id": "f7c54247",
   "metadata": {},
   "outputs": [],
   "source": [
    "def make_country(order, index):\n",
    "    order_country = []\n",
    "    \n",
    "    for i in tqdm(range(4398)):\n",
    "        try:\n",
    "            a = \"\".join(test[\"production_countries\"].str.split(\",\")[i][index]).split(\":\")[1].split(\"\\'\")[1]\n",
    "        except:\n",
    "            a = 0\n",
    "        order_country.append(a)\n",
    "    return order_country"
   ]
  },
  {
   "cell_type": "code",
   "execution_count": 45,
   "id": "1eec23a3",
   "metadata": {},
   "outputs": [
    {
     "name": "stderr",
     "output_type": "stream",
     "text": [
      "100%|█████████████████████████████████████████████████████████████████████████████| 4398/4398 [00:06<00:00, 679.94it/s]\n"
     ]
    }
   ],
   "source": [
    "test[\"production_country\"]= make_country(\"first\", 0)"
   ]
  },
  {
   "cell_type": "markdown",
   "id": "492df9f1",
   "metadata": {},
   "source": [
    "#### 국가 희소값 처리"
   ]
  },
  {
   "cell_type": "code",
   "execution_count": 46,
   "id": "48dba3e6",
   "metadata": {},
   "outputs": [
    {
     "name": "stdout",
     "output_type": "stream",
     "text": [
      "['US', 'GB']\n"
     ]
    },
    {
     "data": {
      "image/png": "[encoded data removed]",
      "text/plain": [
       "<Figure size 1080x216 with 1 Axes>"
      ]
     },
     "metadata": {
      "needs_background": "light"
     },
     "output_type": "display_data"
    }
   ],
   "source": [
    "plt.figure(figsize = (15,3))\n",
    "sns.countplot(data = train, x = \"production_country\");\n",
    "\n",
    "production_country_count = train[\"production_country\"].value_counts()\n",
    "production_country_under = production_country_count[production_country_count >= 150].index.to_list()\n",
    "print(production_country_under)"
   ]
  },
  {
   "cell_type": "code",
   "execution_count": 47,
   "id": "4664bcc8",
   "metadata": {
    "scrolled": true
   },
   "outputs": [
    {
     "data": {
      "text/plain": [
       "US    1818\n",
       "GB     234\n",
       "FR     147\n",
       "CA      97\n",
       "DE      90\n",
       "IN      78\n",
       "0       55\n",
       "AU      52\n",
       "JP      50\n",
       "RU      47\n",
       "IT      36\n",
       "CN      34\n",
       "ES      33\n",
       "HK      20\n",
       "KR      19\n",
       "MX      19\n",
       "IE      17\n",
       "BE      14\n",
       "NZ      13\n",
       "BR      12\n",
       "DK      11\n",
       "CZ      10\n",
       "SE       8\n",
       "AT       6\n",
       "HU       6\n",
       "NL       6\n",
       "GR       5\n",
       "AE       5\n",
       "FI       4\n",
       "RO       4\n",
       "IR       4\n",
       "NO       3\n",
       "CL       3\n",
       "ZA       3\n",
       "CH       2\n",
       "TR       2\n",
       "KH       2\n",
       "LU       2\n",
       "BS       2\n",
       "PH       2\n",
       "UA       2\n",
       "AR       2\n",
       "BG       2\n",
       "IL       2\n",
       "BF       1\n",
       "SG       1\n",
       "MT       1\n",
       "UY       1\n",
       "MR       1\n",
       "ID       1\n",
       "TW       1\n",
       "MN       1\n",
       "QA       1\n",
       "SA       1\n",
       "ET       1\n",
       "PK       1\n",
       "BA       1\n",
       "NA       1\n",
       "IS       1\n",
       "RS       1\n",
       "Name: production_country, dtype: int64"
      ]
     },
     "execution_count": 47,
     "metadata": {},
     "output_type": "execute_result"
    }
   ],
   "source": [
    "production_country_count.nlargest(60)"
   ]
  },
  {
   "cell_type": "code",
   "execution_count": 48,
   "id": "f46dd18a",
   "metadata": {},
   "outputs": [
    {
     "data": {
      "text/plain": [
       "3"
      ]
     },
     "execution_count": 48,
     "metadata": {},
     "output_type": "execute_result"
    }
   ],
   "source": [
    "train[\"production_country_etc\"] = train[\"production_country\"]\n",
    "train.loc[~train[\"production_country\"].isin(production_country_under), \"production_country_etc\"] = \"etc\"\n",
    "\n",
    "train[[\"production_country\", \"production_country_etc\"]]\n",
    "train[\"production_country_etc\"].value_counts()\n",
    "train[\"production_country_etc\"].nunique()\n",
    "\n",
    "test[\"production_country_etc\"] = test[\"production_country\"]\n",
    "test.loc[~test[\"production_country\"].isin(production_country_under), \"production_country_etc\"] = \"etc\"\n",
    "\n",
    "test[[\"production_country\", \"production_country_etc\"]]\n",
    "test[\"production_country_etc\"].value_counts()\n",
    "test[\"production_country_etc\"].nunique()"
   ]
  },
  {
   "cell_type": "markdown",
   "id": "7789f97c",
   "metadata": {},
   "source": [
    "#### 사용하지 않을 컬럼 삭제 "
   ]
  },
  {
   "cell_type": "code",
   "execution_count": 49,
   "id": "2da20f7e",
   "metadata": {},
   "outputs": [
    {
     "data": {
      "text/plain": [
       "((3000, 29), (4398, 28))"
      ]
     },
     "execution_count": 49,
     "metadata": {},
     "output_type": "execute_result"
    }
   ],
   "source": [
    "train = train.drop(columns = [\"production_countries\", \"production_country\"])\n",
    "test = test.drop(columns = [\"production_countries\", \"production_country\"])\n",
    "train.shape, test.shape"
   ]
  },
  {
   "cell_type": "markdown",
   "id": "5caa48fe",
   "metadata": {},
   "source": [
    "### release_date"
   ]
  },
  {
   "cell_type": "code",
   "execution_count": 50,
   "id": "96dfe44b",
   "metadata": {},
   "outputs": [],
   "source": [
    "train[\"release_date\"] = train[\"release_date\"].fillna(0)\n",
    "test[\"release_date\"] = test[\"release_date\"].fillna(0)"
   ]
  },
  {
   "cell_type": "markdown",
   "id": "8e4fbbd0",
   "metadata": {},
   "source": [
    "#### train "
   ]
  },
  {
   "cell_type": "code",
   "execution_count": 51,
   "id": "891c5cad",
   "metadata": {},
   "outputs": [],
   "source": [
    "train[\"release_date\"] = pd.to_datetime(train[\"release_date\"])\n",
    "\n",
    "train[\"개봉연도\"] = train[\"release_date\"].dt.year\n",
    "train[\"개봉월\"] = train[\"release_date\"].dt.month\n",
    "train[\"개봉일\"] = train[\"release_date\"].dt.day\n",
    "train[\"개봉요일\"] = train[\"release_date\"].dt.dayofweek"
   ]
  },
  {
   "cell_type": "markdown",
   "id": "e3b0ba9c",
   "metadata": {},
   "source": [
    "#### test "
   ]
  },
  {
   "cell_type": "code",
   "execution_count": 52,
   "id": "dc6011c9",
   "metadata": {},
   "outputs": [],
   "source": [
    "test[\"release_date\"] = pd.to_datetime(test[\"release_date\"])\n",
    "\n",
    "test[\"개봉연도\"] = test[\"release_date\"].dt.year\n",
    "test[\"개봉월\"] = test[\"release_date\"].dt.month\n",
    "test[\"개봉일\"] = test[\"release_date\"].dt.day\n",
    "test[\"개봉요일\"] = test[\"release_date\"].dt.dayofweek"
   ]
  },
  {
   "cell_type": "code",
   "execution_count": 53,
   "id": "642e1da5",
   "metadata": {},
   "outputs": [
    {
     "data": {
      "text/plain": [
       "((3000, 32), (4398, 31))"
      ]
     },
     "execution_count": 53,
     "metadata": {},
     "output_type": "execute_result"
    }
   ],
   "source": [
    "train = train.drop(columns = [\"release_date\"])\n",
    "test = test.drop(columns = [\"release_date\"])\n",
    "\n",
    "train.shape, test.shape"
   ]
  },
  {
   "cell_type": "markdown",
   "id": "e9882c21",
   "metadata": {},
   "source": [
    "### runtime"
   ]
  },
  {
   "cell_type": "code",
   "execution_count": 54,
   "id": "aa87db30",
   "metadata": {},
   "outputs": [
    {
     "data": {
      "text/plain": [
       "count    2998.000000\n",
       "mean      107.856571\n",
       "std        22.086434\n",
       "min         0.000000\n",
       "25%        94.000000\n",
       "50%       104.000000\n",
       "75%       118.000000\n",
       "max       338.000000\n",
       "Name: runtime, dtype: float64"
      ]
     },
     "execution_count": 54,
     "metadata": {},
     "output_type": "execute_result"
    }
   ],
   "source": [
    "train[\"runtime\"].describe()"
   ]
  },
  {
   "cell_type": "code",
   "execution_count": 55,
   "id": "f18fbd01",
   "metadata": {},
   "outputs": [],
   "source": [
    "per_25 = train[\"runtime\"].describe()[4]\n",
    "per_75 = train[\"runtime\"].describe()[6]"
   ]
  },
  {
   "cell_type": "code",
   "execution_count": 56,
   "id": "89caa081",
   "metadata": {},
   "outputs": [
    {
     "data": {
      "text/plain": [
       "median    1565\n",
       "high       737\n",
       "low        698\n",
       "Name: runtime_class, dtype: int64"
      ]
     },
     "execution_count": 56,
     "metadata": {},
     "output_type": "execute_result"
    }
   ],
   "source": [
    "train.loc[train[\"runtime\"] < per_25, \"runtime_class\"] = \"low\"\n",
    "train.loc[train[\"runtime\"] > per_75, \"runtime_class\"] = \"high\"\n",
    "train[\"runtime_class\"].fillna(\"median\", inplace = True)\n",
    "train[\"runtime_class\"].value_counts()"
   ]
  },
  {
   "cell_type": "code",
   "execution_count": 57,
   "id": "fd3ba454",
   "metadata": {},
   "outputs": [
    {
     "data": {
      "text/plain": [
       "median    2328\n",
       "high      1038\n",
       "low       1032\n",
       "Name: runtime_class, dtype: int64"
      ]
     },
     "execution_count": 57,
     "metadata": {},
     "output_type": "execute_result"
    }
   ],
   "source": [
    "test.loc[test[\"runtime\"] < per_25, \"runtime_class\"] = \"low\"\n",
    "test.loc[test[\"runtime\"] > per_75, \"runtime_class\"] = \"high\"\n",
    "test[\"runtime_class\"].fillna(\"median\", inplace = True)\n",
    "test[\"runtime_class\"].value_counts()"
   ]
  },
  {
   "cell_type": "code",
   "execution_count": 58,
   "id": "24c51484",
   "metadata": {},
   "outputs": [
    {
     "data": {
      "text/plain": [
       "((3000, 32), (4398, 31))"
      ]
     },
     "execution_count": 58,
     "metadata": {},
     "output_type": "execute_result"
    }
   ],
   "source": [
    "train = train.drop(columns = [\"runtime\"])\n",
    "test = test.drop(columns = [\"runtime\"])\n",
    "\n",
    "train.shape, test.shape"
   ]
  },
  {
   "cell_type": "markdown",
   "id": "6a16da7e",
   "metadata": {},
   "source": [
    "### spoken_languages"
   ]
  },
  {
   "cell_type": "markdown",
   "id": "d508f8cc",
   "metadata": {},
   "source": [
    "#### train"
   ]
  },
  {
   "cell_type": "code",
   "execution_count": 59,
   "id": "4cc64435",
   "metadata": {},
   "outputs": [
    {
     "name": "stderr",
     "output_type": "stream",
     "text": [
      "100%|█████████████████████████████████████████████████████████████████████████████| 3000/3000 [00:03<00:00, 960.80it/s]\n"
     ]
    }
   ],
   "source": [
    "num = []\n",
    "for i in tqdm(range(3000)):\n",
    "    try:\n",
    "        a = int(len(train[\"spoken_languages\"].str.split(\",\")[i])/2)\n",
    "    except:\n",
    "        a = 0\n",
    "    num.append(a)"
   ]
  },
  {
   "cell_type": "code",
   "execution_count": 60,
   "id": "17b26622",
   "metadata": {},
   "outputs": [],
   "source": [
    "train[\"spoken_languages_num\"] = num"
   ]
  },
  {
   "cell_type": "markdown",
   "id": "9cf067fe",
   "metadata": {},
   "source": [
    "#### test"
   ]
  },
  {
   "cell_type": "code",
   "execution_count": 61,
   "id": "ddbce2b7",
   "metadata": {},
   "outputs": [
    {
     "name": "stderr",
     "output_type": "stream",
     "text": [
      "100%|█████████████████████████████████████████████████████████████████████████████| 4398/4398 [00:07<00:00, 567.60it/s]\n"
     ]
    }
   ],
   "source": [
    "num = []\n",
    "for i in tqdm(range(4398)):\n",
    "    try:\n",
    "        a = int(len(test[\"spoken_languages\"].str.split(\",\")[i])/2)\n",
    "    except:\n",
    "        a = 0\n",
    "    num.append(a)"
   ]
  },
  {
   "cell_type": "code",
   "execution_count": 62,
   "id": "5b51aa43",
   "metadata": {},
   "outputs": [],
   "source": [
    "test[\"spoken_languages_num\"] = num"
   ]
  },
  {
   "cell_type": "markdown",
   "id": "d0609e41",
   "metadata": {},
   "source": [
    "### keywords "
   ]
  },
  {
   "cell_type": "code",
   "execution_count": 63,
   "id": "11cdeac5",
   "metadata": {},
   "outputs": [
    {
     "name": "stderr",
     "output_type": "stream",
     "text": [
      "100%|█████████████████████████████████████████████████████████████████████████████| 3000/3000 [00:06<00:00, 457.77it/s]\n"
     ]
    }
   ],
   "source": [
    "num = []\n",
    "for i in tqdm(range(3000)):\n",
    "    try:\n",
    "        a = int(len(train[\"Keywords\"].str.split(\",\")[i])/2)\n",
    "    except:\n",
    "        a = 0\n",
    "    num.append(a)"
   ]
  },
  {
   "cell_type": "code",
   "execution_count": 64,
   "id": "e784de61",
   "metadata": {},
   "outputs": [],
   "source": [
    "train[\"keywords_num\"] = num"
   ]
  },
  {
   "cell_type": "code",
   "execution_count": 65,
   "id": "ec4d9ec4",
   "metadata": {},
   "outputs": [
    {
     "name": "stderr",
     "output_type": "stream",
     "text": [
      "100%|█████████████████████████████████████████████████████████████████████████████| 4398/4398 [00:15<00:00, 279.20it/s]\n"
     ]
    }
   ],
   "source": [
    "num = []\n",
    "for i in tqdm(range(4398)):\n",
    "    try:\n",
    "        a = int(len(test[\"Keywords\"].str.split(\",\")[i])/2)\n",
    "    except:\n",
    "        a = 0\n",
    "    num.append(a)"
   ]
  },
  {
   "cell_type": "code",
   "execution_count": 66,
   "id": "ec431726",
   "metadata": {},
   "outputs": [],
   "source": [
    "test[\"keywords_num\"] = num"
   ]
  },
  {
   "cell_type": "markdown",
   "id": "b96fb50e",
   "metadata": {},
   "source": [
    "### cast"
   ]
  },
  {
   "cell_type": "code",
   "execution_count": 67,
   "id": "54d076d2",
   "metadata": {},
   "outputs": [
    {
     "name": "stderr",
     "output_type": "stream",
     "text": [
      "100%|██████████████████████████████████████████████████████████████████████████████| 3000/3000 [01:25<00:00, 35.10it/s]\n"
     ]
    }
   ],
   "source": [
    "num = []\n",
    "for i in tqdm(range(3000)):\n",
    "    try:\n",
    "        a = int(len(train[\"cast\"].str.split(\",\")[i])/8)\n",
    "    except:\n",
    "        a = 0\n",
    "    num.append(a)"
   ]
  },
  {
   "cell_type": "code",
   "execution_count": 68,
   "id": "ed14782e",
   "metadata": {},
   "outputs": [],
   "source": [
    "train[\"cast_num\"] = num"
   ]
  },
  {
   "cell_type": "code",
   "execution_count": 69,
   "id": "d6df2f64",
   "metadata": {},
   "outputs": [
    {
     "name": "stderr",
     "output_type": "stream",
     "text": [
      "100%|██████████████████████████████████████████████████████████████████████████████| 4398/4398 [03:10<00:00, 23.03it/s]\n"
     ]
    }
   ],
   "source": [
    "num = []\n",
    "for i in tqdm(range(4398)):\n",
    "    try:\n",
    "        a = int(len(test[\"cast\"].str.split(\",\")[i])/8)\n",
    "    except:\n",
    "        a = 0\n",
    "    num.append(a)"
   ]
  },
  {
   "cell_type": "code",
   "execution_count": 70,
   "id": "7f167d6a",
   "metadata": {},
   "outputs": [],
   "source": [
    "test[\"cast_num\"] = num"
   ]
  },
  {
   "cell_type": "markdown",
   "id": "c4fea16d",
   "metadata": {},
   "source": [
    "### crew"
   ]
  },
  {
   "cell_type": "code",
   "execution_count": 71,
   "id": "e8888416",
   "metadata": {},
   "outputs": [
    {
     "name": "stderr",
     "output_type": "stream",
     "text": [
      "100%|██████████████████████████████████████████████████████████████████████████████| 3000/3000 [01:24<00:00, 35.34it/s]\n"
     ]
    }
   ],
   "source": [
    "num = []\n",
    "for i in tqdm(range(3000)):\n",
    "    try:\n",
    "        a = int(len(train[\"crew\"].str.split(\",\")[i])/7)\n",
    "    except:\n",
    "        a = 0\n",
    "    num.append(a)"
   ]
  },
  {
   "cell_type": "code",
   "execution_count": 72,
   "id": "e6f8347a",
   "metadata": {},
   "outputs": [],
   "source": [
    "train[\"crew_num\"] = num"
   ]
  },
  {
   "cell_type": "code",
   "execution_count": 73,
   "id": "e465022e",
   "metadata": {},
   "outputs": [
    {
     "name": "stderr",
     "output_type": "stream",
     "text": [
      "100%|██████████████████████████████████████████████████████████████████████████████| 4398/4398 [03:04<00:00, 23.89it/s]\n"
     ]
    }
   ],
   "source": [
    "num = []\n",
    "for i in tqdm(range(4398)):\n",
    "    try:\n",
    "        a = int(len(test[\"crew\"].str.split(\",\")[i])/7)\n",
    "    except:\n",
    "        a = 0\n",
    "    num.append(a)"
   ]
  },
  {
   "cell_type": "code",
   "execution_count": 74,
   "id": "f28a1376",
   "metadata": {},
   "outputs": [],
   "source": [
    "test[\"crew_num\"] = num"
   ]
  },
  {
   "cell_type": "markdown",
   "id": "2df7224e",
   "metadata": {},
   "source": [
    "### 사용하지 않을 컬럼 정리 "
   ]
  },
  {
   "cell_type": "code",
   "execution_count": 75,
   "id": "7342b162",
   "metadata": {},
   "outputs": [
    {
     "data": {
      "text/plain": [
       "Index(['id', 'belongs_to_collection', 'budget', 'homepage', 'imdb_id',\n",
       "       'original_title', 'overview', 'poster_path', 'spoken_languages',\n",
       "       'status', 'tagline', 'title', 'Keywords', 'cast', 'crew', 'revenue',\n",
       "       'has_collection', 'log_budget', 'has_homepage', 'first_genres_code',\n",
       "       'second_genres_code', 'third_genres_code', 'original_language_etc',\n",
       "       'popularity_class', 'first_company_class', 'second_company_class',\n",
       "       'production_country_etc', '개봉연도', '개봉월', '개봉일', '개봉요일', 'runtime_class',\n",
       "       'spoken_languages_num', 'keywords_num', 'cast_num', 'crew_num'],\n",
       "      dtype='object')"
      ]
     },
     "execution_count": 75,
     "metadata": {},
     "output_type": "execute_result"
    }
   ],
   "source": [
    "train.columns"
   ]
  },
  {
   "cell_type": "code",
   "execution_count": 76,
   "id": "7f00d9a4",
   "metadata": {},
   "outputs": [],
   "source": [
    "train = train.drop(columns = ['id', 'belongs_to_collection','homepage', 'imdb_id', \n",
    "                              'original_title', 'overview', 'poster_path', 'spoken_languages', \n",
    "                              'status', 'tagline', 'title', 'Keywords', 'cast', 'crew', \"개봉일\"])\n",
    "\n",
    "test = test.drop(columns = ['id', 'belongs_to_collection', 'homepage', 'imdb_id', \n",
    "                              'original_title', 'overview', 'poster_path', 'spoken_languages', \n",
    "                              'status', 'tagline', 'title', 'Keywords', 'cast', 'crew', \"개봉일\"])"
   ]
  },
  {
   "cell_type": "code",
   "execution_count": 77,
   "id": "7ba334c1",
   "metadata": {},
   "outputs": [
    {
     "data": {
      "text/plain": [
       "((3000, 21), (4398, 20))"
      ]
     },
     "execution_count": 77,
     "metadata": {},
     "output_type": "execute_result"
    }
   ],
   "source": [
    "train.shape, test.shape"
   ]
  },
  {
   "cell_type": "code",
   "execution_count": 78,
   "id": "85a4e115",
   "metadata": {},
   "outputs": [
    {
     "data": {
      "text/html": [
       "<div>\n",
       "<style scoped>\n",
       "    .dataframe tbody tr th:only-of-type {\n",
       "        vertical-align: middle;\n",
       "    }\n",
       "\n",
       "    .dataframe tbody tr th {\n",
       "        vertical-align: top;\n",
       "    }\n",
       "\n",
       "    .dataframe thead th {\n",
       "        text-align: right;\n",
       "    }\n",
       "</style>\n",
       "<table border=\"1\" class=\"dataframe\">\n",
       "  <thead>\n",
       "    <tr style=\"text-align: right;\">\n",
       "      <th></th>\n",
       "      <th>budget</th>\n",
       "      <th>revenue</th>\n",
       "      <th>has_collection</th>\n",
       "      <th>log_budget</th>\n",
       "      <th>has_homepage</th>\n",
       "      <th>first_genres_code</th>\n",
       "      <th>second_genres_code</th>\n",
       "      <th>third_genres_code</th>\n",
       "      <th>original_language_etc</th>\n",
       "      <th>popularity_class</th>\n",
       "      <th>...</th>\n",
       "      <th>second_company_class</th>\n",
       "      <th>production_country_etc</th>\n",
       "      <th>개봉연도</th>\n",
       "      <th>개봉월</th>\n",
       "      <th>개봉요일</th>\n",
       "      <th>runtime_class</th>\n",
       "      <th>spoken_languages_num</th>\n",
       "      <th>keywords_num</th>\n",
       "      <th>cast_num</th>\n",
       "      <th>crew_num</th>\n",
       "    </tr>\n",
       "  </thead>\n",
       "  <tbody>\n",
       "    <tr>\n",
       "      <th>0</th>\n",
       "      <td>14000000</td>\n",
       "      <td>12314651</td>\n",
       "      <td>1</td>\n",
       "      <td>16.454568</td>\n",
       "      <td>0</td>\n",
       "      <td>1</td>\n",
       "      <td>0</td>\n",
       "      <td>0</td>\n",
       "      <td>en</td>\n",
       "      <td>median</td>\n",
       "      <td>...</td>\n",
       "      <td>중대형</td>\n",
       "      <td>US</td>\n",
       "      <td>2015</td>\n",
       "      <td>2</td>\n",
       "      <td>4</td>\n",
       "      <td>low</td>\n",
       "      <td>1</td>\n",
       "      <td>4</td>\n",
       "      <td>24</td>\n",
       "      <td>72</td>\n",
       "    </tr>\n",
       "    <tr>\n",
       "      <th>1</th>\n",
       "      <td>40000000</td>\n",
       "      <td>95149435</td>\n",
       "      <td>1</td>\n",
       "      <td>17.504390</td>\n",
       "      <td>0</td>\n",
       "      <td>1</td>\n",
       "      <td>2</td>\n",
       "      <td>17</td>\n",
       "      <td>en</td>\n",
       "      <td>median</td>\n",
       "      <td>...</td>\n",
       "      <td>중대형</td>\n",
       "      <td>US</td>\n",
       "      <td>2004</td>\n",
       "      <td>8</td>\n",
       "      <td>4</td>\n",
       "      <td>median</td>\n",
       "      <td>1</td>\n",
       "      <td>4</td>\n",
       "      <td>20</td>\n",
       "      <td>9</td>\n",
       "    </tr>\n",
       "    <tr>\n",
       "      <th>2</th>\n",
       "      <td>3300000</td>\n",
       "      <td>13092000</td>\n",
       "      <td>0</td>\n",
       "      <td>15.009433</td>\n",
       "      <td>1</td>\n",
       "      <td>2</td>\n",
       "      <td>0</td>\n",
       "      <td>0</td>\n",
       "      <td>en</td>\n",
       "      <td>high</td>\n",
       "      <td>...</td>\n",
       "      <td>중대형</td>\n",
       "      <td>US</td>\n",
       "      <td>2014</td>\n",
       "      <td>10</td>\n",
       "      <td>4</td>\n",
       "      <td>median</td>\n",
       "      <td>1</td>\n",
       "      <td>12</td>\n",
       "      <td>51</td>\n",
       "      <td>64</td>\n",
       "    </tr>\n",
       "    <tr>\n",
       "      <th>3</th>\n",
       "      <td>1200000</td>\n",
       "      <td>16000000</td>\n",
       "      <td>0</td>\n",
       "      <td>13.997833</td>\n",
       "      <td>1</td>\n",
       "      <td>3</td>\n",
       "      <td>2</td>\n",
       "      <td>0</td>\n",
       "      <td>etc</td>\n",
       "      <td>low</td>\n",
       "      <td>...</td>\n",
       "      <td>중대형</td>\n",
       "      <td>etc</td>\n",
       "      <td>2012</td>\n",
       "      <td>3</td>\n",
       "      <td>4</td>\n",
       "      <td>high</td>\n",
       "      <td>2</td>\n",
       "      <td>7</td>\n",
       "      <td>7</td>\n",
       "      <td>3</td>\n",
       "    </tr>\n",
       "    <tr>\n",
       "      <th>4</th>\n",
       "      <td>0</td>\n",
       "      <td>3923970</td>\n",
       "      <td>0</td>\n",
       "      <td>0.000000</td>\n",
       "      <td>0</td>\n",
       "      <td>4</td>\n",
       "      <td>3</td>\n",
       "      <td>0</td>\n",
       "      <td>etc</td>\n",
       "      <td>low</td>\n",
       "      <td>...</td>\n",
       "      <td>중대형</td>\n",
       "      <td>etc</td>\n",
       "      <td>2009</td>\n",
       "      <td>2</td>\n",
       "      <td>3</td>\n",
       "      <td>median</td>\n",
       "      <td>1</td>\n",
       "      <td>0</td>\n",
       "      <td>4</td>\n",
       "      <td>2</td>\n",
       "    </tr>\n",
       "    <tr>\n",
       "      <th>...</th>\n",
       "      <td>...</td>\n",
       "      <td>...</td>\n",
       "      <td>...</td>\n",
       "      <td>...</td>\n",
       "      <td>...</td>\n",
       "      <td>...</td>\n",
       "      <td>...</td>\n",
       "      <td>...</td>\n",
       "      <td>...</td>\n",
       "      <td>...</td>\n",
       "      <td>...</td>\n",
       "      <td>...</td>\n",
       "      <td>...</td>\n",
       "      <td>...</td>\n",
       "      <td>...</td>\n",
       "      <td>...</td>\n",
       "      <td>...</td>\n",
       "      <td>...</td>\n",
       "      <td>...</td>\n",
       "      <td>...</td>\n",
       "      <td>...</td>\n",
       "    </tr>\n",
       "    <tr>\n",
       "      <th>2995</th>\n",
       "      <td>0</td>\n",
       "      <td>1596687</td>\n",
       "      <td>0</td>\n",
       "      <td>0.000000</td>\n",
       "      <td>0</td>\n",
       "      <td>1</td>\n",
       "      <td>14</td>\n",
       "      <td>0</td>\n",
       "      <td>en</td>\n",
       "      <td>median</td>\n",
       "      <td>...</td>\n",
       "      <td>소형</td>\n",
       "      <td>US</td>\n",
       "      <td>1994</td>\n",
       "      <td>4</td>\n",
       "      <td>4</td>\n",
       "      <td>median</td>\n",
       "      <td>1</td>\n",
       "      <td>19</td>\n",
       "      <td>15</td>\n",
       "      <td>17</td>\n",
       "    </tr>\n",
       "    <tr>\n",
       "      <th>2996</th>\n",
       "      <td>0</td>\n",
       "      <td>180590</td>\n",
       "      <td>0</td>\n",
       "      <td>0.000000</td>\n",
       "      <td>0</td>\n",
       "      <td>2</td>\n",
       "      <td>15</td>\n",
       "      <td>0</td>\n",
       "      <td>etc</td>\n",
       "      <td>low</td>\n",
       "      <td>...</td>\n",
       "      <td>소형</td>\n",
       "      <td>etc</td>\n",
       "      <td>2013</td>\n",
       "      <td>3</td>\n",
       "      <td>3</td>\n",
       "      <td>median</td>\n",
       "      <td>1</td>\n",
       "      <td>6</td>\n",
       "      <td>11</td>\n",
       "      <td>15</td>\n",
       "    </tr>\n",
       "    <tr>\n",
       "      <th>2997</th>\n",
       "      <td>65000000</td>\n",
       "      <td>89456761</td>\n",
       "      <td>0</td>\n",
       "      <td>17.989898</td>\n",
       "      <td>0</td>\n",
       "      <td>9</td>\n",
       "      <td>4</td>\n",
       "      <td>10</td>\n",
       "      <td>en</td>\n",
       "      <td>high</td>\n",
       "      <td>...</td>\n",
       "      <td>소형</td>\n",
       "      <td>US</td>\n",
       "      <td>1996</td>\n",
       "      <td>10</td>\n",
       "      <td>4</td>\n",
       "      <td>high</td>\n",
       "      <td>1</td>\n",
       "      <td>14</td>\n",
       "      <td>15</td>\n",
       "      <td>10</td>\n",
       "    </tr>\n",
       "    <tr>\n",
       "      <th>2998</th>\n",
       "      <td>42000000</td>\n",
       "      <td>171963386</td>\n",
       "      <td>0</td>\n",
       "      <td>17.553180</td>\n",
       "      <td>1</td>\n",
       "      <td>1</td>\n",
       "      <td>14</td>\n",
       "      <td>0</td>\n",
       "      <td>en</td>\n",
       "      <td>high</td>\n",
       "      <td>...</td>\n",
       "      <td>소형</td>\n",
       "      <td>US</td>\n",
       "      <td>2004</td>\n",
       "      <td>1</td>\n",
       "      <td>4</td>\n",
       "      <td>low</td>\n",
       "      <td>1</td>\n",
       "      <td>22</td>\n",
       "      <td>26</td>\n",
       "      <td>89</td>\n",
       "    </tr>\n",
       "    <tr>\n",
       "      <th>2999</th>\n",
       "      <td>35000000</td>\n",
       "      <td>82087155</td>\n",
       "      <td>0</td>\n",
       "      <td>17.370859</td>\n",
       "      <td>1</td>\n",
       "      <td>3</td>\n",
       "      <td>4</td>\n",
       "      <td>10</td>\n",
       "      <td>en</td>\n",
       "      <td>median</td>\n",
       "      <td>...</td>\n",
       "      <td>소형</td>\n",
       "      <td>US</td>\n",
       "      <td>2011</td>\n",
       "      <td>9</td>\n",
       "      <td>3</td>\n",
       "      <td>median</td>\n",
       "      <td>1</td>\n",
       "      <td>14</td>\n",
       "      <td>34</td>\n",
       "      <td>48</td>\n",
       "    </tr>\n",
       "  </tbody>\n",
       "</table>\n",
       "<p>3000 rows × 21 columns</p>\n",
       "</div>"
      ],
      "text/plain": [
       "        budget    revenue  has_collection  log_budget  has_homepage  \\\n",
       "0     14000000   12314651               1   16.454568             0   \n",
       "1     40000000   95149435               1   17.504390             0   \n",
       "2      3300000   13092000               0   15.009433             1   \n",
       "3      1200000   16000000               0   13.997833             1   \n",
       "4            0    3923970               0    0.000000             0   \n",
       "...        ...        ...             ...         ...           ...   \n",
       "2995         0    1596687               0    0.000000             0   \n",
       "2996         0     180590               0    0.000000             0   \n",
       "2997  65000000   89456761               0   17.989898             0   \n",
       "2998  42000000  171963386               0   17.553180             1   \n",
       "2999  35000000   82087155               0   17.370859             1   \n",
       "\n",
       "      first_genres_code  second_genres_code  third_genres_code  \\\n",
       "0                     1                   0                  0   \n",
       "1                     1                   2                 17   \n",
       "2                     2                   0                  0   \n",
       "3                     3                   2                  0   \n",
       "4                     4                   3                  0   \n",
       "...                 ...                 ...                ...   \n",
       "2995                  1                  14                  0   \n",
       "2996                  2                  15                  0   \n",
       "2997                  9                   4                 10   \n",
       "2998                  1                  14                  0   \n",
       "2999                  3                   4                 10   \n",
       "\n",
       "     original_language_etc popularity_class  ... second_company_class  \\\n",
       "0                       en           median  ...                  중대형   \n",
       "1                       en           median  ...                  중대형   \n",
       "2                       en             high  ...                  중대형   \n",
       "3                      etc              low  ...                  중대형   \n",
       "4                      etc              low  ...                  중대형   \n",
       "...                    ...              ...  ...                  ...   \n",
       "2995                    en           median  ...                   소형   \n",
       "2996                   etc              low  ...                   소형   \n",
       "2997                    en             high  ...                   소형   \n",
       "2998                    en             high  ...                   소형   \n",
       "2999                    en           median  ...                   소형   \n",
       "\n",
       "     production_country_etc  개봉연도  개봉월  개봉요일  runtime_class  \\\n",
       "0                        US  2015    2     4            low   \n",
       "1                        US  2004    8     4         median   \n",
       "2                        US  2014   10     4         median   \n",
       "3                       etc  2012    3     4           high   \n",
       "4                       etc  2009    2     3         median   \n",
       "...                     ...   ...  ...   ...            ...   \n",
       "2995                     US  1994    4     4         median   \n",
       "2996                    etc  2013    3     3         median   \n",
       "2997                     US  1996   10     4           high   \n",
       "2998                     US  2004    1     4            low   \n",
       "2999                     US  2011    9     3         median   \n",
       "\n",
       "     spoken_languages_num  keywords_num  cast_num  crew_num  \n",
       "0                       1             4        24        72  \n",
       "1                       1             4        20         9  \n",
       "2                       1            12        51        64  \n",
       "3                       2             7         7         3  \n",
       "4                       1             0         4         2  \n",
       "...                   ...           ...       ...       ...  \n",
       "2995                    1            19        15        17  \n",
       "2996                    1             6        11        15  \n",
       "2997                    1            14        15        10  \n",
       "2998                    1            22        26        89  \n",
       "2999                    1            14        34        48  \n",
       "\n",
       "[3000 rows x 21 columns]"
      ]
     },
     "metadata": {},
     "output_type": "display_data"
    },
    {
     "data": {
      "text/html": [
       "<div>\n",
       "<style scoped>\n",
       "    .dataframe tbody tr th:only-of-type {\n",
       "        vertical-align: middle;\n",
       "    }\n",
       "\n",
       "    .dataframe tbody tr th {\n",
       "        vertical-align: top;\n",
       "    }\n",
       "\n",
       "    .dataframe thead th {\n",
       "        text-align: right;\n",
       "    }\n",
       "</style>\n",
       "<table border=\"1\" class=\"dataframe\">\n",
       "  <thead>\n",
       "    <tr style=\"text-align: right;\">\n",
       "      <th></th>\n",
       "      <th>budget</th>\n",
       "      <th>has_collection</th>\n",
       "      <th>log_budget</th>\n",
       "      <th>has_homepage</th>\n",
       "      <th>first_genres_code</th>\n",
       "      <th>second_genres_code</th>\n",
       "      <th>third_genres_code</th>\n",
       "      <th>original_language_etc</th>\n",
       "      <th>popularity_class</th>\n",
       "      <th>first_company_class</th>\n",
       "      <th>second_company_class</th>\n",
       "      <th>production_country_etc</th>\n",
       "      <th>개봉연도</th>\n",
       "      <th>개봉월</th>\n",
       "      <th>개봉요일</th>\n",
       "      <th>runtime_class</th>\n",
       "      <th>spoken_languages_num</th>\n",
       "      <th>keywords_num</th>\n",
       "      <th>cast_num</th>\n",
       "      <th>crew_num</th>\n",
       "    </tr>\n",
       "  </thead>\n",
       "  <tbody>\n",
       "    <tr>\n",
       "      <th>0</th>\n",
       "      <td>0</td>\n",
       "      <td>1</td>\n",
       "      <td>0.000000</td>\n",
       "      <td>1</td>\n",
       "      <td>8</td>\n",
       "      <td>5</td>\n",
       "      <td>17</td>\n",
       "      <td>etc</td>\n",
       "      <td>low</td>\n",
       "      <td>중대형</td>\n",
       "      <td>중대형</td>\n",
       "      <td>etc</td>\n",
       "      <td>2007</td>\n",
       "      <td>7</td>\n",
       "      <td>5</td>\n",
       "      <td>low</td>\n",
       "      <td>2</td>\n",
       "      <td>2</td>\n",
       "      <td>7</td>\n",
       "      <td>2</td>\n",
       "    </tr>\n",
       "    <tr>\n",
       "      <th>1</th>\n",
       "      <td>88000</td>\n",
       "      <td>0</td>\n",
       "      <td>11.385103</td>\n",
       "      <td>0</td>\n",
       "      <td>6</td>\n",
       "      <td>13</td>\n",
       "      <td>0</td>\n",
       "      <td>en</td>\n",
       "      <td>low</td>\n",
       "      <td>소형</td>\n",
       "      <td>중대형</td>\n",
       "      <td>US</td>\n",
       "      <td>2058</td>\n",
       "      <td>5</td>\n",
       "      <td>6</td>\n",
       "      <td>low</td>\n",
       "      <td>1</td>\n",
       "      <td>8</td>\n",
       "      <td>10</td>\n",
       "      <td>8</td>\n",
       "    </tr>\n",
       "    <tr>\n",
       "      <th>2</th>\n",
       "      <td>0</td>\n",
       "      <td>0</td>\n",
       "      <td>0.000000</td>\n",
       "      <td>0</td>\n",
       "      <td>1</td>\n",
       "      <td>14</td>\n",
       "      <td>0</td>\n",
       "      <td>en</td>\n",
       "      <td>median</td>\n",
       "      <td>중대형</td>\n",
       "      <td>소형</td>\n",
       "      <td>US</td>\n",
       "      <td>1997</td>\n",
       "      <td>5</td>\n",
       "      <td>4</td>\n",
       "      <td>median</td>\n",
       "      <td>1</td>\n",
       "      <td>4</td>\n",
       "      <td>9</td>\n",
       "      <td>10</td>\n",
       "    </tr>\n",
       "    <tr>\n",
       "      <th>3</th>\n",
       "      <td>6800000</td>\n",
       "      <td>0</td>\n",
       "      <td>15.732433</td>\n",
       "      <td>1</td>\n",
       "      <td>2</td>\n",
       "      <td>12</td>\n",
       "      <td>10</td>\n",
       "      <td>fr</td>\n",
       "      <td>median</td>\n",
       "      <td>소형</td>\n",
       "      <td>소형</td>\n",
       "      <td>etc</td>\n",
       "      <td>2010</td>\n",
       "      <td>9</td>\n",
       "      <td>5</td>\n",
       "      <td>high</td>\n",
       "      <td>3</td>\n",
       "      <td>15</td>\n",
       "      <td>23</td>\n",
       "      <td>69</td>\n",
       "    </tr>\n",
       "    <tr>\n",
       "      <th>4</th>\n",
       "      <td>2000000</td>\n",
       "      <td>0</td>\n",
       "      <td>14.508658</td>\n",
       "      <td>0</td>\n",
       "      <td>18</td>\n",
       "      <td>7</td>\n",
       "      <td>0</td>\n",
       "      <td>en</td>\n",
       "      <td>low</td>\n",
       "      <td>중대형</td>\n",
       "      <td>중대형</td>\n",
       "      <td>US</td>\n",
       "      <td>2005</td>\n",
       "      <td>2</td>\n",
       "      <td>4</td>\n",
       "      <td>low</td>\n",
       "      <td>1</td>\n",
       "      <td>4</td>\n",
       "      <td>4</td>\n",
       "      <td>14</td>\n",
       "    </tr>\n",
       "    <tr>\n",
       "      <th>...</th>\n",
       "      <td>...</td>\n",
       "      <td>...</td>\n",
       "      <td>...</td>\n",
       "      <td>...</td>\n",
       "      <td>...</td>\n",
       "      <td>...</td>\n",
       "      <td>...</td>\n",
       "      <td>...</td>\n",
       "      <td>...</td>\n",
       "      <td>...</td>\n",
       "      <td>...</td>\n",
       "      <td>...</td>\n",
       "      <td>...</td>\n",
       "      <td>...</td>\n",
       "      <td>...</td>\n",
       "      <td>...</td>\n",
       "      <td>...</td>\n",
       "      <td>...</td>\n",
       "      <td>...</td>\n",
       "      <td>...</td>\n",
       "    </tr>\n",
       "    <tr>\n",
       "      <th>4393</th>\n",
       "      <td>42000000</td>\n",
       "      <td>0</td>\n",
       "      <td>17.553180</td>\n",
       "      <td>0</td>\n",
       "      <td>3</td>\n",
       "      <td>0</td>\n",
       "      <td>0</td>\n",
       "      <td>en</td>\n",
       "      <td>median</td>\n",
       "      <td>소형</td>\n",
       "      <td>소형</td>\n",
       "      <td>etc</td>\n",
       "      <td>2001</td>\n",
       "      <td>8</td>\n",
       "      <td>4</td>\n",
       "      <td>median</td>\n",
       "      <td>5</td>\n",
       "      <td>9</td>\n",
       "      <td>10</td>\n",
       "      <td>11</td>\n",
       "    </tr>\n",
       "    <tr>\n",
       "      <th>4394</th>\n",
       "      <td>19000000</td>\n",
       "      <td>1</td>\n",
       "      <td>16.759950</td>\n",
       "      <td>0</td>\n",
       "      <td>4</td>\n",
       "      <td>8</td>\n",
       "      <td>1</td>\n",
       "      <td>en</td>\n",
       "      <td>median</td>\n",
       "      <td>중대형</td>\n",
       "      <td>소형</td>\n",
       "      <td>US</td>\n",
       "      <td>2004</td>\n",
       "      <td>8</td>\n",
       "      <td>4</td>\n",
       "      <td>median</td>\n",
       "      <td>1</td>\n",
       "      <td>2</td>\n",
       "      <td>22</td>\n",
       "      <td>94</td>\n",
       "    </tr>\n",
       "    <tr>\n",
       "      <th>4395</th>\n",
       "      <td>16000000</td>\n",
       "      <td>0</td>\n",
       "      <td>16.588099</td>\n",
       "      <td>0</td>\n",
       "      <td>2</td>\n",
       "      <td>0</td>\n",
       "      <td>0</td>\n",
       "      <td>en</td>\n",
       "      <td>median</td>\n",
       "      <td>중대형</td>\n",
       "      <td>중대형</td>\n",
       "      <td>US</td>\n",
       "      <td>1982</td>\n",
       "      <td>12</td>\n",
       "      <td>2</td>\n",
       "      <td>high</td>\n",
       "      <td>1</td>\n",
       "      <td>6</td>\n",
       "      <td>17</td>\n",
       "      <td>12</td>\n",
       "    </tr>\n",
       "    <tr>\n",
       "      <th>4396</th>\n",
       "      <td>2000000</td>\n",
       "      <td>0</td>\n",
       "      <td>14.508658</td>\n",
       "      <td>0</td>\n",
       "      <td>6</td>\n",
       "      <td>3</td>\n",
       "      <td>0</td>\n",
       "      <td>en</td>\n",
       "      <td>high</td>\n",
       "      <td>소형</td>\n",
       "      <td>소형</td>\n",
       "      <td>US</td>\n",
       "      <td>2015</td>\n",
       "      <td>2</td>\n",
       "      <td>2</td>\n",
       "      <td>median</td>\n",
       "      <td>1</td>\n",
       "      <td>7</td>\n",
       "      <td>29</td>\n",
       "      <td>29</td>\n",
       "    </tr>\n",
       "    <tr>\n",
       "      <th>4397</th>\n",
       "      <td>64000</td>\n",
       "      <td>0</td>\n",
       "      <td>11.066654</td>\n",
       "      <td>0</td>\n",
       "      <td>2</td>\n",
       "      <td>0</td>\n",
       "      <td>0</td>\n",
       "      <td>fr</td>\n",
       "      <td>high</td>\n",
       "      <td>소형</td>\n",
       "      <td>소형</td>\n",
       "      <td>etc</td>\n",
       "      <td>2062</td>\n",
       "      <td>9</td>\n",
       "      <td>2</td>\n",
       "      <td>low</td>\n",
       "      <td>1</td>\n",
       "      <td>10</td>\n",
       "      <td>19</td>\n",
       "      <td>25</td>\n",
       "    </tr>\n",
       "  </tbody>\n",
       "</table>\n",
       "<p>4398 rows × 20 columns</p>\n",
       "</div>"
      ],
      "text/plain": [
       "        budget  has_collection  log_budget  has_homepage  first_genres_code  \\\n",
       "0            0               1    0.000000             1                  8   \n",
       "1        88000               0   11.385103             0                  6   \n",
       "2            0               0    0.000000             0                  1   \n",
       "3      6800000               0   15.732433             1                  2   \n",
       "4      2000000               0   14.508658             0                 18   \n",
       "...        ...             ...         ...           ...                ...   \n",
       "4393  42000000               0   17.553180             0                  3   \n",
       "4394  19000000               1   16.759950             0                  4   \n",
       "4395  16000000               0   16.588099             0                  2   \n",
       "4396   2000000               0   14.508658             0                  6   \n",
       "4397     64000               0   11.066654             0                  2   \n",
       "\n",
       "      second_genres_code  third_genres_code original_language_etc  \\\n",
       "0                      5                 17                   etc   \n",
       "1                     13                  0                    en   \n",
       "2                     14                  0                    en   \n",
       "3                     12                 10                    fr   \n",
       "4                      7                  0                    en   \n",
       "...                  ...                ...                   ...   \n",
       "4393                   0                  0                    en   \n",
       "4394                   8                  1                    en   \n",
       "4395                   0                  0                    en   \n",
       "4396                   3                  0                    en   \n",
       "4397                   0                  0                    fr   \n",
       "\n",
       "     popularity_class first_company_class second_company_class  \\\n",
       "0                 low                 중대형                  중대형   \n",
       "1                 low                  소형                  중대형   \n",
       "2              median                 중대형                   소형   \n",
       "3              median                  소형                   소형   \n",
       "4                 low                 중대형                  중대형   \n",
       "...               ...                 ...                  ...   \n",
       "4393           median                  소형                   소형   \n",
       "4394           median                 중대형                   소형   \n",
       "4395           median                 중대형                  중대형   \n",
       "4396             high                  소형                   소형   \n",
       "4397             high                  소형                   소형   \n",
       "\n",
       "     production_country_etc  개봉연도  개봉월  개봉요일 runtime_class  \\\n",
       "0                       etc  2007    7     5           low   \n",
       "1                        US  2058    5     6           low   \n",
       "2                        US  1997    5     4        median   \n",
       "3                       etc  2010    9     5          high   \n",
       "4                        US  2005    2     4           low   \n",
       "...                     ...   ...  ...   ...           ...   \n",
       "4393                    etc  2001    8     4        median   \n",
       "4394                     US  2004    8     4        median   \n",
       "4395                     US  1982   12     2          high   \n",
       "4396                     US  2015    2     2        median   \n",
       "4397                    etc  2062    9     2           low   \n",
       "\n",
       "      spoken_languages_num  keywords_num  cast_num  crew_num  \n",
       "0                        2             2         7         2  \n",
       "1                        1             8        10         8  \n",
       "2                        1             4         9        10  \n",
       "3                        3            15        23        69  \n",
       "4                        1             4         4        14  \n",
       "...                    ...           ...       ...       ...  \n",
       "4393                     5             9        10        11  \n",
       "4394                     1             2        22        94  \n",
       "4395                     1             6        17        12  \n",
       "4396                     1             7        29        29  \n",
       "4397                     1            10        19        25  \n",
       "\n",
       "[4398 rows x 20 columns]"
      ]
     },
     "metadata": {},
     "output_type": "display_data"
    },
    {
     "name": "stdout",
     "output_type": "stream",
     "text": [
      "{'revenue'}\n"
     ]
    }
   ],
   "source": [
    "display(train)\n",
    "display(test)\n",
    "print(set(train) - set(test))"
   ]
  },
  {
   "cell_type": "markdown",
   "id": "2f2790ce",
   "metadata": {},
   "source": [
    "## 데이터셋 구축"
   ]
  },
  {
   "cell_type": "markdown",
   "id": "9d5e9b6b",
   "metadata": {},
   "source": [
    "### one-hot-encoding"
   ]
  },
  {
   "cell_type": "code",
   "execution_count": 79,
   "id": "2eb0a6ae",
   "metadata": {},
   "outputs": [
    {
     "data": {
      "text/plain": [
       "((3000, 32), (4398, 31))"
      ]
     },
     "execution_count": 79,
     "metadata": {},
     "output_type": "execute_result"
    }
   ],
   "source": [
    "train = pd.get_dummies(data = train)\n",
    "test = pd.get_dummies(data = test)\n",
    "\n",
    "train.shape, test.shape"
   ]
  },
  {
   "cell_type": "code",
   "execution_count": 80,
   "id": "4392de5d",
   "metadata": {
    "scrolled": true
   },
   "outputs": [
    {
     "data": {
      "text/html": [
       "<div>\n",
       "<style scoped>\n",
       "    .dataframe tbody tr th:only-of-type {\n",
       "        vertical-align: middle;\n",
       "    }\n",
       "\n",
       "    .dataframe tbody tr th {\n",
       "        vertical-align: top;\n",
       "    }\n",
       "\n",
       "    .dataframe thead th {\n",
       "        text-align: right;\n",
       "    }\n",
       "</style>\n",
       "<table border=\"1\" class=\"dataframe\">\n",
       "  <thead>\n",
       "    <tr style=\"text-align: right;\">\n",
       "      <th></th>\n",
       "      <th>budget</th>\n",
       "      <th>revenue</th>\n",
       "      <th>has_collection</th>\n",
       "      <th>log_budget</th>\n",
       "      <th>has_homepage</th>\n",
       "      <th>first_genres_code</th>\n",
       "      <th>second_genres_code</th>\n",
       "      <th>third_genres_code</th>\n",
       "      <th>개봉연도</th>\n",
       "      <th>개봉월</th>\n",
       "      <th>...</th>\n",
       "      <th>first_company_class_소형</th>\n",
       "      <th>first_company_class_중대형</th>\n",
       "      <th>second_company_class_소형</th>\n",
       "      <th>second_company_class_중대형</th>\n",
       "      <th>production_country_etc_GB</th>\n",
       "      <th>production_country_etc_US</th>\n",
       "      <th>production_country_etc_etc</th>\n",
       "      <th>runtime_class_high</th>\n",
       "      <th>runtime_class_low</th>\n",
       "      <th>runtime_class_median</th>\n",
       "    </tr>\n",
       "  </thead>\n",
       "  <tbody>\n",
       "    <tr>\n",
       "      <th>0</th>\n",
       "      <td>14000000</td>\n",
       "      <td>12314651</td>\n",
       "      <td>1</td>\n",
       "      <td>16.454568</td>\n",
       "      <td>0</td>\n",
       "      <td>1</td>\n",
       "      <td>0</td>\n",
       "      <td>0</td>\n",
       "      <td>2015</td>\n",
       "      <td>2</td>\n",
       "      <td>...</td>\n",
       "      <td>0</td>\n",
       "      <td>1</td>\n",
       "      <td>0</td>\n",
       "      <td>1</td>\n",
       "      <td>0</td>\n",
       "      <td>1</td>\n",
       "      <td>0</td>\n",
       "      <td>0</td>\n",
       "      <td>1</td>\n",
       "      <td>0</td>\n",
       "    </tr>\n",
       "    <tr>\n",
       "      <th>1</th>\n",
       "      <td>40000000</td>\n",
       "      <td>95149435</td>\n",
       "      <td>1</td>\n",
       "      <td>17.504390</td>\n",
       "      <td>0</td>\n",
       "      <td>1</td>\n",
       "      <td>2</td>\n",
       "      <td>17</td>\n",
       "      <td>2004</td>\n",
       "      <td>8</td>\n",
       "      <td>...</td>\n",
       "      <td>0</td>\n",
       "      <td>1</td>\n",
       "      <td>0</td>\n",
       "      <td>1</td>\n",
       "      <td>0</td>\n",
       "      <td>1</td>\n",
       "      <td>0</td>\n",
       "      <td>0</td>\n",
       "      <td>0</td>\n",
       "      <td>1</td>\n",
       "    </tr>\n",
       "    <tr>\n",
       "      <th>2</th>\n",
       "      <td>3300000</td>\n",
       "      <td>13092000</td>\n",
       "      <td>0</td>\n",
       "      <td>15.009433</td>\n",
       "      <td>1</td>\n",
       "      <td>2</td>\n",
       "      <td>0</td>\n",
       "      <td>0</td>\n",
       "      <td>2014</td>\n",
       "      <td>10</td>\n",
       "      <td>...</td>\n",
       "      <td>1</td>\n",
       "      <td>0</td>\n",
       "      <td>0</td>\n",
       "      <td>1</td>\n",
       "      <td>0</td>\n",
       "      <td>1</td>\n",
       "      <td>0</td>\n",
       "      <td>0</td>\n",
       "      <td>0</td>\n",
       "      <td>1</td>\n",
       "    </tr>\n",
       "    <tr>\n",
       "      <th>3</th>\n",
       "      <td>1200000</td>\n",
       "      <td>16000000</td>\n",
       "      <td>0</td>\n",
       "      <td>13.997833</td>\n",
       "      <td>1</td>\n",
       "      <td>3</td>\n",
       "      <td>2</td>\n",
       "      <td>0</td>\n",
       "      <td>2012</td>\n",
       "      <td>3</td>\n",
       "      <td>...</td>\n",
       "      <td>0</td>\n",
       "      <td>1</td>\n",
       "      <td>0</td>\n",
       "      <td>1</td>\n",
       "      <td>0</td>\n",
       "      <td>0</td>\n",
       "      <td>1</td>\n",
       "      <td>1</td>\n",
       "      <td>0</td>\n",
       "      <td>0</td>\n",
       "    </tr>\n",
       "    <tr>\n",
       "      <th>4</th>\n",
       "      <td>0</td>\n",
       "      <td>3923970</td>\n",
       "      <td>0</td>\n",
       "      <td>0.000000</td>\n",
       "      <td>0</td>\n",
       "      <td>4</td>\n",
       "      <td>3</td>\n",
       "      <td>0</td>\n",
       "      <td>2009</td>\n",
       "      <td>2</td>\n",
       "      <td>...</td>\n",
       "      <td>0</td>\n",
       "      <td>1</td>\n",
       "      <td>0</td>\n",
       "      <td>1</td>\n",
       "      <td>0</td>\n",
       "      <td>0</td>\n",
       "      <td>1</td>\n",
       "      <td>0</td>\n",
       "      <td>0</td>\n",
       "      <td>1</td>\n",
       "    </tr>\n",
       "  </tbody>\n",
       "</table>\n",
       "<p>5 rows × 32 columns</p>\n",
       "</div>"
      ],
      "text/plain": [
       "     budget   revenue  has_collection  log_budget  has_homepage  \\\n",
       "0  14000000  12314651               1   16.454568             0   \n",
       "1  40000000  95149435               1   17.504390             0   \n",
       "2   3300000  13092000               0   15.009433             1   \n",
       "3   1200000  16000000               0   13.997833             1   \n",
       "4         0   3923970               0    0.000000             0   \n",
       "\n",
       "   first_genres_code  second_genres_code  third_genres_code  개봉연도  개봉월  ...  \\\n",
       "0                  1                   0                  0  2015    2  ...   \n",
       "1                  1                   2                 17  2004    8  ...   \n",
       "2                  2                   0                  0  2014   10  ...   \n",
       "3                  3                   2                  0  2012    3  ...   \n",
       "4                  4                   3                  0  2009    2  ...   \n",
       "\n",
       "   first_company_class_소형  first_company_class_중대형  second_company_class_소형  \\\n",
       "0                       0                        1                        0   \n",
       "1                       0                        1                        0   \n",
       "2                       1                        0                        0   \n",
       "3                       0                        1                        0   \n",
       "4                       0                        1                        0   \n",
       "\n",
       "   second_company_class_중대형  production_country_etc_GB  \\\n",
       "0                         1                          0   \n",
       "1                         1                          0   \n",
       "2                         1                          0   \n",
       "3                         1                          0   \n",
       "4                         1                          0   \n",
       "\n",
       "   production_country_etc_US  production_country_etc_etc  runtime_class_high  \\\n",
       "0                          1                           0                   0   \n",
       "1                          1                           0                   0   \n",
       "2                          1                           0                   0   \n",
       "3                          0                           1                   1   \n",
       "4                          0                           1                   0   \n",
       "\n",
       "   runtime_class_low  runtime_class_median  \n",
       "0                  1                     0  \n",
       "1                  0                     1  \n",
       "2                  0                     1  \n",
       "3                  0                     0  \n",
       "4                  0                     1  \n",
       "\n",
       "[5 rows x 32 columns]"
      ]
     },
     "metadata": {},
     "output_type": "display_data"
    },
    {
     "data": {
      "text/html": [
       "<div>\n",
       "<style scoped>\n",
       "    .dataframe tbody tr th:only-of-type {\n",
       "        vertical-align: middle;\n",
       "    }\n",
       "\n",
       "    .dataframe tbody tr th {\n",
       "        vertical-align: top;\n",
       "    }\n",
       "\n",
       "    .dataframe thead th {\n",
       "        text-align: right;\n",
       "    }\n",
       "</style>\n",
       "<table border=\"1\" class=\"dataframe\">\n",
       "  <thead>\n",
       "    <tr style=\"text-align: right;\">\n",
       "      <th></th>\n",
       "      <th>budget</th>\n",
       "      <th>has_collection</th>\n",
       "      <th>log_budget</th>\n",
       "      <th>has_homepage</th>\n",
       "      <th>first_genres_code</th>\n",
       "      <th>second_genres_code</th>\n",
       "      <th>third_genres_code</th>\n",
       "      <th>개봉연도</th>\n",
       "      <th>개봉월</th>\n",
       "      <th>개봉요일</th>\n",
       "      <th>...</th>\n",
       "      <th>first_company_class_소형</th>\n",
       "      <th>first_company_class_중대형</th>\n",
       "      <th>second_company_class_소형</th>\n",
       "      <th>second_company_class_중대형</th>\n",
       "      <th>production_country_etc_GB</th>\n",
       "      <th>production_country_etc_US</th>\n",
       "      <th>production_country_etc_etc</th>\n",
       "      <th>runtime_class_high</th>\n",
       "      <th>runtime_class_low</th>\n",
       "      <th>runtime_class_median</th>\n",
       "    </tr>\n",
       "  </thead>\n",
       "  <tbody>\n",
       "    <tr>\n",
       "      <th>0</th>\n",
       "      <td>0</td>\n",
       "      <td>1</td>\n",
       "      <td>0.000000</td>\n",
       "      <td>1</td>\n",
       "      <td>8</td>\n",
       "      <td>5</td>\n",
       "      <td>17</td>\n",
       "      <td>2007</td>\n",
       "      <td>7</td>\n",
       "      <td>5</td>\n",
       "      <td>...</td>\n",
       "      <td>0</td>\n",
       "      <td>1</td>\n",
       "      <td>0</td>\n",
       "      <td>1</td>\n",
       "      <td>0</td>\n",
       "      <td>0</td>\n",
       "      <td>1</td>\n",
       "      <td>0</td>\n",
       "      <td>1</td>\n",
       "      <td>0</td>\n",
       "    </tr>\n",
       "    <tr>\n",
       "      <th>1</th>\n",
       "      <td>88000</td>\n",
       "      <td>0</td>\n",
       "      <td>11.385103</td>\n",
       "      <td>0</td>\n",
       "      <td>6</td>\n",
       "      <td>13</td>\n",
       "      <td>0</td>\n",
       "      <td>2058</td>\n",
       "      <td>5</td>\n",
       "      <td>6</td>\n",
       "      <td>...</td>\n",
       "      <td>1</td>\n",
       "      <td>0</td>\n",
       "      <td>0</td>\n",
       "      <td>1</td>\n",
       "      <td>0</td>\n",
       "      <td>1</td>\n",
       "      <td>0</td>\n",
       "      <td>0</td>\n",
       "      <td>1</td>\n",
       "      <td>0</td>\n",
       "    </tr>\n",
       "    <tr>\n",
       "      <th>2</th>\n",
       "      <td>0</td>\n",
       "      <td>0</td>\n",
       "      <td>0.000000</td>\n",
       "      <td>0</td>\n",
       "      <td>1</td>\n",
       "      <td>14</td>\n",
       "      <td>0</td>\n",
       "      <td>1997</td>\n",
       "      <td>5</td>\n",
       "      <td>4</td>\n",
       "      <td>...</td>\n",
       "      <td>0</td>\n",
       "      <td>1</td>\n",
       "      <td>1</td>\n",
       "      <td>0</td>\n",
       "      <td>0</td>\n",
       "      <td>1</td>\n",
       "      <td>0</td>\n",
       "      <td>0</td>\n",
       "      <td>0</td>\n",
       "      <td>1</td>\n",
       "    </tr>\n",
       "    <tr>\n",
       "      <th>3</th>\n",
       "      <td>6800000</td>\n",
       "      <td>0</td>\n",
       "      <td>15.732433</td>\n",
       "      <td>1</td>\n",
       "      <td>2</td>\n",
       "      <td>12</td>\n",
       "      <td>10</td>\n",
       "      <td>2010</td>\n",
       "      <td>9</td>\n",
       "      <td>5</td>\n",
       "      <td>...</td>\n",
       "      <td>1</td>\n",
       "      <td>0</td>\n",
       "      <td>1</td>\n",
       "      <td>0</td>\n",
       "      <td>0</td>\n",
       "      <td>0</td>\n",
       "      <td>1</td>\n",
       "      <td>1</td>\n",
       "      <td>0</td>\n",
       "      <td>0</td>\n",
       "    </tr>\n",
       "    <tr>\n",
       "      <th>4</th>\n",
       "      <td>2000000</td>\n",
       "      <td>0</td>\n",
       "      <td>14.508658</td>\n",
       "      <td>0</td>\n",
       "      <td>18</td>\n",
       "      <td>7</td>\n",
       "      <td>0</td>\n",
       "      <td>2005</td>\n",
       "      <td>2</td>\n",
       "      <td>4</td>\n",
       "      <td>...</td>\n",
       "      <td>0</td>\n",
       "      <td>1</td>\n",
       "      <td>0</td>\n",
       "      <td>1</td>\n",
       "      <td>0</td>\n",
       "      <td>1</td>\n",
       "      <td>0</td>\n",
       "      <td>0</td>\n",
       "      <td>1</td>\n",
       "      <td>0</td>\n",
       "    </tr>\n",
       "  </tbody>\n",
       "</table>\n",
       "<p>5 rows × 31 columns</p>\n",
       "</div>"
      ],
      "text/plain": [
       "    budget  has_collection  log_budget  has_homepage  first_genres_code  \\\n",
       "0        0               1    0.000000             1                  8   \n",
       "1    88000               0   11.385103             0                  6   \n",
       "2        0               0    0.000000             0                  1   \n",
       "3  6800000               0   15.732433             1                  2   \n",
       "4  2000000               0   14.508658             0                 18   \n",
       "\n",
       "   second_genres_code  third_genres_code  개봉연도  개봉월  개봉요일  ...  \\\n",
       "0                   5                 17  2007    7     5  ...   \n",
       "1                  13                  0  2058    5     6  ...   \n",
       "2                  14                  0  1997    5     4  ...   \n",
       "3                  12                 10  2010    9     5  ...   \n",
       "4                   7                  0  2005    2     4  ...   \n",
       "\n",
       "   first_company_class_소형  first_company_class_중대형  second_company_class_소형  \\\n",
       "0                       0                        1                        0   \n",
       "1                       1                        0                        0   \n",
       "2                       0                        1                        1   \n",
       "3                       1                        0                        1   \n",
       "4                       0                        1                        0   \n",
       "\n",
       "   second_company_class_중대형  production_country_etc_GB  \\\n",
       "0                         1                          0   \n",
       "1                         1                          0   \n",
       "2                         0                          0   \n",
       "3                         0                          0   \n",
       "4                         1                          0   \n",
       "\n",
       "   production_country_etc_US  production_country_etc_etc  runtime_class_high  \\\n",
       "0                          0                           1                   0   \n",
       "1                          1                           0                   0   \n",
       "2                          1                           0                   0   \n",
       "3                          0                           1                   1   \n",
       "4                          1                           0                   0   \n",
       "\n",
       "   runtime_class_low  runtime_class_median  \n",
       "0                  1                     0  \n",
       "1                  1                     0  \n",
       "2                  0                     1  \n",
       "3                  0                     0  \n",
       "4                  1                     0  \n",
       "\n",
       "[5 rows x 31 columns]"
      ]
     },
     "metadata": {},
     "output_type": "display_data"
    },
    {
     "name": "stdout",
     "output_type": "stream",
     "text": [
      "{'revenue'}\n"
     ]
    }
   ],
   "source": [
    "display(train.head())\n",
    "display(test.head())\n",
    "print(set(train) - set(test))"
   ]
  },
  {
   "cell_type": "markdown",
   "id": "1706229c",
   "metadata": {},
   "source": [
    "### 정답값, 피쳐값"
   ]
  },
  {
   "cell_type": "code",
   "execution_count": 81,
   "id": "5e9d4e1d",
   "metadata": {},
   "outputs": [
    {
     "data": {
      "text/plain": [
       "Index(['budget', 'revenue', 'has_collection', 'log_budget', 'has_homepage',\n",
       "       'first_genres_code', 'second_genres_code', 'third_genres_code', '개봉연도',\n",
       "       '개봉월', '개봉요일', 'spoken_languages_num', 'keywords_num', 'cast_num',\n",
       "       'crew_num', 'original_language_etc_en', 'original_language_etc_etc',\n",
       "       'original_language_etc_fr', 'original_language_etc_ru',\n",
       "       'popularity_class_high', 'popularity_class_low',\n",
       "       'popularity_class_median', 'first_company_class_소형',\n",
       "       'first_company_class_중대형', 'second_company_class_소형',\n",
       "       'second_company_class_중대형', 'production_country_etc_GB',\n",
       "       'production_country_etc_US', 'production_country_etc_etc',\n",
       "       'runtime_class_high', 'runtime_class_low', 'runtime_class_median'],\n",
       "      dtype='object')"
      ]
     },
     "execution_count": 81,
     "metadata": {},
     "output_type": "execute_result"
    }
   ],
   "source": [
    "train.columns"
   ]
  },
  {
   "cell_type": "code",
   "execution_count": 82,
   "id": "b6930938",
   "metadata": {},
   "outputs": [],
   "source": [
    "label_name = \"revenue\"\n",
    "feature_names = ['budget', 'has_collection', 'log_budget', 'has_homepage',\n",
    "       'first_genres_code', 'second_genres_code', 'third_genres_code', '개봉연도', '개봉월',\n",
    "       '개봉요일', 'spoken_languages_num', 'keywords_num', \"cast_num\", 'crew_num',\n",
    "       'original_language_etc_en', 'original_language_etc_etc',\n",
    "       'original_language_etc_fr', 'original_language_etc_ru',\n",
    "       'popularity_class_high', 'popularity_class_low',\n",
    "       'popularity_class_median', 'first_company_class_소형',\n",
    "       'first_company_class_중대형', 'second_company_class_소형',\n",
    "       'second_company_class_중대형', 'production_country_etc_GB',\n",
    "       'production_country_etc_US', 'production_country_etc_etc',\n",
    "       'runtime_class_high', 'runtime_class_low', 'runtime_class_median']"
   ]
  },
  {
   "cell_type": "markdown",
   "id": "b3fe3fcd",
   "metadata": {},
   "source": [
    "### 로그 스케일링"
   ]
  },
  {
   "cell_type": "code",
   "execution_count": 83,
   "id": "2de19dca",
   "metadata": {},
   "outputs": [],
   "source": [
    "train[\"revenue\"] = np.log(train[\"revenue\"] + 1)"
   ]
  },
  {
   "cell_type": "code",
   "execution_count": 84,
   "id": "139d3b3a",
   "metadata": {
    "scrolled": true
   },
   "outputs": [
    {
     "data": {
      "text/plain": [
       "0       16.326300\n",
       "1       18.370959\n",
       "2       16.387512\n",
       "3       16.588099\n",
       "4       15.182615\n",
       "          ...    \n",
       "2995    14.283442\n",
       "2996    12.103990\n",
       "2997    18.309266\n",
       "2998    18.962792\n",
       "2999    18.223292\n",
       "Name: revenue, Length: 3000, dtype: float64"
      ]
     },
     "execution_count": 84,
     "metadata": {},
     "output_type": "execute_result"
    }
   ],
   "source": [
    "train[\"revenue\"] "
   ]
  },
  {
   "cell_type": "markdown",
   "id": "9a99ba6c",
   "metadata": {},
   "source": [
    "### 학습, 예측 데이터 셋 만들기"
   ]
  },
  {
   "cell_type": "code",
   "execution_count": 85,
   "id": "fdb649b2",
   "metadata": {},
   "outputs": [
    {
     "name": "stdout",
     "output_type": "stream",
     "text": [
      "(3000, 31)\n"
     ]
    },
    {
     "data": {
      "text/html": [
       "<div>\n",
       "<style scoped>\n",
       "    .dataframe tbody tr th:only-of-type {\n",
       "        vertical-align: middle;\n",
       "    }\n",
       "\n",
       "    .dataframe tbody tr th {\n",
       "        vertical-align: top;\n",
       "    }\n",
       "\n",
       "    .dataframe thead th {\n",
       "        text-align: right;\n",
       "    }\n",
       "</style>\n",
       "<table border=\"1\" class=\"dataframe\">\n",
       "  <thead>\n",
       "    <tr style=\"text-align: right;\">\n",
       "      <th></th>\n",
       "      <th>budget</th>\n",
       "      <th>has_collection</th>\n",
       "      <th>log_budget</th>\n",
       "      <th>has_homepage</th>\n",
       "      <th>first_genres_code</th>\n",
       "      <th>second_genres_code</th>\n",
       "      <th>third_genres_code</th>\n",
       "      <th>개봉연도</th>\n",
       "      <th>개봉월</th>\n",
       "      <th>개봉요일</th>\n",
       "      <th>...</th>\n",
       "      <th>first_company_class_소형</th>\n",
       "      <th>first_company_class_중대형</th>\n",
       "      <th>second_company_class_소형</th>\n",
       "      <th>second_company_class_중대형</th>\n",
       "      <th>production_country_etc_GB</th>\n",
       "      <th>production_country_etc_US</th>\n",
       "      <th>production_country_etc_etc</th>\n",
       "      <th>runtime_class_high</th>\n",
       "      <th>runtime_class_low</th>\n",
       "      <th>runtime_class_median</th>\n",
       "    </tr>\n",
       "  </thead>\n",
       "  <tbody>\n",
       "    <tr>\n",
       "      <th>0</th>\n",
       "      <td>14000000</td>\n",
       "      <td>1</td>\n",
       "      <td>16.454568</td>\n",
       "      <td>0</td>\n",
       "      <td>1</td>\n",
       "      <td>0</td>\n",
       "      <td>0</td>\n",
       "      <td>2015</td>\n",
       "      <td>2</td>\n",
       "      <td>4</td>\n",
       "      <td>...</td>\n",
       "      <td>0</td>\n",
       "      <td>1</td>\n",
       "      <td>0</td>\n",
       "      <td>1</td>\n",
       "      <td>0</td>\n",
       "      <td>1</td>\n",
       "      <td>0</td>\n",
       "      <td>0</td>\n",
       "      <td>1</td>\n",
       "      <td>0</td>\n",
       "    </tr>\n",
       "    <tr>\n",
       "      <th>1</th>\n",
       "      <td>40000000</td>\n",
       "      <td>1</td>\n",
       "      <td>17.504390</td>\n",
       "      <td>0</td>\n",
       "      <td>1</td>\n",
       "      <td>2</td>\n",
       "      <td>17</td>\n",
       "      <td>2004</td>\n",
       "      <td>8</td>\n",
       "      <td>4</td>\n",
       "      <td>...</td>\n",
       "      <td>0</td>\n",
       "      <td>1</td>\n",
       "      <td>0</td>\n",
       "      <td>1</td>\n",
       "      <td>0</td>\n",
       "      <td>1</td>\n",
       "      <td>0</td>\n",
       "      <td>0</td>\n",
       "      <td>0</td>\n",
       "      <td>1</td>\n",
       "    </tr>\n",
       "  </tbody>\n",
       "</table>\n",
       "<p>2 rows × 31 columns</p>\n",
       "</div>"
      ],
      "text/plain": [
       "     budget  has_collection  log_budget  has_homepage  first_genres_code  \\\n",
       "0  14000000               1   16.454568             0                  1   \n",
       "1  40000000               1   17.504390             0                  1   \n",
       "\n",
       "   second_genres_code  third_genres_code  개봉연도  개봉월  개봉요일  ...  \\\n",
       "0                   0                  0  2015    2     4  ...   \n",
       "1                   2                 17  2004    8     4  ...   \n",
       "\n",
       "   first_company_class_소형  first_company_class_중대형  second_company_class_소형  \\\n",
       "0                       0                        1                        0   \n",
       "1                       0                        1                        0   \n",
       "\n",
       "   second_company_class_중대형  production_country_etc_GB  \\\n",
       "0                         1                          0   \n",
       "1                         1                          0   \n",
       "\n",
       "   production_country_etc_US  production_country_etc_etc  runtime_class_high  \\\n",
       "0                          1                           0                   0   \n",
       "1                          1                           0                   0   \n",
       "\n",
       "   runtime_class_low  runtime_class_median  \n",
       "0                  1                     0  \n",
       "1                  0                     1  \n",
       "\n",
       "[2 rows x 31 columns]"
      ]
     },
     "execution_count": 85,
     "metadata": {},
     "output_type": "execute_result"
    }
   ],
   "source": [
    "X_train = train[feature_names]\n",
    "print(X_train.shape)\n",
    "X_train.head(2)"
   ]
  },
  {
   "cell_type": "code",
   "execution_count": 86,
   "id": "16dd3d79",
   "metadata": {},
   "outputs": [
    {
     "name": "stdout",
     "output_type": "stream",
     "text": [
      "(4398, 31)\n"
     ]
    },
    {
     "data": {
      "text/html": [
       "<div>\n",
       "<style scoped>\n",
       "    .dataframe tbody tr th:only-of-type {\n",
       "        vertical-align: middle;\n",
       "    }\n",
       "\n",
       "    .dataframe tbody tr th {\n",
       "        vertical-align: top;\n",
       "    }\n",
       "\n",
       "    .dataframe thead th {\n",
       "        text-align: right;\n",
       "    }\n",
       "</style>\n",
       "<table border=\"1\" class=\"dataframe\">\n",
       "  <thead>\n",
       "    <tr style=\"text-align: right;\">\n",
       "      <th></th>\n",
       "      <th>budget</th>\n",
       "      <th>has_collection</th>\n",
       "      <th>log_budget</th>\n",
       "      <th>has_homepage</th>\n",
       "      <th>first_genres_code</th>\n",
       "      <th>second_genres_code</th>\n",
       "      <th>third_genres_code</th>\n",
       "      <th>개봉연도</th>\n",
       "      <th>개봉월</th>\n",
       "      <th>개봉요일</th>\n",
       "      <th>...</th>\n",
       "      <th>first_company_class_소형</th>\n",
       "      <th>first_company_class_중대형</th>\n",
       "      <th>second_company_class_소형</th>\n",
       "      <th>second_company_class_중대형</th>\n",
       "      <th>production_country_etc_GB</th>\n",
       "      <th>production_country_etc_US</th>\n",
       "      <th>production_country_etc_etc</th>\n",
       "      <th>runtime_class_high</th>\n",
       "      <th>runtime_class_low</th>\n",
       "      <th>runtime_class_median</th>\n",
       "    </tr>\n",
       "  </thead>\n",
       "  <tbody>\n",
       "    <tr>\n",
       "      <th>0</th>\n",
       "      <td>0</td>\n",
       "      <td>1</td>\n",
       "      <td>0.000000</td>\n",
       "      <td>1</td>\n",
       "      <td>8</td>\n",
       "      <td>5</td>\n",
       "      <td>17</td>\n",
       "      <td>2007</td>\n",
       "      <td>7</td>\n",
       "      <td>5</td>\n",
       "      <td>...</td>\n",
       "      <td>0</td>\n",
       "      <td>1</td>\n",
       "      <td>0</td>\n",
       "      <td>1</td>\n",
       "      <td>0</td>\n",
       "      <td>0</td>\n",
       "      <td>1</td>\n",
       "      <td>0</td>\n",
       "      <td>1</td>\n",
       "      <td>0</td>\n",
       "    </tr>\n",
       "    <tr>\n",
       "      <th>1</th>\n",
       "      <td>88000</td>\n",
       "      <td>0</td>\n",
       "      <td>11.385103</td>\n",
       "      <td>0</td>\n",
       "      <td>6</td>\n",
       "      <td>13</td>\n",
       "      <td>0</td>\n",
       "      <td>2058</td>\n",
       "      <td>5</td>\n",
       "      <td>6</td>\n",
       "      <td>...</td>\n",
       "      <td>1</td>\n",
       "      <td>0</td>\n",
       "      <td>0</td>\n",
       "      <td>1</td>\n",
       "      <td>0</td>\n",
       "      <td>1</td>\n",
       "      <td>0</td>\n",
       "      <td>0</td>\n",
       "      <td>1</td>\n",
       "      <td>0</td>\n",
       "    </tr>\n",
       "  </tbody>\n",
       "</table>\n",
       "<p>2 rows × 31 columns</p>\n",
       "</div>"
      ],
      "text/plain": [
       "   budget  has_collection  log_budget  has_homepage  first_genres_code  \\\n",
       "0       0               1    0.000000             1                  8   \n",
       "1   88000               0   11.385103             0                  6   \n",
       "\n",
       "   second_genres_code  third_genres_code  개봉연도  개봉월  개봉요일  ...  \\\n",
       "0                   5                 17  2007    7     5  ...   \n",
       "1                  13                  0  2058    5     6  ...   \n",
       "\n",
       "   first_company_class_소형  first_company_class_중대형  second_company_class_소형  \\\n",
       "0                       0                        1                        0   \n",
       "1                       1                        0                        0   \n",
       "\n",
       "   second_company_class_중대형  production_country_etc_GB  \\\n",
       "0                         1                          0   \n",
       "1                         1                          0   \n",
       "\n",
       "   production_country_etc_US  production_country_etc_etc  runtime_class_high  \\\n",
       "0                          0                           1                   0   \n",
       "1                          1                           0                   0   \n",
       "\n",
       "   runtime_class_low  runtime_class_median  \n",
       "0                  1                     0  \n",
       "1                  1                     0  \n",
       "\n",
       "[2 rows x 31 columns]"
      ]
     },
     "execution_count": 86,
     "metadata": {},
     "output_type": "execute_result"
    }
   ],
   "source": [
    "X_test = test[feature_names]\n",
    "print(X_test.shape)\n",
    "X_test.head(2)"
   ]
  },
  {
   "cell_type": "code",
   "execution_count": 87,
   "id": "796d0073",
   "metadata": {},
   "outputs": [
    {
     "data": {
      "text/plain": [
       "0       16.326300\n",
       "1       18.370959\n",
       "2       16.387512\n",
       "3       16.588099\n",
       "4       15.182615\n",
       "          ...    \n",
       "2995    14.283442\n",
       "2996    12.103990\n",
       "2997    18.309266\n",
       "2998    18.962792\n",
       "2999    18.223292\n",
       "Name: revenue, Length: 3000, dtype: float64"
      ]
     },
     "execution_count": 87,
     "metadata": {},
     "output_type": "execute_result"
    }
   ],
   "source": [
    "y_train = train[label_name]\n",
    "y_train"
   ]
  },
  {
   "cell_type": "markdown",
   "id": "bc486162",
   "metadata": {},
   "source": [
    "## 머신러닝 모델 만들기(catboost)"
   ]
  },
  {
   "cell_type": "code",
   "execution_count": 88,
   "id": "48b8a0b5",
   "metadata": {},
   "outputs": [
    {
     "data": {
      "text/plain": [
       "<catboost.core.CatBoostRegressor at 0x1e45fab7790>"
      ]
     },
     "execution_count": 88,
     "metadata": {},
     "output_type": "execute_result"
    }
   ],
   "source": [
    "model = CatBoostRegressor(random_state= 42)\n",
    "model"
   ]
  },
  {
   "cell_type": "markdown",
   "id": "2c0db964",
   "metadata": {},
   "source": [
    "## GridSearchCV or RandomizedSearchCV"
   ]
  },
  {
   "cell_type": "code",
   "execution_count": 89,
   "id": "38579d63",
   "metadata": {},
   "outputs": [
    {
     "name": "stdout",
     "output_type": "stream",
     "text": [
      "Fitting 15 folds for each of 10 candidates, totalling 150 fits\n",
      "0:\tlearn: 2.5847692\ttotal: 144ms\tremaining: 3.32s\n",
      "1:\tlearn: 2.3822262\ttotal: 152ms\tremaining: 1.67s\n",
      "2:\tlearn: 2.2512232\ttotal: 157ms\tremaining: 1.1s\n",
      "3:\tlearn: 2.1755519\ttotal: 162ms\tremaining: 809ms\n",
      "4:\tlearn: 2.1441128\ttotal: 165ms\tremaining: 626ms\n",
      "5:\tlearn: 2.0847752\ttotal: 168ms\tremaining: 503ms\n",
      "6:\tlearn: 2.0417542\ttotal: 171ms\tremaining: 416ms\n",
      "7:\tlearn: 2.0002313\ttotal: 173ms\tremaining: 346ms\n",
      "8:\tlearn: 1.9746400\ttotal: 175ms\tremaining: 291ms\n",
      "9:\tlearn: 1.9547134\ttotal: 177ms\tremaining: 248ms\n",
      "10:\tlearn: 1.9405193\ttotal: 179ms\tremaining: 211ms\n",
      "11:\tlearn: 1.9202701\ttotal: 181ms\tremaining: 181ms\n",
      "12:\tlearn: 1.9123198\ttotal: 182ms\tremaining: 154ms\n",
      "13:\tlearn: 1.8978359\ttotal: 184ms\tremaining: 131ms\n",
      "14:\tlearn: 1.8896408\ttotal: 185ms\tremaining: 111ms\n",
      "15:\tlearn: 1.8824103\ttotal: 186ms\tremaining: 92.8ms\n",
      "16:\tlearn: 1.8633652\ttotal: 187ms\tremaining: 76.9ms\n",
      "17:\tlearn: 1.8438522\ttotal: 188ms\tremaining: 62.6ms\n",
      "18:\tlearn: 1.8236133\ttotal: 189ms\tremaining: 49.7ms\n",
      "19:\tlearn: 1.8069983\ttotal: 190ms\tremaining: 37.9ms\n",
      "20:\tlearn: 1.7825999\ttotal: 191ms\tremaining: 27.2ms\n",
      "21:\tlearn: 1.7753004\ttotal: 192ms\tremaining: 17.4ms\n",
      "22:\tlearn: 1.7662469\ttotal: 193ms\tremaining: 8.37ms\n",
      "23:\tlearn: 1.7553340\ttotal: 194ms\tremaining: 0us\n"
     ]
    },
    {
     "data": {
      "text/html": [
       "<style>#sk-container-id-1 {color: black;background-color: white;}#sk-container-id-1 pre{padding: 0;}#sk-container-id-1 div.sk-toggleable {background-color: white;}#sk-container-id-1 label.sk-toggleable__label {cursor: pointer;display: block;width: 100%;margin-bottom: 0;padding: 0.3em;box-sizing: border-box;text-align: center;}#sk-container-id-1 label.sk-toggleable__label-arrow:before {content: \"▸\";float: left;margin-right: 0.25em;color: #696969;}#sk-container-id-1 label.sk-toggleable__label-arrow:hover:before {color: black;}#sk-container-id-1 div.sk-estimator:hover label.sk-toggleable__label-arrow:before {color: black;}#sk-container-id-1 div.sk-toggleable__content {max-height: 0;max-width: 0;overflow: hidden;text-align: left;background-color: #f0f8ff;}#sk-container-id-1 div.sk-toggleable__content pre {margin: 0.2em;color: black;border-radius: 0.25em;background-color: #f0f8ff;}#sk-container-id-1 input.sk-toggleable__control:checked~div.sk-toggleable__content {max-height: 200px;max-width: 100%;overflow: auto;}#sk-container-id-1 input.sk-toggleable__control:checked~label.sk-toggleable__label-arrow:before {content: \"▾\";}#sk-container-id-1 div.sk-estimator input.sk-toggleable__control:checked~label.sk-toggleable__label {background-color: #d4ebff;}#sk-container-id-1 div.sk-label input.sk-toggleable__control:checked~label.sk-toggleable__label {background-color: #d4ebff;}#sk-container-id-1 input.sk-hidden--visually {border: 0;clip: rect(1px 1px 1px 1px);clip: rect(1px, 1px, 1px, 1px);height: 1px;margin: -1px;overflow: hidden;padding: 0;position: absolute;width: 1px;}#sk-container-id-1 div.sk-estimator {font-family: monospace;background-color: #f0f8ff;border: 1px dotted black;border-radius: 0.25em;box-sizing: border-box;margin-bottom: 0.5em;}#sk-container-id-1 div.sk-estimator:hover {background-color: #d4ebff;}#sk-container-id-1 div.sk-parallel-item::after {content: \"\";width: 100%;border-bottom: 1px solid gray;flex-grow: 1;}#sk-container-id-1 div.sk-label:hover label.sk-toggleable__label {background-color: #d4ebff;}#sk-container-id-1 div.sk-serial::before {content: \"\";position: absolute;border-left: 1px solid gray;box-sizing: border-box;top: 0;bottom: 0;left: 50%;z-index: 0;}#sk-container-id-1 div.sk-serial {display: flex;flex-direction: column;align-items: center;background-color: white;padding-right: 0.2em;padding-left: 0.2em;position: relative;}#sk-container-id-1 div.sk-item {position: relative;z-index: 1;}#sk-container-id-1 div.sk-parallel {display: flex;align-items: stretch;justify-content: center;background-color: white;position: relative;}#sk-container-id-1 div.sk-item::before, #sk-container-id-1 div.sk-parallel-item::before {content: \"\";position: absolute;border-left: 1px solid gray;box-sizing: border-box;top: 0;bottom: 0;left: 50%;z-index: -1;}#sk-container-id-1 div.sk-parallel-item {display: flex;flex-direction: column;z-index: 1;position: relative;background-color: white;}#sk-container-id-1 div.sk-parallel-item:first-child::after {align-self: flex-end;width: 50%;}#sk-container-id-1 div.sk-parallel-item:last-child::after {align-self: flex-start;width: 50%;}#sk-container-id-1 div.sk-parallel-item:only-child::after {width: 0;}#sk-container-id-1 div.sk-dashed-wrapped {border: 1px dashed gray;margin: 0 0.4em 0.5em 0.4em;box-sizing: border-box;padding-bottom: 0.4em;background-color: white;}#sk-container-id-1 div.sk-label label {font-family: monospace;font-weight: bold;display: inline-block;line-height: 1.2em;}#sk-container-id-1 div.sk-label-container {text-align: center;}#sk-container-id-1 div.sk-container {/* jupyter's `normalize.less` sets `[hidden] { display: none; }` but bootstrap.min.css set `[hidden] { display: none !important; }` so we also need the `!important` here to be able to override the default hidden behavior on the sphinx rendered scikit-learn.org. See: https://github.com/scikit-learn/scikit-learn/issues/21755 */display: inline-block !important;position: relative;}#sk-container-id-1 div.sk-text-repr-fallback {display: none;}</style><div id=\"sk-container-id-1\" class=\"sk-top-container\"><div class=\"sk-text-repr-fallback\"><pre>RandomizedSearchCV(cv=15,\n",
       "                   estimator=&lt;catboost.core.CatBoostRegressor object at 0x000001E45FAB7790&gt;,\n",
       "                   n_jobs=-1,\n",
       "                   param_distributions={&#x27;iterations&#x27;: array([29, 16, 20, 16, 20, 27, 15, 24, 24, 16]),\n",
       "                                        &#x27;learning_rate&#x27;: array([0.27953956, 0.48520869, 0.90627277, 0.41734214, 0.14703092,\n",
       "       0.33411167, 0.91492097, 0.66899075, 0.31904063, 0.45413899]),\n",
       "                                        &#x27;max_depth&#x27;: array([13, 11,  6,  5, 14, 11, 13,  5, 11, 14]),\n",
       "                                        &#x27;min_child_samples&#x27;: array([ 8, 37, 95, 63, 50, 33, 14, 57, 70, 81])},\n",
       "                   random_state=42, scoring=&#x27;neg_root_mean_squared_error&#x27;,\n",
       "                   verbose=2)</pre><b>In a Jupyter environment, please rerun this cell to show the HTML representation or trust the notebook. <br />On GitHub, the HTML representation is unable to render, please try loading this page with nbviewer.org.</b></div><div class=\"sk-container\" hidden><div class=\"sk-item sk-dashed-wrapped\"><div class=\"sk-label-container\"><div class=\"sk-label sk-toggleable\"><input class=\"sk-toggleable__control sk-hidden--visually\" id=\"sk-estimator-id-1\" type=\"checkbox\" ><label for=\"sk-estimator-id-1\" class=\"sk-toggleable__label sk-toggleable__label-arrow\">RandomizedSearchCV</label><div class=\"sk-toggleable__content\"><pre>RandomizedSearchCV(cv=15,\n",
       "                   estimator=&lt;catboost.core.CatBoostRegressor object at 0x000001E45FAB7790&gt;,\n",
       "                   n_jobs=-1,\n",
       "                   param_distributions={&#x27;iterations&#x27;: array([29, 16, 20, 16, 20, 27, 15, 24, 24, 16]),\n",
       "                                        &#x27;learning_rate&#x27;: array([0.27953956, 0.48520869, 0.90627277, 0.41734214, 0.14703092,\n",
       "       0.33411167, 0.91492097, 0.66899075, 0.31904063, 0.45413899]),\n",
       "                                        &#x27;max_depth&#x27;: array([13, 11,  6,  5, 14, 11, 13,  5, 11, 14]),\n",
       "                                        &#x27;min_child_samples&#x27;: array([ 8, 37, 95, 63, 50, 33, 14, 57, 70, 81])},\n",
       "                   random_state=42, scoring=&#x27;neg_root_mean_squared_error&#x27;,\n",
       "                   verbose=2)</pre></div></div></div><div class=\"sk-parallel\"><div class=\"sk-parallel-item\"><div class=\"sk-item\"><div class=\"sk-label-container\"><div class=\"sk-label sk-toggleable\"><input class=\"sk-toggleable__control sk-hidden--visually\" id=\"sk-estimator-id-2\" type=\"checkbox\" ><label for=\"sk-estimator-id-2\" class=\"sk-toggleable__label sk-toggleable__label-arrow\">estimator: CatBoostRegressor</label><div class=\"sk-toggleable__content\"><pre>&lt;catboost.core.CatBoostRegressor object at 0x000001E45FAB7790&gt;</pre></div></div></div><div class=\"sk-serial\"><div class=\"sk-item\"><div class=\"sk-estimator sk-toggleable\"><input class=\"sk-toggleable__control sk-hidden--visually\" id=\"sk-estimator-id-3\" type=\"checkbox\" ><label for=\"sk-estimator-id-3\" class=\"sk-toggleable__label sk-toggleable__label-arrow\">CatBoostRegressor</label><div class=\"sk-toggleable__content\"><pre>&lt;catboost.core.CatBoostRegressor object at 0x000001E45FAB7790&gt;</pre></div></div></div></div></div></div></div></div></div></div>"
      ],
      "text/plain": [
       "RandomizedSearchCV(cv=15,\n",
       "                   estimator=<catboost.core.CatBoostRegressor object at 0x000001E45FAB7790>,\n",
       "                   n_jobs=-1,\n",
       "                   param_distributions={'iterations': array([29, 16, 20, 16, 20, 27, 15, 24, 24, 16]),\n",
       "                                        'learning_rate': array([0.27953956, 0.48520869, 0.90627277, 0.41734214, 0.14703092,\n",
       "       0.33411167, 0.91492097, 0.66899075, 0.31904063, 0.45413899]),\n",
       "                                        'max_depth': array([13, 11,  6,  5, 14, 11, 13,  5, 11, 14]),\n",
       "                                        'min_child_samples': array([ 8, 37, 95, 63, 50, 33, 14, 57, 70, 81])},\n",
       "                   random_state=42, scoring='neg_root_mean_squared_error',\n",
       "                   verbose=2)"
      ]
     },
     "execution_count": 89,
     "metadata": {},
     "output_type": "execute_result"
    }
   ],
   "source": [
    "# 랜덤서치\n",
    "\n",
    "param_distributions = {'iterations': np.random.randint(15, 30, 10),\n",
    "                       'learning_rate': np.random.uniform(0.1, 1, 10),\n",
    "                       'max_depth': np.random.randint(4, 16, 10),\n",
    "                       'min_child_samples':  np.random.randint(5, 100, 10)}\n",
    "\n",
    "cat = RandomizedSearchCV(model, \n",
    "                   param_distributions = param_distributions, \n",
    "                   scoring = \"neg_root_mean_squared_error\", \n",
    "                   n_iter = 10, cv = 15, n_jobs = -1,\n",
    "                   verbose = 2, random_state = 42)\n",
    "\n",
    "cat.fit(X_train, y_train)"
   ]
  },
  {
   "cell_type": "code",
   "execution_count": 90,
   "id": "157cecd8",
   "metadata": {},
   "outputs": [
    {
     "data": {
      "text/plain": [
       "<catboost.core.CatBoostRegressor at 0x1e45fa6fc10>"
      ]
     },
     "execution_count": 90,
     "metadata": {},
     "output_type": "execute_result"
    }
   ],
   "source": [
    "cat.best_estimator_"
   ]
  },
  {
   "cell_type": "code",
   "execution_count": 91,
   "id": "4079297e",
   "metadata": {},
   "outputs": [
    {
     "data": {
      "text/plain": [
       "2.098864035971349"
      ]
     },
     "execution_count": 91,
     "metadata": {},
     "output_type": "execute_result"
    }
   ],
   "source": [
    "rmsle = abs(cat.best_score_)\n",
    "rmsle"
   ]
  },
  {
   "cell_type": "code",
   "execution_count": 92,
   "id": "f295ff0d",
   "metadata": {},
   "outputs": [
    {
     "data": {
      "text/html": [
       "<div>\n",
       "<style scoped>\n",
       "    .dataframe tbody tr th:only-of-type {\n",
       "        vertical-align: middle;\n",
       "    }\n",
       "\n",
       "    .dataframe tbody tr th {\n",
       "        vertical-align: top;\n",
       "    }\n",
       "\n",
       "    .dataframe thead th {\n",
       "        text-align: right;\n",
       "    }\n",
       "</style>\n",
       "<table border=\"1\" class=\"dataframe\">\n",
       "  <thead>\n",
       "    <tr style=\"text-align: right;\">\n",
       "      <th></th>\n",
       "      <th>mean_fit_time</th>\n",
       "      <th>std_fit_time</th>\n",
       "      <th>mean_score_time</th>\n",
       "      <th>std_score_time</th>\n",
       "      <th>param_min_child_samples</th>\n",
       "      <th>param_max_depth</th>\n",
       "      <th>param_learning_rate</th>\n",
       "      <th>param_iterations</th>\n",
       "      <th>params</th>\n",
       "      <th>split0_test_score</th>\n",
       "      <th>...</th>\n",
       "      <th>split8_test_score</th>\n",
       "      <th>split9_test_score</th>\n",
       "      <th>split10_test_score</th>\n",
       "      <th>split11_test_score</th>\n",
       "      <th>split12_test_score</th>\n",
       "      <th>split13_test_score</th>\n",
       "      <th>split14_test_score</th>\n",
       "      <th>mean_test_score</th>\n",
       "      <th>std_test_score</th>\n",
       "      <th>rank_test_score</th>\n",
       "    </tr>\n",
       "  </thead>\n",
       "  <tbody>\n",
       "    <tr>\n",
       "      <th>9</th>\n",
       "      <td>0.238371</td>\n",
       "      <td>0.062582</td>\n",
       "      <td>0.002933</td>\n",
       "      <td>0.000590</td>\n",
       "      <td>95</td>\n",
       "      <td>6</td>\n",
       "      <td>0.417342</td>\n",
       "      <td>24</td>\n",
       "      <td>{'min_child_samples': 95, 'max_depth': 6, 'lea...</td>\n",
       "      <td>-2.190247</td>\n",
       "      <td>...</td>\n",
       "      <td>-1.819337</td>\n",
       "      <td>-2.347042</td>\n",
       "      <td>-1.797256</td>\n",
       "      <td>-2.172502</td>\n",
       "      <td>-2.260840</td>\n",
       "      <td>-1.976957</td>\n",
       "      <td>-1.839718</td>\n",
       "      <td>-2.098864</td>\n",
       "      <td>0.224387</td>\n",
       "      <td>1</td>\n",
       "    </tr>\n",
       "    <tr>\n",
       "      <th>8</th>\n",
       "      <td>0.919718</td>\n",
       "      <td>0.539127</td>\n",
       "      <td>0.003142</td>\n",
       "      <td>0.000821</td>\n",
       "      <td>70</td>\n",
       "      <td>5</td>\n",
       "      <td>0.334112</td>\n",
       "      <td>27</td>\n",
       "      <td>{'min_child_samples': 70, 'max_depth': 5, 'lea...</td>\n",
       "      <td>-2.210109</td>\n",
       "      <td>...</td>\n",
       "      <td>-1.948357</td>\n",
       "      <td>-2.192075</td>\n",
       "      <td>-1.838885</td>\n",
       "      <td>-2.223585</td>\n",
       "      <td>-2.205274</td>\n",
       "      <td>-1.928036</td>\n",
       "      <td>-1.822136</td>\n",
       "      <td>-2.125067</td>\n",
       "      <td>0.207412</td>\n",
       "      <td>2</td>\n",
       "    </tr>\n",
       "    <tr>\n",
       "      <th>4</th>\n",
       "      <td>2.491668</td>\n",
       "      <td>0.772146</td>\n",
       "      <td>0.006481</td>\n",
       "      <td>0.007440</td>\n",
       "      <td>50</td>\n",
       "      <td>5</td>\n",
       "      <td>0.668991</td>\n",
       "      <td>27</td>\n",
       "      <td>{'min_child_samples': 50, 'max_depth': 5, 'lea...</td>\n",
       "      <td>-2.223160</td>\n",
       "      <td>...</td>\n",
       "      <td>-1.930778</td>\n",
       "      <td>-2.337229</td>\n",
       "      <td>-1.885636</td>\n",
       "      <td>-2.200354</td>\n",
       "      <td>-2.288537</td>\n",
       "      <td>-2.022661</td>\n",
       "      <td>-1.829426</td>\n",
       "      <td>-2.148477</td>\n",
       "      <td>0.224473</td>\n",
       "      <td>3</td>\n",
       "    </tr>\n",
       "    <tr>\n",
       "      <th>7</th>\n",
       "      <td>2.713468</td>\n",
       "      <td>0.795696</td>\n",
       "      <td>0.005021</td>\n",
       "      <td>0.002080</td>\n",
       "      <td>14</td>\n",
       "      <td>6</td>\n",
       "      <td>0.147031</td>\n",
       "      <td>20</td>\n",
       "      <td>{'min_child_samples': 14, 'max_depth': 6, 'lea...</td>\n",
       "      <td>-2.192187</td>\n",
       "      <td>...</td>\n",
       "      <td>-1.977397</td>\n",
       "      <td>-2.370445</td>\n",
       "      <td>-1.945414</td>\n",
       "      <td>-2.310364</td>\n",
       "      <td>-2.163915</td>\n",
       "      <td>-1.838270</td>\n",
       "      <td>-1.865077</td>\n",
       "      <td>-2.164606</td>\n",
       "      <td>0.228300</td>\n",
       "      <td>4</td>\n",
       "    </tr>\n",
       "    <tr>\n",
       "      <th>6</th>\n",
       "      <td>19.933233</td>\n",
       "      <td>1.791685</td>\n",
       "      <td>0.004154</td>\n",
       "      <td>0.001545</td>\n",
       "      <td>14</td>\n",
       "      <td>13</td>\n",
       "      <td>0.147031</td>\n",
       "      <td>29</td>\n",
       "      <td>{'min_child_samples': 14, 'max_depth': 13, 'le...</td>\n",
       "      <td>-2.265809</td>\n",
       "      <td>...</td>\n",
       "      <td>-1.985571</td>\n",
       "      <td>-2.461415</td>\n",
       "      <td>-1.988365</td>\n",
       "      <td>-2.354940</td>\n",
       "      <td>-2.229851</td>\n",
       "      <td>-1.938007</td>\n",
       "      <td>-1.901357</td>\n",
       "      <td>-2.190881</td>\n",
       "      <td>0.226188</td>\n",
       "      <td>5</td>\n",
       "    </tr>\n",
       "    <tr>\n",
       "      <th>1</th>\n",
       "      <td>24.375646</td>\n",
       "      <td>3.358152</td>\n",
       "      <td>0.004681</td>\n",
       "      <td>0.000705</td>\n",
       "      <td>8</td>\n",
       "      <td>13</td>\n",
       "      <td>0.319041</td>\n",
       "      <td>29</td>\n",
       "      <td>{'min_child_samples': 8, 'max_depth': 13, 'lea...</td>\n",
       "      <td>-2.279382</td>\n",
       "      <td>...</td>\n",
       "      <td>-2.018259</td>\n",
       "      <td>-2.455433</td>\n",
       "      <td>-1.992794</td>\n",
       "      <td>-2.449118</td>\n",
       "      <td>-2.303091</td>\n",
       "      <td>-1.981923</td>\n",
       "      <td>-1.920121</td>\n",
       "      <td>-2.212747</td>\n",
       "      <td>0.234060</td>\n",
       "      <td>6</td>\n",
       "    </tr>\n",
       "    <tr>\n",
       "      <th>0</th>\n",
       "      <td>1.019671</td>\n",
       "      <td>0.584066</td>\n",
       "      <td>0.004072</td>\n",
       "      <td>0.000934</td>\n",
       "      <td>8</td>\n",
       "      <td>5</td>\n",
       "      <td>0.906273</td>\n",
       "      <td>24</td>\n",
       "      <td>{'min_child_samples': 8, 'max_depth': 5, 'lear...</td>\n",
       "      <td>-2.366872</td>\n",
       "      <td>...</td>\n",
       "      <td>-2.013499</td>\n",
       "      <td>-2.396158</td>\n",
       "      <td>-1.887637</td>\n",
       "      <td>-2.161362</td>\n",
       "      <td>-2.329235</td>\n",
       "      <td>-2.045661</td>\n",
       "      <td>-2.071073</td>\n",
       "      <td>-2.220303</td>\n",
       "      <td>0.188914</td>\n",
       "      <td>7</td>\n",
       "    </tr>\n",
       "    <tr>\n",
       "      <th>2</th>\n",
       "      <td>39.389385</td>\n",
       "      <td>5.574002</td>\n",
       "      <td>0.004624</td>\n",
       "      <td>0.000640</td>\n",
       "      <td>8</td>\n",
       "      <td>14</td>\n",
       "      <td>0.417342</td>\n",
       "      <td>27</td>\n",
       "      <td>{'min_child_samples': 8, 'max_depth': 14, 'lea...</td>\n",
       "      <td>-2.373595</td>\n",
       "      <td>...</td>\n",
       "      <td>-2.029290</td>\n",
       "      <td>-2.593614</td>\n",
       "      <td>-2.067862</td>\n",
       "      <td>-2.486541</td>\n",
       "      <td>-2.214219</td>\n",
       "      <td>-1.992096</td>\n",
       "      <td>-1.995733</td>\n",
       "      <td>-2.253009</td>\n",
       "      <td>0.232862</td>\n",
       "      <td>8</td>\n",
       "    </tr>\n",
       "    <tr>\n",
       "      <th>3</th>\n",
       "      <td>33.967646</td>\n",
       "      <td>4.799120</td>\n",
       "      <td>0.008225</td>\n",
       "      <td>0.008615</td>\n",
       "      <td>37</td>\n",
       "      <td>14</td>\n",
       "      <td>0.485209</td>\n",
       "      <td>27</td>\n",
       "      <td>{'min_child_samples': 37, 'max_depth': 14, 'le...</td>\n",
       "      <td>-2.468550</td>\n",
       "      <td>...</td>\n",
       "      <td>-1.964840</td>\n",
       "      <td>-2.540712</td>\n",
       "      <td>-2.037381</td>\n",
       "      <td>-2.531227</td>\n",
       "      <td>-2.288680</td>\n",
       "      <td>-2.046325</td>\n",
       "      <td>-1.946538</td>\n",
       "      <td>-2.263129</td>\n",
       "      <td>0.237997</td>\n",
       "      <td>9</td>\n",
       "    </tr>\n",
       "    <tr>\n",
       "      <th>5</th>\n",
       "      <td>12.001788</td>\n",
       "      <td>1.938235</td>\n",
       "      <td>0.004642</td>\n",
       "      <td>0.000937</td>\n",
       "      <td>33</td>\n",
       "      <td>13</td>\n",
       "      <td>0.906273</td>\n",
       "      <td>15</td>\n",
       "      <td>{'min_child_samples': 33, 'max_depth': 13, 'le...</td>\n",
       "      <td>-2.369539</td>\n",
       "      <td>...</td>\n",
       "      <td>-2.089596</td>\n",
       "      <td>-2.660020</td>\n",
       "      <td>-2.318196</td>\n",
       "      <td>-2.650596</td>\n",
       "      <td>-2.200808</td>\n",
       "      <td>-2.231802</td>\n",
       "      <td>-2.081323</td>\n",
       "      <td>-2.381356</td>\n",
       "      <td>0.210880</td>\n",
       "      <td>10</td>\n",
       "    </tr>\n",
       "  </tbody>\n",
       "</table>\n",
       "<p>10 rows × 27 columns</p>\n",
       "</div>"
      ],
      "text/plain": [
       "   mean_fit_time  std_fit_time  mean_score_time  std_score_time  \\\n",
       "9       0.238371      0.062582         0.002933        0.000590   \n",
       "8       0.919718      0.539127         0.003142        0.000821   \n",
       "4       2.491668      0.772146         0.006481        0.007440   \n",
       "7       2.713468      0.795696         0.005021        0.002080   \n",
       "6      19.933233      1.791685         0.004154        0.001545   \n",
       "1      24.375646      3.358152         0.004681        0.000705   \n",
       "0       1.019671      0.584066         0.004072        0.000934   \n",
       "2      39.389385      5.574002         0.004624        0.000640   \n",
       "3      33.967646      4.799120         0.008225        0.008615   \n",
       "5      12.001788      1.938235         0.004642        0.000937   \n",
       "\n",
       "  param_min_child_samples param_max_depth param_learning_rate  \\\n",
       "9                      95               6            0.417342   \n",
       "8                      70               5            0.334112   \n",
       "4                      50               5            0.668991   \n",
       "7                      14               6            0.147031   \n",
       "6                      14              13            0.147031   \n",
       "1                       8              13            0.319041   \n",
       "0                       8               5            0.906273   \n",
       "2                       8              14            0.417342   \n",
       "3                      37              14            0.485209   \n",
       "5                      33              13            0.906273   \n",
       "\n",
       "  param_iterations                                             params  \\\n",
       "9               24  {'min_child_samples': 95, 'max_depth': 6, 'lea...   \n",
       "8               27  {'min_child_samples': 70, 'max_depth': 5, 'lea...   \n",
       "4               27  {'min_child_samples': 50, 'max_depth': 5, 'lea...   \n",
       "7               20  {'min_child_samples': 14, 'max_depth': 6, 'lea...   \n",
       "6               29  {'min_child_samples': 14, 'max_depth': 13, 'le...   \n",
       "1               29  {'min_child_samples': 8, 'max_depth': 13, 'lea...   \n",
       "0               24  {'min_child_samples': 8, 'max_depth': 5, 'lear...   \n",
       "2               27  {'min_child_samples': 8, 'max_depth': 14, 'lea...   \n",
       "3               27  {'min_child_samples': 37, 'max_depth': 14, 'le...   \n",
       "5               15  {'min_child_samples': 33, 'max_depth': 13, 'le...   \n",
       "\n",
       "   split0_test_score  ...  split8_test_score  split9_test_score  \\\n",
       "9          -2.190247  ...          -1.819337          -2.347042   \n",
       "8          -2.210109  ...          -1.948357          -2.192075   \n",
       "4          -2.223160  ...          -1.930778          -2.337229   \n",
       "7          -2.192187  ...          -1.977397          -2.370445   \n",
       "6          -2.265809  ...          -1.985571          -2.461415   \n",
       "1          -2.279382  ...          -2.018259          -2.455433   \n",
       "0          -2.366872  ...          -2.013499          -2.396158   \n",
       "2          -2.373595  ...          -2.029290          -2.593614   \n",
       "3          -2.468550  ...          -1.964840          -2.540712   \n",
       "5          -2.369539  ...          -2.089596          -2.660020   \n",
       "\n",
       "   split10_test_score  split11_test_score  split12_test_score  \\\n",
       "9           -1.797256           -2.172502           -2.260840   \n",
       "8           -1.838885           -2.223585           -2.205274   \n",
       "4           -1.885636           -2.200354           -2.288537   \n",
       "7           -1.945414           -2.310364           -2.163915   \n",
       "6           -1.988365           -2.354940           -2.229851   \n",
       "1           -1.992794           -2.449118           -2.303091   \n",
       "0           -1.887637           -2.161362           -2.329235   \n",
       "2           -2.067862           -2.486541           -2.214219   \n",
       "3           -2.037381           -2.531227           -2.288680   \n",
       "5           -2.318196           -2.650596           -2.200808   \n",
       "\n",
       "   split13_test_score  split14_test_score  mean_test_score  std_test_score  \\\n",
       "9           -1.976957           -1.839718        -2.098864        0.224387   \n",
       "8           -1.928036           -1.822136        -2.125067        0.207412   \n",
       "4           -2.022661           -1.829426        -2.148477        0.224473   \n",
       "7           -1.838270           -1.865077        -2.164606        0.228300   \n",
       "6           -1.938007           -1.901357        -2.190881        0.226188   \n",
       "1           -1.981923           -1.920121        -2.212747        0.234060   \n",
       "0           -2.045661           -2.071073        -2.220303        0.188914   \n",
       "2           -1.992096           -1.995733        -2.253009        0.232862   \n",
       "3           -2.046325           -1.946538        -2.263129        0.237997   \n",
       "5           -2.231802           -2.081323        -2.381356        0.210880   \n",
       "\n",
       "   rank_test_score  \n",
       "9                1  \n",
       "8                2  \n",
       "4                3  \n",
       "7                4  \n",
       "6                5  \n",
       "1                6  \n",
       "0                7  \n",
       "2                8  \n",
       "3                9  \n",
       "5               10  \n",
       "\n",
       "[10 rows x 27 columns]"
      ]
     },
     "execution_count": 92,
     "metadata": {},
     "output_type": "execute_result"
    }
   ],
   "source": [
    "pd.DataFrame(cat.cv_results_).sort_values(\"rank_test_score\")"
   ]
  },
  {
   "cell_type": "markdown",
   "id": "f425d484",
   "metadata": {},
   "source": [
    "## RSCV 결과 best 모델로 학습 및 예측하기 "
   ]
  },
  {
   "cell_type": "code",
   "execution_count": 93,
   "id": "fc95ff1a",
   "metadata": {},
   "outputs": [
    {
     "data": {
      "text/plain": [
       "<catboost.core.CatBoostRegressor at 0x1e45fa6fc10>"
      ]
     },
     "execution_count": 93,
     "metadata": {},
     "output_type": "execute_result"
    }
   ],
   "source": [
    "best_model = cat.best_estimator_\n",
    "best_model"
   ]
  },
  {
   "cell_type": "code",
   "execution_count": 94,
   "id": "de794042",
   "metadata": {},
   "outputs": [
    {
     "name": "stdout",
     "output_type": "stream",
     "text": [
      "0:\tlearn: 2.5847692\ttotal: 1.1ms\tremaining: 25.4ms\n",
      "1:\tlearn: 2.3822262\ttotal: 2.17ms\tremaining: 23.9ms\n",
      "2:\tlearn: 2.2512232\ttotal: 3.12ms\tremaining: 21.9ms\n",
      "3:\tlearn: 2.1755519\ttotal: 4.08ms\tremaining: 20.4ms\n",
      "4:\tlearn: 2.1441128\ttotal: 5ms\tremaining: 19ms\n",
      "5:\tlearn: 2.0847752\ttotal: 5.96ms\tremaining: 17.9ms\n",
      "6:\tlearn: 2.0417542\ttotal: 7.02ms\tremaining: 17.1ms\n",
      "7:\tlearn: 2.0002313\ttotal: 8.01ms\tremaining: 16ms\n",
      "8:\tlearn: 1.9746400\ttotal: 8.99ms\tremaining: 15ms\n",
      "9:\tlearn: 1.9547134\ttotal: 9.96ms\tremaining: 14ms\n",
      "10:\tlearn: 1.9405193\ttotal: 10.9ms\tremaining: 12.9ms\n",
      "11:\tlearn: 1.9202701\ttotal: 12ms\tremaining: 12ms\n",
      "12:\tlearn: 1.9123198\ttotal: 13.1ms\tremaining: 11.1ms\n",
      "13:\tlearn: 1.8978359\ttotal: 14.1ms\tremaining: 10.1ms\n",
      "14:\tlearn: 1.8896408\ttotal: 14.8ms\tremaining: 8.89ms\n",
      "15:\tlearn: 1.8824103\ttotal: 15.8ms\tremaining: 7.88ms\n",
      "16:\tlearn: 1.8633652\ttotal: 16.7ms\tremaining: 6.87ms\n",
      "17:\tlearn: 1.8438522\ttotal: 17.6ms\tremaining: 5.87ms\n",
      "18:\tlearn: 1.8236133\ttotal: 18.6ms\tremaining: 4.89ms\n",
      "19:\tlearn: 1.8069983\ttotal: 19.5ms\tremaining: 3.91ms\n",
      "20:\tlearn: 1.7825999\ttotal: 20.5ms\tremaining: 2.93ms\n",
      "21:\tlearn: 1.7753004\ttotal: 21.5ms\tremaining: 1.95ms\n",
      "22:\tlearn: 1.7662469\ttotal: 22.4ms\tremaining: 974us\n",
      "23:\tlearn: 1.7553340\ttotal: 23.4ms\tremaining: 0us\n",
      "0:\tlearn: 2.5847692\ttotal: 1.12ms\tremaining: 25.7ms\n",
      "1:\tlearn: 2.3822262\ttotal: 2.39ms\tremaining: 26.3ms\n",
      "2:\tlearn: 2.2512232\ttotal: 3.41ms\tremaining: 23.9ms\n",
      "3:\tlearn: 2.1755519\ttotal: 4.34ms\tremaining: 21.7ms\n",
      "4:\tlearn: 2.1441128\ttotal: 5.25ms\tremaining: 19.9ms\n",
      "5:\tlearn: 2.0847752\ttotal: 6.23ms\tremaining: 18.7ms\n",
      "6:\tlearn: 2.0417542\ttotal: 7.25ms\tremaining: 17.6ms\n",
      "7:\tlearn: 2.0002313\ttotal: 8.17ms\tremaining: 16.3ms\n",
      "8:\tlearn: 1.9746400\ttotal: 9.13ms\tremaining: 15.2ms\n",
      "9:\tlearn: 1.9547134\ttotal: 10.1ms\tremaining: 14.1ms\n",
      "10:\tlearn: 1.9405193\ttotal: 11ms\tremaining: 12.9ms\n",
      "11:\tlearn: 1.9202701\ttotal: 11.9ms\tremaining: 11.9ms\n",
      "12:\tlearn: 1.9123198\ttotal: 12.8ms\tremaining: 10.8ms\n",
      "13:\tlearn: 1.8978359\ttotal: 13.7ms\tremaining: 9.8ms\n",
      "14:\tlearn: 1.8896408\ttotal: 14.5ms\tremaining: 8.7ms\n",
      "15:\tlearn: 1.8824103\ttotal: 15.5ms\tremaining: 7.74ms\n",
      "16:\tlearn: 1.8633652\ttotal: 16.4ms\tremaining: 6.77ms\n",
      "17:\tlearn: 1.8438522\ttotal: 17.5ms\tremaining: 5.82ms\n",
      "18:\tlearn: 1.8236133\ttotal: 18.5ms\tremaining: 4.88ms\n",
      "19:\tlearn: 1.8069983\ttotal: 19.5ms\tremaining: 3.9ms\n",
      "20:\tlearn: 1.7825999\ttotal: 20.4ms\tremaining: 2.92ms\n",
      "21:\tlearn: 1.7753004\ttotal: 21.3ms\tremaining: 1.94ms\n",
      "22:\tlearn: 1.7662469\ttotal: 22.2ms\tremaining: 966us\n",
      "23:\tlearn: 1.7553340\ttotal: 23.2ms\tremaining: 0us\n"
     ]
    }
   ],
   "source": [
    "# 학습\n",
    "best_model.fit(X_train, y_train)\n",
    "\n",
    "# 예측\n",
    "y_predict = best_model.fit(X_train, y_train).predict(X_test)"
   ]
  },
  {
   "cell_type": "code",
   "execution_count": 95,
   "id": "0c0c4532",
   "metadata": {},
   "outputs": [
    {
     "data": {
      "text/html": [
       "<div>\n",
       "<style scoped>\n",
       "    .dataframe tbody tr th:only-of-type {\n",
       "        vertical-align: middle;\n",
       "    }\n",
       "\n",
       "    .dataframe tbody tr th {\n",
       "        vertical-align: top;\n",
       "    }\n",
       "\n",
       "    .dataframe thead th {\n",
       "        text-align: right;\n",
       "    }\n",
       "</style>\n",
       "<table border=\"1\" class=\"dataframe\">\n",
       "  <thead>\n",
       "    <tr style=\"text-align: right;\">\n",
       "      <th></th>\n",
       "      <th>id</th>\n",
       "      <th>revenue</th>\n",
       "    </tr>\n",
       "  </thead>\n",
       "  <tbody>\n",
       "    <tr>\n",
       "      <th>0</th>\n",
       "      <td>3001</td>\n",
       "      <td>1.189275e+06</td>\n",
       "    </tr>\n",
       "    <tr>\n",
       "      <th>1</th>\n",
       "      <td>3002</td>\n",
       "      <td>2.055593e+05</td>\n",
       "    </tr>\n",
       "    <tr>\n",
       "      <th>2</th>\n",
       "      <td>3003</td>\n",
       "      <td>4.958939e+06</td>\n",
       "    </tr>\n",
       "    <tr>\n",
       "      <th>3</th>\n",
       "      <td>3004</td>\n",
       "      <td>2.841095e+06</td>\n",
       "    </tr>\n",
       "    <tr>\n",
       "      <th>4</th>\n",
       "      <td>3005</td>\n",
       "      <td>7.175833e+05</td>\n",
       "    </tr>\n",
       "    <tr>\n",
       "      <th>...</th>\n",
       "      <td>...</td>\n",
       "      <td>...</td>\n",
       "    </tr>\n",
       "    <tr>\n",
       "      <th>4393</th>\n",
       "      <td>7394</td>\n",
       "      <td>1.851041e+07</td>\n",
       "    </tr>\n",
       "    <tr>\n",
       "      <th>4394</th>\n",
       "      <td>7395</td>\n",
       "      <td>4.964957e+07</td>\n",
       "    </tr>\n",
       "    <tr>\n",
       "      <th>4395</th>\n",
       "      <td>7396</td>\n",
       "      <td>4.052237e+07</td>\n",
       "    </tr>\n",
       "    <tr>\n",
       "      <th>4396</th>\n",
       "      <td>7397</td>\n",
       "      <td>2.998035e+06</td>\n",
       "    </tr>\n",
       "    <tr>\n",
       "      <th>4397</th>\n",
       "      <td>7398</td>\n",
       "      <td>6.465113e+05</td>\n",
       "    </tr>\n",
       "  </tbody>\n",
       "</table>\n",
       "<p>4398 rows × 2 columns</p>\n",
       "</div>"
      ],
      "text/plain": [
       "        id       revenue\n",
       "0     3001  1.189275e+06\n",
       "1     3002  2.055593e+05\n",
       "2     3003  4.958939e+06\n",
       "3     3004  2.841095e+06\n",
       "4     3005  7.175833e+05\n",
       "...    ...           ...\n",
       "4393  7394  1.851041e+07\n",
       "4394  7395  4.964957e+07\n",
       "4395  7396  4.052237e+07\n",
       "4396  7397  2.998035e+06\n",
       "4397  7398  6.465113e+05\n",
       "\n",
       "[4398 rows x 2 columns]"
      ]
     },
     "execution_count": 95,
     "metadata": {},
     "output_type": "execute_result"
    }
   ],
   "source": [
    "submission[\"revenue\"] = np.exp(y_predict) - 1\n",
    "submission"
   ]
  },
  {
   "cell_type": "code",
   "execution_count": 96,
   "id": "c102c639",
   "metadata": {},
   "outputs": [],
   "source": [
    "submission.to_csv(f\"data/box-office/submission_{rmsle}.csv\", index=False)"
   ]
  },
  {
   "cell_type": "code",
   "execution_count": null,
   "id": "6209df7d",
   "metadata": {},
   "outputs": [],
   "source": []
  }
 ],
 "metadata": {
  "kernelspec": {
   "display_name": "Python 3 (ipykernel)",
   "language": "python",
   "name": "python3"
  },
  "language_info": {
   "codemirror_mode": {
    "name": "ipython",
    "version": 3
   },
   "file_extension": ".py",
   "mimetype": "text/x-python",
   "name": "python",
   "nbconvert_exporter": "python",
   "pygments_lexer": "ipython3",
   "version": "3.9.12"
  },
  "toc": {
   "base_numbering": 1,
   "nav_menu": {},
   "number_sections": true,
   "sideBar": true,
   "skip_h1_title": false,
   "title_cell": "Table of Contents",
   "title_sidebar": "Contents",
   "toc_cell": false,
   "toc_position": {
    "height": "calc(100% - 180px)",
    "left": "10px",
    "top": "150px",
    "width": "374.594px"
   },
   "toc_section_display": true,
   "toc_window_display": true
  }
 },
 "nbformat": 4,
 "nbformat_minor": 5
}
